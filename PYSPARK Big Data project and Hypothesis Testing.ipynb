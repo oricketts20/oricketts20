{
  "cells": [
    {
      "cell_type": "code",
      "execution_count": null,
      "metadata": {
        "id": "C1UFYPmRxcUS",
        "outputId": "15813ded-7d38-4898-d20f-f4261c1105c4",
        "colab": {
          "base_uri": "https://localhost:8080/"
        }
      },
      "outputs": [
        {
          "output_type": "stream",
          "name": "stdout",
          "text": [
            "sample_data\n"
          ]
        }
      ],
      "source": [
        "# check if this instance of the notebook already has files present\n",
        "# and thus determine which steps required prior to reading in file and handling the data\n",
        "!ls"
      ]
    },
    {
      "cell_type": "code",
      "execution_count": null,
      "metadata": {
        "id": "0XhiDpSMDSt9",
        "outputId": "00a689e5-ca29-41dd-b90b-d536e4f7dbfd",
        "colab": {
          "base_uri": "https://localhost:8080/"
        }
      },
      "outputs": [
        {
          "output_type": "stream",
          "name": "stdout",
          "text": [
            "Collecting pyspark\n",
            "  Downloading pyspark-3.5.1.tar.gz (317.0 MB)\n",
            "\u001b[2K     \u001b[90m━━━━━━━━━━━━━━━━━━━━━━━━━━━━━━━━━━━━━━━━\u001b[0m \u001b[32m317.0/317.0 MB\u001b[0m \u001b[31m4.3 MB/s\u001b[0m eta \u001b[36m0:00:00\u001b[0m\n",
            "\u001b[?25h  Preparing metadata (setup.py) ... \u001b[?25l\u001b[?25hdone\n",
            "Requirement already satisfied: py4j==0.10.9.7 in /usr/local/lib/python3.10/dist-packages (from pyspark) (0.10.9.7)\n",
            "Building wheels for collected packages: pyspark\n",
            "  Building wheel for pyspark (setup.py) ... \u001b[?25l\u001b[?25hdone\n",
            "  Created wheel for pyspark: filename=pyspark-3.5.1-py2.py3-none-any.whl size=317488491 sha256=adc7989907774ccbee0b0538484e166948b7207713b8ea9f8e88f62176d581a2\n",
            "  Stored in directory: /root/.cache/pip/wheels/80/1d/60/2c256ed38dddce2fdd93be545214a63e02fbd8d74fb0b7f3a6\n",
            "Successfully built pyspark\n",
            "Installing collected packages: pyspark\n",
            "Successfully installed pyspark-3.5.1\n",
            "Collecting findspark\n",
            "  Downloading findspark-2.0.1-py2.py3-none-any.whl (4.4 kB)\n",
            "Installing collected packages: findspark\n",
            "Successfully installed findspark-2.0.1\n"
          ]
        }
      ],
      "source": [
        "!pip install pyspark\n",
        "#nstall findspark if not already installed\n",
        "!pip3 install findspark"
      ]
    },
    {
      "cell_type": "code",
      "execution_count": null,
      "metadata": {
        "id": "GPcI4uy4DYBA"
      },
      "outputs": [],
      "source": [
        "import os\n",
        "import findspark"
      ]
    },
    {
      "cell_type": "code",
      "execution_count": null,
      "metadata": {
        "id": "i-QpPGH4C3ds",
        "outputId": "9f6e891a-cec4-4abd-e384-b04eed5d034c",
        "colab": {
          "base_uri": "https://localhost:8080/"
        }
      },
      "outputs": [
        {
          "output_type": "stream",
          "name": "stdout",
          "text": [
            "\n",
            "Welcome to advanced top sites\n",
            "sample_data\n",
            "--2024-06-13 16:53:53--  https://downloads.apache.org/spark/spark-3.4.3/spark-3.4.3-bin-hadoop3.tgz\n",
            "Resolving downloads.apache.org (downloads.apache.org)... 88.99.208.237, 135.181.214.104, 2a01:4f8:10a:39da::2, ...\n",
            "Connecting to downloads.apache.org (downloads.apache.org)|88.99.208.237|:443... connected.\n",
            "HTTP request sent, awaiting response... 200 OK\n",
            "Length: 388930980 (371M) [application/x-gzip]\n",
            "Saving to: ‘spark-3.4.3-bin-hadoop3.tgz’\n",
            "\n",
            "spark-3.4.3-bin-had 100%[===================>] 370.91M  26.9MB/s    in 14s     \n",
            "\n",
            "2024-06-13 16:54:08 (26.1 MB/s) - ‘spark-3.4.3-bin-hadoop3.tgz’ saved [388930980/388930980]\n",
            "\n",
            "total 379836\n",
            "drwxr-xr-x  1 root root      4096 Jun 13 16:54 .\n",
            "drwxr-xr-x  1 root root      4096 Jun 13 16:51 ..\n",
            "drwxr-xr-x  1 root root      4096 Jun 12 18:22 sample_data\n",
            "drwxr-xr-x  4 root root      4096 Jun 12 18:21 .config\n",
            "-rw-r--r--  1 root root 388930980 Apr 15 01:30 spark-3.4.3-bin-hadoop3.tgz\n",
            "drwxr-xr-x 13 1000 1000      4096 Apr 15 01:28 spark-3.4.3-bin-hadoop3\n"
          ]
        }
      ],
      "source": [
        "# set-up spark (NB if Apache amend versions on download site we will need to amend path in wget command)\n",
        "print(\"\\nWelcome to advanced top sites\")\n",
        "!ls\n",
        "!rm -f spark-3.4.[01]-bin-hadoop3.tgz*\n",
        "!rm -rf spark-3.4.[01]-bin-hadoop3\n",
        "!apt-get install openjdk-8-jdk-headless -qq > /dev/null\n",
        "!wget https://downloads.apache.org/spark/spark-3.4.3/spark-3.4.3-bin-hadoop3.tgz\n",
        "!tar -xf spark-3.4.3-bin-hadoop3.tgz\n",
        "!ls -alt"
      ]
    },
    {
      "cell_type": "code",
      "execution_count": null,
      "metadata": {
        "id": "YXMGyJX1Cwli",
        "outputId": "5bbc037a-0b1e-451b-9974-99e109e4fac1",
        "colab": {
          "base_uri": "https://localhost:8080/",
          "height": 219
        }
      },
      "outputs": [
        {
          "output_type": "execute_result",
          "data": {
            "text/plain": [
              "<pyspark.sql.session.SparkSession at 0x7b00e03b0520>"
            ],
            "text/html": [
              "\n",
              "            <div>\n",
              "                <p><b>SparkSession - in-memory</b></p>\n",
              "                \n",
              "        <div>\n",
              "            <p><b>SparkContext</b></p>\n",
              "\n",
              "            <p><a href=\"http://56d6b0929059:4040\">Spark UI</a></p>\n",
              "\n",
              "            <dl>\n",
              "              <dt>Version</dt>\n",
              "                <dd><code>v3.4.3</code></dd>\n",
              "              <dt>Master</dt>\n",
              "                <dd><code>local[*]</code></dd>\n",
              "              <dt>AppName</dt>\n",
              "                <dd><code>pyspark-shell</code></dd>\n",
              "            </dl>\n",
              "        </div>\n",
              "        \n",
              "            </div>\n",
              "        "
            ]
          },
          "metadata": {},
          "execution_count": 5
        }
      ],
      "source": [
        "# init spark (ensure SPARK_HOME set to same version as we download earlier)\n",
        "os.environ[\"JAVA_HOME\"] = \"/usr/lib/jvm/java-8-openjdk-amd64\"\n",
        "os.environ[\"SPARK_HOME\"] = \"/content/spark-3.4.3-bin-hadoop3\"\n",
        "findspark.init()\n",
        "from pyspark import SparkConf, SparkContext\n",
        "# the next line gives us 'local' mode. try 'local[2]' to use 2 cores or 'master:NNNN' to run on Spark standalone cluster at port NNNN\n",
        "spark_conf = SparkConf().setMaster('local[2]').setAppName('MyApp')\n",
        "#sc = SparkContext(conf=spark_conf)\n",
        "# see what we have by examining the Spark User Interface\n",
        "from pyspark.sql import *\n",
        "from pyspark.sql.functions import *\n",
        "SparkSession.builder.getOrCreate()\n",
        "##"
      ]
    },
    {
      "cell_type": "code",
      "execution_count": null,
      "metadata": {
        "id": "aSP41vmrHT50"
      },
      "outputs": [],
      "source": [
        "spark = SparkSession.builder.appName(\"bikes\").getOrCreate()"
      ]
    },
    {
      "cell_type": "code",
      "execution_count": null,
      "metadata": {
        "id": "akhWMnrMCwnW",
        "outputId": "e2472d5b-2acc-4690-f425-27b230390e5b",
        "colab": {
          "base_uri": "https://localhost:8080/"
        }
      },
      "outputs": [
        {
          "output_type": "stream",
          "name": "stdout",
          "text": [
            "--2024-06-13 16:54:31--  https://cycling.data.tfl.gov.uk/usage-stats/cyclehireusagestats-2014.zip\n",
            "Resolving cycling.data.tfl.gov.uk (cycling.data.tfl.gov.uk)... 104.16.98.104, 104.16.97.104\n",
            "Connecting to cycling.data.tfl.gov.uk (cycling.data.tfl.gov.uk)|104.16.98.104|:443... connected.\n",
            "HTTP request sent, awaiting response... 200 OK\n",
            "Length: 225215129 (215M) [application/zip]\n",
            "Saving to: ‘cyclehireusagestats-2014.zip’\n",
            "\n",
            "cyclehireusagestats 100%[===================>] 214.78M  15.3MB/s    in 15s     \n",
            "\n",
            "2024-06-13 16:54:46 (14.3 MB/s) - ‘cyclehireusagestats-2014.zip’ saved [225215129/225215129]\n",
            "\n",
            "Archive:  cyclehireusagestats-2014.zip\n",
            "  inflating: 1. Journey Data Extract 05Jan14-02Feb14.csv  \n",
            "  inflating: 10a. Journey Data Extract 14Sep14-27Sep14.csv  \n",
            "  inflating: 10b. Journey Data Extract 28Sep14-11Oct14.csv  \n",
            "  inflating: 11a. Journey Data Extract 12Oct14-08Nov14.csv  \n",
            "  inflating: 11b. Journey Data Extract 12Oct14-08Nov14.csv  \n",
            "  inflating: 12a. Journey Data Extract 09Nov14-06Dec14.csv  \n",
            "  inflating: 12b. Journey Data Extract 09Nov14-06Dec14.csv  \n",
            "  inflating: 13a. Journey Data Extract 07Dec14-21Dec14.csv  \n",
            "  inflating: 13b. Journey Data Extract 22Dec14-03Jan15.csv  \n",
            "  inflating: 14. Journey Data Extract 08Dec13-04Jan14.csv  \n",
            "  inflating: 2. Journey Data Extract 03Feb14-01Mar14.csv  \n",
            "  inflating: 3. Journey Data Extract 02Mar14-31Mar14.csv  \n",
            "  inflating: 4. Journey Data Extract 01Apr14-26Apr14.csv  \n",
            "  inflating: 5. Journey Data Extract 27Apr14-24May14.csv  \n",
            "  inflating: 6. Journey Data Extract 25May14-21Jun14.csv  \n",
            "  inflating: 7. Journey Data Extract 22Jun14-19Jul14.csv  \n",
            "  inflating: 8a Journey Data Extract 20Jul14-31Jul14.csv  \n",
            "  inflating: 8b Journey Data Extract 01Aug14-16Aug14.csv  \n",
            "  inflating: 9a Journey Data Extract 17Aug14-31Aug14.csv  \n",
            "  inflating: 9b Journey Data Extract 01Sep14-13Sep14.csv  \n"
          ]
        }
      ],
      "source": [
        "# get file for given year from TfL open data\n",
        "!wget https://cycling.data.tfl.gov.uk/usage-stats/cyclehireusagestats-2014.zip\n",
        "!unzip cyclehireusagestats-2014.zip"
      ]
    },
    {
      "cell_type": "code",
      "execution_count": null,
      "metadata": {
        "id": "TdGRUJmACwpb",
        "outputId": "f11086a6-03fa-4b74-eddb-3126bfdf2674",
        "colab": {
          "base_uri": "https://localhost:8080/"
        }
      },
      "outputs": [
        {
          "output_type": "stream",
          "name": "stdout",
          "text": [
            "+---------+--------+-------+----------------+-------------+--------------------+----------------+---------------+--------------------+\n",
            "|Rental Id|Duration|Bike Id|        End Date|EndStation Id|     EndStation Name|      Start Date|StartStation Id|   StartStation Name|\n",
            "+---------+--------+-------+----------------+-------------+--------------------+----------------+---------------+--------------------+\n",
            "| 34263367|    1080|   9076|24/06/2014 00:57|          695|Islington Green, ...|24/06/2014 00:39|            311|Foley Street, Fit...|\n",
            "| 34603487|     660|   6328|03/07/2014 11:51|          695|Islington Green, ...|03/07/2014 11:40|             22|Northington Stree...|\n",
            "| 34689078|     120|   2006|05/07/2014 15:09|          357|Howland Street, F...|05/07/2014 15:07|            311|Foley Street, Fit...|\n",
            "| 34724273|    1260|   7904|06/07/2014 16:35|          695|Islington Green, ...|06/07/2014 16:14|            311|Foley Street, Fit...|\n",
            "| 34956750|    1500|   8251|13/07/2014 00:41|           93|Cloudesley Road, ...|13/07/2014 00:16|            311|Foley Street, Fit...|\n",
            "| 34946549|    1380|   6997|12/07/2014 18:35|          430|South Parade, Che...|12/07/2014 18:12|            514|Portman Square, M...|\n",
            "| 35011368|    2820|   4193|14/07/2014 15:49|          573|Limerston Street,...|14/07/2014 15:02|             14|Belgrove Street ,...|\n",
            "| 35027649|     180|   9781|14/07/2014 19:50|          430|South Parade, Che...|14/07/2014 19:47|            216|Old Brompton Road...|\n",
            "| 35057973|     420|   5133|15/07/2014 17:17|          356|South Kensington ...|15/07/2014 17:10|            216|Old Brompton Road...|\n",
            "| 35086123|    1200|    190|16/07/2014 09:31|          290|Winsland Street, ...|16/07/2014 09:11|            430|South Parade, Che...|\n",
            "+---------+--------+-------+----------------+-------------+--------------------+----------------+---------------+--------------------+\n",
            "only showing top 10 rows\n",
            "\n"
          ]
        }
      ],
      "source": [
        "file1 = \"./1. Journey*csv\"  # 05 Jan to 02 Feb\n",
        "file2 = \"./2. Journey*csv\"  # 03 Feb to 01 Mar\n",
        "file3 = \"./3. Journey*csv\"  # 02 Mar to 31 Mar\n",
        "file4 = \"./4. Journey*csv\"  # 01 Apr to 26 Apr\n",
        "file5 = \"./5. Journey*csv\"  # 27 Apr to 24 May\n",
        "file6 = \"./6. Journey*csv\"  # 25 May - 21 Jun\n",
        "file7 = \"./7. Journey*csv\"  # 22 Jun to 19 Jul\n",
        "file8a = \"./8a Journey*csv\"  # 20 Jul to 31 Jul\n",
        "file8b = \"./8b Journey*csv\"  # 1 Aug to 16 Aug\n",
        "#file9a = \"./9a Journey*csv\"  # 17 Aug to 31 Aug\n",
        "file9b = \"./9b Journey*csv\"  # 01 Sep to 13 Sep\n",
        "file10a = \"./10a. Journey*csv\"  # 14 Sep to 27 Sep\n",
        "#file10b = \"./10b. Journey*csv\"  # 28 Sep to 11 Oct\n",
        "file11a = \"./11a. Journey*csv\"  # 12 Oct to 08 Nov\n",
        "file11b = \"./11b. Journey*csv\"  # 12 Oct to 08 Nov\n",
        "file12a = \"./12a. Journey*csv\"  # 09 Nov to 06 Dec\n",
        "file12b = \"./12b. Journey*csv\"  # 09 Nov to 06 Dec\n",
        "file13a = \"./13a. Journey*csv\"  # 07 Dec to 21 Dec\n",
        "#file13b = \"./13b. Journey*csv\"  # 22 Dec to 3rd Jan\n",
        "file14 = \"./14. Journey*csv\"  # 08 Dec to 04 Jan (so this is the earliest file, carries on to file 1)\n",
        "\n",
        "# Combine non-erronous file paths into a list\n",
        "all_files = [file1, file2, file3, file4, file5,\n",
        "             file6, file7, file8a, file8b, file9b,\n",
        "             file10a, file11a, file11b,\n",
        "             file12a, file12b, file13a, file14]\n",
        "\n",
        "# Load these files into a single DataFrame\n",
        "combined_df = spark.read.format(\"csv\") \\\n",
        "                        .option(\"header\", \"true\") \\\n",
        "                        .option(\"inferSchema\", \"true\") \\\n",
        "                        .load(all_files)\n",
        "\n",
        "# Show top 10 rows of the combined DataFrame\n",
        "combined_df.show(10)"
      ]
    },
    {
      "cell_type": "code",
      "execution_count": null,
      "metadata": {
        "id": "4m0AM1YgVITd",
        "outputId": "03705230-0e34-4865-9068-ad3b29dad3a5",
        "colab": {
          "base_uri": "https://localhost:8080/"
        }
      },
      "outputs": [
        {
          "output_type": "stream",
          "name": "stdout",
          "text": [
            "root\n",
            " |-- Rental Id: string (nullable = true)\n",
            " |-- Duration: string (nullable = true)\n",
            " |-- Bike Id: string (nullable = true)\n",
            " |-- End Date: string (nullable = true)\n",
            " |-- EndStation Id: string (nullable = true)\n",
            " |-- EndStation Name: string (nullable = true)\n",
            " |-- Start Date: string (nullable = true)\n",
            " |-- StartStation Id: string (nullable = true)\n",
            " |-- StartStation Name: string (nullable = true)\n",
            "\n"
          ]
        }
      ],
      "source": [
        "combined_df.printSchema()"
      ]
    },
    {
      "cell_type": "code",
      "execution_count": null,
      "metadata": {
        "id": "rhxHlw9K-xg3",
        "outputId": "799cd312-e832-4566-b321-d83dc4fc1fc8",
        "colab": {
          "base_uri": "https://localhost:8080/"
        }
      },
      "outputs": [
        {
          "output_type": "stream",
          "name": "stdout",
          "text": [
            "+---------+--------+-------+--------+-------------+---------------+----------+---------------+-----------------+\n",
            "|Rental Id|Duration|Bike Id|End Date|EndStation Id|EndStation Name|Start Date|StartStation Id|StartStation Name|\n",
            "+---------+--------+-------+--------+-------------+---------------+----------+---------------+-----------------+\n",
            "|        0|       0|      0|       0|          111|            111|         0|              0|                0|\n",
            "+---------+--------+-------+--------+-------------+---------------+----------+---------------+-----------------+\n",
            "\n"
          ]
        }
      ],
      "source": [
        "# Count the number of null values in each column\n",
        "missing_values = combined_df.select([col(c).isNull().cast(\"int\").alias(c) for c in combined_df.columns])\n",
        "\n",
        "# Calculate the total number of missing values in each column\n",
        "missing_values_count = missing_values.agg(*[sum(col(c)).alias(c) for c in missing_values.columns])\n",
        "\n",
        "# Show the total number of missing values in each column\n",
        "missing_values_count.show()"
      ]
    },
    {
      "cell_type": "code",
      "execution_count": null,
      "metadata": {
        "id": "PifphC5bDBQ5"
      },
      "outputs": [],
      "source": [
        "from pyspark.sql.types import StructType, StructField, StringType"
      ]
    },
    {
      "cell_type": "code",
      "execution_count": null,
      "metadata": {
        "id": "lbqzcx6RC-ba"
      },
      "outputs": [],
      "source": [
        "#define a schema\n",
        "schema = StructType([\n",
        "    StructField(\"Rental Id\", StringType(), True),\n",
        "    StructField(\"Duration\", StringType(), True),\n",
        "    StructField(\"Bike Id\", StringType(), True),\n",
        "    StructField(\"End Date\", StringType(), True),\n",
        "    StructField(\"EndStation Id\", StringType(), True),\n",
        "    StructField(\"EndStation Name\", StringType(), True),\n",
        "    StructField(\"Start Date\", StringType(), True),\n",
        "    StructField(\"StartStation Id\", StringType(), True),\n",
        "    StructField(\"StartStation Name\", StringType(), True)\n",
        "])\n",
        "\n",
        "# Load AugA_df with the specified schema\n",
        "AugA_df = spark.read.format(\"csv\") \\\n",
        "                    .option(\"header\", \"true\") \\\n",
        "                    .schema(schema) \\\n",
        "                    .load('./9a*csv')"
      ]
    },
    {
      "cell_type": "code",
      "execution_count": null,
      "metadata": {
        "id": "aiHv89CPDjwJ",
        "outputId": "f8ff58c0-1479-4c98-db66-96107de3dd59",
        "colab": {
          "base_uri": "https://localhost:8080/"
        }
      },
      "outputs": [
        {
          "output_type": "stream",
          "name": "stdout",
          "text": [
            "+---------+--------+-------+----------------+-------------+--------------------+----------------+---------------+--------------------+\n",
            "|Rental Id|Duration|Bike Id|        End Date|EndStation Id|     EndStation Name|      Start Date|StartStation Id|   StartStation Name|\n",
            "+---------+--------+-------+----------------+-------------+--------------------+----------------+---------------+--------------------+\n",
            "| 36389367|     300|   4107|17/08/2014 00:05|          206|New Road 1 , Whit...|17/08/2014 00:00|            444|Bethnal Green Gar...|\n",
            "| 36389361|    1140|   3763|17/08/2014 00:19|          186|South Wharf Road,...|17/08/2014 00:00|            713|Hawley Crescent, ...|\n",
            "| 36389355|     120|   2284|17/08/2014 00:02|          432|Exhibition Road M...|17/08/2014 00:00|            428|Exhibition Road, ...|\n",
            "| 36389352|     360|    446|17/08/2014 00:06|          433|Wren Street, Holborn|17/08/2014 00:00|            436|Red Lion Street, ...|\n",
            "| 36389372|     240|   7835|17/08/2014 00:04|          635|Greyhound Road, H...|17/08/2014 00:00|            707|Barons Court Stat...|\n",
            "| 36389375|    1440|  12692|17/08/2014 00:24|           33|Altab Ali Park, W...|17/08/2014 00:00|            192|Wardour Street, Soho|\n",
            "| 36389376|    1440|   9700|17/08/2014 00:24|           33|Altab Ali Park, W...|17/08/2014 00:00|            192|Wardour Street, Soho|\n",
            "| 36389365|    1380|   1382|17/08/2014 00:23|          202|Leman Street, Ald...|17/08/2014 00:00|            762|Storey's Gate, We...|\n",
            "| 36389353|     240|  10638|17/08/2014 00:04|          469|Lindfield Street,...|17/08/2014 00:00|            510|Westferry DLR, Li...|\n",
            "| 36389351|     540|   9525|17/08/2014 00:09|           33|Altab Ali Park, W...|17/08/2014 00:00|            115|Braham Street, Al...|\n",
            "+---------+--------+-------+----------------+-------------+--------------------+----------------+---------------+--------------------+\n",
            "only showing top 10 rows\n",
            "\n"
          ]
        }
      ],
      "source": [
        "AugA_df.show(10)"
      ]
    },
    {
      "cell_type": "code",
      "execution_count": null,
      "metadata": {
        "id": "VjysygXMD0HZ",
        "outputId": "ef775c81-d674-47cb-d7ad-ac12d36fa79d",
        "colab": {
          "base_uri": "https://localhost:8080/"
        }
      },
      "outputs": [
        {
          "output_type": "stream",
          "name": "stdout",
          "text": [
            "Number of rows in AugA_df: 902300\n"
          ]
        }
      ],
      "source": [
        "row_count = AugA_df.count()\n",
        "print(\"Number of rows in AugA_df:\", row_count)"
      ]
    },
    {
      "cell_type": "code",
      "execution_count": null,
      "metadata": {
        "id": "N9Jbfth2KL2f",
        "outputId": "1b377f01-efe6-4ab7-db75-92cd8a24a95e",
        "colab": {
          "base_uri": "https://localhost:8080/"
        }
      },
      "outputs": [
        {
          "output_type": "stream",
          "name": "stdout",
          "text": [
            "root\n",
            " |-- Rental Id: string (nullable = true)\n",
            " |-- Duration: string (nullable = true)\n",
            " |-- Bike Id: string (nullable = true)\n",
            " |-- End Date: string (nullable = true)\n",
            " |-- EndStation Id: string (nullable = true)\n",
            " |-- EndStation Name: string (nullable = true)\n",
            " |-- Start Date: string (nullable = true)\n",
            " |-- StartStation Id: string (nullable = true)\n",
            " |-- StartStation Name: string (nullable = true)\n",
            "\n"
          ]
        }
      ],
      "source": [
        "AugA_df.printSchema()"
      ]
    },
    {
      "cell_type": "code",
      "execution_count": null,
      "metadata": {
        "id": "0C5Bke1DNAM8",
        "outputId": "7f240459-4c1e-44d5-d335-b396d52520e9",
        "colab": {
          "base_uri": "https://localhost:8080/"
        }
      },
      "outputs": [
        {
          "output_type": "stream",
          "name": "stdout",
          "text": [
            "+---------+--------+-------+--------+-------------+---------------+----------+---------------+-----------------+\n",
            "|Rental Id|Duration|Bike Id|End Date|EndStation Id|EndStation Name|Start Date|StartStation Id|StartStation Name|\n",
            "+---------+--------+-------+--------+-------------+---------------+----------+---------------+-----------------+\n",
            "|   452136|  452136| 452136|  452136|       452144|         452144|    452136|         452136|           452136|\n",
            "+---------+--------+-------+--------+-------------+---------------+----------+---------------+-----------------+\n",
            "\n"
          ]
        }
      ],
      "source": [
        "# Count the number of null values in each column\n",
        "missing_values = AugA_df.select([col(c).isNull().cast(\"int\").alias(c) for c in AugA_df.columns])\n",
        "\n",
        "# Calculate the total number of missing values in each column\n",
        "missing_values_count = missing_values.agg(*[sum(col(c)).alias(c) for c in missing_values.columns])\n",
        "\n",
        "# Show the total number of missing values in each column\n",
        "missing_values_count.show()"
      ]
    },
    {
      "cell_type": "code",
      "execution_count": null,
      "metadata": {
        "id": "i2aitfjx0EDW",
        "outputId": "a99e60e0-19fb-4f2a-884d-95a2932e275d",
        "colab": {
          "base_uri": "https://localhost:8080/"
        }
      },
      "outputs": [
        {
          "output_type": "stream",
          "name": "stdout",
          "text": [
            "root\n",
            " |-- Rental Id: string (nullable = true)\n",
            " |-- Duration: string (nullable = true)\n",
            " |-- Bike Id: string (nullable = true)\n",
            " |-- End Date: string (nullable = true)\n",
            " |-- EndStation Id: string (nullable = true)\n",
            " |-- EndStation Name: string (nullable = true)\n",
            " |-- Start Date: string (nullable = true)\n",
            " |-- StartStation Id: string (nullable = true)\n",
            " |-- StartStation Name: string (nullable = true)\n",
            "\n"
          ]
        }
      ],
      "source": [
        "combined_df.printSchema()"
      ]
    },
    {
      "cell_type": "code",
      "execution_count": null,
      "metadata": {
        "id": "FX89gBSRMKqN"
      },
      "outputs": [],
      "source": [
        "AugA1_df = AugA_df.filter(col(\"Rental Id\").isNotNull())\n",
        "\n",
        "#removes all instances where all shared columns are null\n",
        "#filtered_df1.show(10)"
      ]
    },
    {
      "cell_type": "code",
      "execution_count": null,
      "metadata": {
        "id": "a2iJsjxFEbdT",
        "outputId": "7a10a363-eb2a-4272-bf07-68915aa57b5a",
        "colab": {
          "base_uri": "https://localhost:8080/"
        }
      },
      "outputs": [
        {
          "output_type": "stream",
          "name": "stdout",
          "text": [
            "Number of rows in AugA_df: 450164\n"
          ]
        }
      ],
      "source": [
        "row_count = AugA1_df.count()\n",
        "print(\"Number of rows in AugA_df:\", row_count)\n",
        "#this is the number in the excel workbook - ready to join"
      ]
    },
    {
      "cell_type": "code",
      "execution_count": null,
      "metadata": {
        "id": "oUou2sFeEeg4",
        "outputId": "fef19e95-c70a-4b3f-89c4-fb9ecaee5cee",
        "colab": {
          "base_uri": "https://localhost:8080/"
        }
      },
      "outputs": [
        {
          "output_type": "stream",
          "name": "stdout",
          "text": [
            "+---------+--------+-------+--------+-------------+---------------+----------+---------------+-----------------+\n",
            "|Rental Id|Duration|Bike Id|End Date|EndStation Id|EndStation Name|Start Date|StartStation Id|StartStation Name|\n",
            "+---------+--------+-------+--------+-------------+---------------+----------+---------------+-----------------+\n",
            "|        0|       0|      0|       0|            8|              8|         0|              0|                0|\n",
            "+---------+--------+-------+--------+-------------+---------------+----------+---------------+-----------------+\n",
            "\n"
          ]
        }
      ],
      "source": [
        "# Count the number of null values in each column\n",
        "missing_values = AugA1_df.select([col(c).isNull().cast(\"int\").alias(c) for c in AugA1_df.columns])\n",
        "\n",
        "# Calculate the total number of missing values in each column\n",
        "missing_values_count = missing_values.agg(*[sum(col(c)).alias(c) for c in missing_values.columns])\n",
        "\n",
        "# Show the total number of missing values in each column\n",
        "missing_values_count.show()"
      ]
    },
    {
      "cell_type": "code",
      "execution_count": null,
      "metadata": {
        "id": "z7qYrFwx_nCY"
      },
      "outputs": [],
      "source": [
        "from pyspark.sql.functions import col\n",
        "\n",
        "# Select only the shared columns between individual df and combined_df\n",
        "shared_columns = list(set(AugA1_df.columns) & set(combined_df.columns))\n",
        "\n",
        "# Union the DataFrames on the shared columns\n",
        "meld_df = AugA1_df.select(*shared_columns).union(combined_df.select(*shared_columns))"
      ]
    },
    {
      "cell_type": "code",
      "execution_count": null,
      "metadata": {
        "id": "0M4iuNqkNSQu",
        "outputId": "b88448d9-56aa-4a17-bc58-6da11c317996",
        "colab": {
          "base_uri": "https://localhost:8080/"
        }
      },
      "outputs": [
        {
          "output_type": "stream",
          "name": "stdout",
          "text": [
            "root\n",
            " |-- StartStation Id: string (nullable = true)\n",
            " |-- Rental Id: string (nullable = true)\n",
            " |-- Bike Id: string (nullable = true)\n",
            " |-- StartStation Name: string (nullable = true)\n",
            " |-- Duration: string (nullable = true)\n",
            " |-- EndStation Name: string (nullable = true)\n",
            " |-- Start Date: string (nullable = true)\n",
            " |-- End Date: string (nullable = true)\n",
            " |-- EndStation Id: string (nullable = true)\n",
            "\n"
          ]
        }
      ],
      "source": [
        "meld_df.printSchema()"
      ]
    },
    {
      "cell_type": "code",
      "execution_count": null,
      "metadata": {
        "id": "4APbUDmUNV2L",
        "outputId": "a02f18ec-0823-4600-a24b-cbeecd645375",
        "colab": {
          "base_uri": "https://localhost:8080/"
        }
      },
      "outputs": [
        {
          "output_type": "stream",
          "name": "stdout",
          "text": [
            "+---------------+---------+-------+-----------------+--------+---------------+----------+--------+-------------+\n",
            "|StartStation Id|Rental Id|Bike Id|StartStation Name|Duration|EndStation Name|Start Date|End Date|EndStation Id|\n",
            "+---------------+---------+-------+-----------------+--------+---------------+----------+--------+-------------+\n",
            "|              0|        0|      0|                0|       0|            119|         0|       0|          119|\n",
            "+---------------+---------+-------+-----------------+--------+---------------+----------+--------+-------------+\n",
            "\n"
          ]
        }
      ],
      "source": [
        "# Count the number of null values in each column\n",
        "missing_values = meld_df.select([col(c).isNull().cast(\"int\").alias(c) for c in meld_df.columns])\n",
        "\n",
        "# Calculate the total number of missing values in each column\n",
        "missing_values_count = missing_values.agg(*[sum(col(c)).alias(c) for c in missing_values.columns])\n",
        "\n",
        "# Show the total number of missing values in each column\n",
        "missing_values_count.show()\n",
        "#confirmed, union was performed correctly with no issues"
      ]
    },
    {
      "cell_type": "code",
      "execution_count": null,
      "metadata": {
        "id": "0D4QUXrr0Ger"
      },
      "outputs": [],
      "source": [
        "Sepb_df = spark.read.format(\"csv\") \\\n",
        "                    .option(\"header\", \"true\") \\\n",
        "                    .schema(schema) \\\n",
        "                    .load('./10b.*csv')  # 25May to 21Jun"
      ]
    },
    {
      "cell_type": "code",
      "execution_count": null,
      "metadata": {
        "id": "RYj8cWD4o_F9"
      },
      "outputs": [],
      "source": [
        "#Sepb_df = spark.read.format(\"csv\") \\\n",
        "                      #  .option(\"header\", \"true\") \\\n",
        "                       # .option(\"inferSchema\", \"true\") \\\n",
        "                       # .load('./10b.*csv)"
      ]
    },
    {
      "cell_type": "code",
      "execution_count": null,
      "metadata": {
        "id": "w5Oi1JoH0W4B",
        "outputId": "1aa5cafd-a1cb-4b40-d167-6126a147a860",
        "colab": {
          "base_uri": "https://localhost:8080/"
        }
      },
      "outputs": [
        {
          "output_type": "stream",
          "name": "stdout",
          "text": [
            "root\n",
            " |-- Rental Id: string (nullable = true)\n",
            " |-- Duration: string (nullable = true)\n",
            " |-- Bike Id: string (nullable = true)\n",
            " |-- End Date: string (nullable = true)\n",
            " |-- EndStation Id: string (nullable = true)\n",
            " |-- EndStation Name: string (nullable = true)\n",
            " |-- Start Date: string (nullable = true)\n",
            " |-- StartStation Id: string (nullable = true)\n",
            " |-- StartStation Name: string (nullable = true)\n",
            "\n"
          ]
        }
      ],
      "source": [
        "Sepb_df.printSchema()"
      ]
    },
    {
      "cell_type": "code",
      "execution_count": null,
      "metadata": {
        "id": "9_5zVlTwEAh5",
        "outputId": "c0ab5c10-2484-4c54-e871-80c16265e7dd",
        "colab": {
          "base_uri": "https://localhost:8080/"
        }
      },
      "outputs": [
        {
          "output_type": "stream",
          "name": "stdout",
          "text": [
            "Number of rows in Sepb_df: 919009\n"
          ]
        }
      ],
      "source": [
        "row_count = Sepb_df.count()\n",
        "print(\"Number of rows in Sepb_df:\", row_count)"
      ]
    },
    {
      "cell_type": "code",
      "execution_count": null,
      "metadata": {
        "id": "Fzt3WSetbyS6",
        "outputId": "3797145a-9377-4960-fe18-45adf07fa227",
        "colab": {
          "base_uri": "https://localhost:8080/"
        }
      },
      "outputs": [
        {
          "output_type": "stream",
          "name": "stdout",
          "text": [
            "+---------+--------+-------+--------+-------------+---------------+----------+---------------+-----------------+\n",
            "|Rental Id|Duration|Bike Id|End Date|EndStation Id|EndStation Name|Start Date|StartStation Id|StartStation Name|\n",
            "+---------+--------+-------+--------+-------------+---------------+----------+---------------+-----------------+\n",
            "|   488627|  488627| 488627|  488627|       488636|         488636|    488627|         488627|           488627|\n",
            "+---------+--------+-------+--------+-------------+---------------+----------+---------------+-----------------+\n",
            "\n"
          ]
        }
      ],
      "source": [
        "# Count the number of null values in each column\n",
        "missing_values = Sepb_df.select([col(c).isNull().cast(\"int\").alias(c) for c in Sepb_df.columns])\n",
        "\n",
        "# Calculate the total number of missing values in each column\n",
        "missing_values_count = missing_values.agg(*[sum(col(c)).alias(c) for c in missing_values.columns])\n",
        "\n",
        "# Show the total number of missing values in each column\n",
        "missing_values_count.show()"
      ]
    },
    {
      "cell_type": "code",
      "execution_count": null,
      "metadata": {
        "id": "q5-d7DgwOj8E"
      },
      "outputs": [],
      "source": [
        "Sepb_df = Sepb_df.filter(col(\"Rental Id\").isNotNull())\n",
        "#same steps as detailed previously, removval of null values when shared across all columns"
      ]
    },
    {
      "cell_type": "code",
      "execution_count": null,
      "metadata": {
        "id": "-skrQnpqOkAX",
        "outputId": "8fb3b3da-5768-49f1-f22c-68eb987c5de4",
        "colab": {
          "base_uri": "https://localhost:8080/"
        }
      },
      "outputs": [
        {
          "output_type": "stream",
          "name": "stdout",
          "text": [
            "Number of rows in Sepb_df: 430382\n"
          ]
        }
      ],
      "source": [
        "row_count = Sepb_df.count()\n",
        "print(\"Number of rows in Sepb_df:\", row_count)\n",
        "#confirmed, the same as expected"
      ]
    },
    {
      "cell_type": "code",
      "execution_count": null,
      "metadata": {
        "id": "pKIrvzsDOwW6",
        "outputId": "4abe44a1-f9f7-4aec-bc74-417282e0b435",
        "colab": {
          "base_uri": "https://localhost:8080/"
        }
      },
      "outputs": [
        {
          "output_type": "stream",
          "name": "stdout",
          "text": [
            "+---------+--------+-------+--------+-------------+---------------+----------+---------------+-----------------+\n",
            "|Rental Id|Duration|Bike Id|End Date|EndStation Id|EndStation Name|Start Date|StartStation Id|StartStation Name|\n",
            "+---------+--------+-------+--------+-------------+---------------+----------+---------------+-----------------+\n",
            "|        0|       0|      0|       0|            9|              9|         0|              0|                0|\n",
            "+---------+--------+-------+--------+-------------+---------------+----------+---------------+-----------------+\n",
            "\n"
          ]
        }
      ],
      "source": [
        "# Count the number of null values in each column\n",
        "missing_values = Sepb_df.select([col(c).isNull().cast(\"int\").alias(c) for c in Sepb_df.columns])\n",
        "\n",
        "# Calculate the total number of missing values in each column\n",
        "missing_values_count = missing_values.agg(*[sum(col(c)).alias(c) for c in missing_values.columns])\n",
        "\n",
        "# Show the total number of missing values in each column\n",
        "missing_values_count.show()"
      ]
    },
    {
      "cell_type": "code",
      "execution_count": null,
      "metadata": {
        "id": "Ah4PuY051syU",
        "outputId": "5634e488-22c4-4e0f-a3b8-65e05ffe7460",
        "colab": {
          "base_uri": "https://localhost:8080/",
          "height": 356
        }
      },
      "outputs": [
        {
          "output_type": "error",
          "ename": "AnalysisException",
          "evalue": "[UNRESOLVED_COLUMN.WITH_SUGGESTION] A column or function parameter with name `_c9` cannot be resolved. Did you mean one of the following? [`Duration`, `Bike Id`, `End Date`, `Rental Id`, `Start Date`].;\n'Project ['_c9, '_c10, '_c11]\n+- Filter isnotnull(Rental Id#765)\n   +- Relation [Rental Id#765,Duration#766,Bike Id#767,End Date#768,EndStation Id#769,EndStation Name#770,Start Date#771,StartStation Id#772,StartStation Name#773] csv\n",
          "traceback": [
            "\u001b[0;31m---------------------------------------------------------------------------\u001b[0m",
            "\u001b[0;31mAnalysisException\u001b[0m                         Traceback (most recent call last)",
            "\u001b[0;32m<ipython-input-32-b7637a61a043>\u001b[0m in \u001b[0;36m<cell line: 2>\u001b[0;34m()\u001b[0m\n\u001b[1;32m      1\u001b[0m \u001b[0;31m#three new columns for this file, lets check if they store any unique values\u001b[0m\u001b[0;34m\u001b[0m\u001b[0;34m\u001b[0m\u001b[0m\n\u001b[0;32m----> 2\u001b[0;31m \u001b[0mSepb_df\u001b[0m\u001b[0;34m[\u001b[0m\u001b[0;34m[\u001b[0m\u001b[0;34m\"_c9\"\u001b[0m\u001b[0;34m,\u001b[0m \u001b[0;34m\"_c10\"\u001b[0m\u001b[0;34m,\u001b[0m \u001b[0;34m\"_c11\"\u001b[0m\u001b[0;34m]\u001b[0m\u001b[0;34m]\u001b[0m\u001b[0;34m.\u001b[0m\u001b[0mdistinct\u001b[0m\u001b[0;34m(\u001b[0m\u001b[0;34m)\u001b[0m\u001b[0;34m.\u001b[0m\u001b[0mshow\u001b[0m\u001b[0;34m(\u001b[0m\u001b[0;34m)\u001b[0m\u001b[0;34m\u001b[0m\u001b[0;34m\u001b[0m\u001b[0m\n\u001b[0m",
            "\u001b[0;32m/content/spark-3.4.3-bin-hadoop3/python/pyspark/sql/dataframe.py\u001b[0m in \u001b[0;36m__getitem__\u001b[0;34m(self, item)\u001b[0m\n\u001b[1;32m   2933\u001b[0m             \u001b[0;32mreturn\u001b[0m \u001b[0mself\u001b[0m\u001b[0;34m.\u001b[0m\u001b[0mfilter\u001b[0m\u001b[0;34m(\u001b[0m\u001b[0mitem\u001b[0m\u001b[0;34m)\u001b[0m\u001b[0;34m\u001b[0m\u001b[0;34m\u001b[0m\u001b[0m\n\u001b[1;32m   2934\u001b[0m         \u001b[0;32melif\u001b[0m \u001b[0misinstance\u001b[0m\u001b[0;34m(\u001b[0m\u001b[0mitem\u001b[0m\u001b[0;34m,\u001b[0m \u001b[0;34m(\u001b[0m\u001b[0mlist\u001b[0m\u001b[0;34m,\u001b[0m \u001b[0mtuple\u001b[0m\u001b[0;34m)\u001b[0m\u001b[0;34m)\u001b[0m\u001b[0;34m:\u001b[0m\u001b[0;34m\u001b[0m\u001b[0;34m\u001b[0m\u001b[0m\n\u001b[0;32m-> 2935\u001b[0;31m             \u001b[0;32mreturn\u001b[0m \u001b[0mself\u001b[0m\u001b[0;34m.\u001b[0m\u001b[0mselect\u001b[0m\u001b[0;34m(\u001b[0m\u001b[0;34m*\u001b[0m\u001b[0mitem\u001b[0m\u001b[0;34m)\u001b[0m\u001b[0;34m\u001b[0m\u001b[0;34m\u001b[0m\u001b[0m\n\u001b[0m\u001b[1;32m   2936\u001b[0m         \u001b[0;32melif\u001b[0m \u001b[0misinstance\u001b[0m\u001b[0;34m(\u001b[0m\u001b[0mitem\u001b[0m\u001b[0;34m,\u001b[0m \u001b[0mint\u001b[0m\u001b[0;34m)\u001b[0m\u001b[0;34m:\u001b[0m\u001b[0;34m\u001b[0m\u001b[0;34m\u001b[0m\u001b[0m\n\u001b[1;32m   2937\u001b[0m             \u001b[0mjc\u001b[0m \u001b[0;34m=\u001b[0m \u001b[0mself\u001b[0m\u001b[0;34m.\u001b[0m\u001b[0m_jdf\u001b[0m\u001b[0;34m.\u001b[0m\u001b[0mapply\u001b[0m\u001b[0;34m(\u001b[0m\u001b[0mself\u001b[0m\u001b[0;34m.\u001b[0m\u001b[0mcolumns\u001b[0m\u001b[0;34m[\u001b[0m\u001b[0mitem\u001b[0m\u001b[0;34m]\u001b[0m\u001b[0;34m)\u001b[0m\u001b[0;34m\u001b[0m\u001b[0;34m\u001b[0m\u001b[0m\n",
            "\u001b[0;32m/content/spark-3.4.3-bin-hadoop3/python/pyspark/sql/dataframe.py\u001b[0m in \u001b[0;36mselect\u001b[0;34m(self, *cols)\u001b[0m\n\u001b[1;32m   3036\u001b[0m         \u001b[0;34m+\u001b[0m\u001b[0;34m-\u001b[0m\u001b[0;34m-\u001b[0m\u001b[0;34m-\u001b[0m\u001b[0;34m-\u001b[0m\u001b[0;34m-\u001b[0m\u001b[0;34m+\u001b[0m\u001b[0;34m-\u001b[0m\u001b[0;34m-\u001b[0m\u001b[0;34m-\u001b[0m\u001b[0;34m+\u001b[0m\u001b[0;34m\u001b[0m\u001b[0;34m\u001b[0m\u001b[0m\n\u001b[1;32m   3037\u001b[0m         \"\"\"\n\u001b[0;32m-> 3038\u001b[0;31m         \u001b[0mjdf\u001b[0m \u001b[0;34m=\u001b[0m \u001b[0mself\u001b[0m\u001b[0;34m.\u001b[0m\u001b[0m_jdf\u001b[0m\u001b[0;34m.\u001b[0m\u001b[0mselect\u001b[0m\u001b[0;34m(\u001b[0m\u001b[0mself\u001b[0m\u001b[0;34m.\u001b[0m\u001b[0m_jcols\u001b[0m\u001b[0;34m(\u001b[0m\u001b[0;34m*\u001b[0m\u001b[0mcols\u001b[0m\u001b[0;34m)\u001b[0m\u001b[0;34m)\u001b[0m\u001b[0;34m\u001b[0m\u001b[0;34m\u001b[0m\u001b[0m\n\u001b[0m\u001b[1;32m   3039\u001b[0m         \u001b[0;32mreturn\u001b[0m \u001b[0mDataFrame\u001b[0m\u001b[0;34m(\u001b[0m\u001b[0mjdf\u001b[0m\u001b[0;34m,\u001b[0m \u001b[0mself\u001b[0m\u001b[0;34m.\u001b[0m\u001b[0msparkSession\u001b[0m\u001b[0;34m)\u001b[0m\u001b[0;34m\u001b[0m\u001b[0;34m\u001b[0m\u001b[0m\n\u001b[1;32m   3040\u001b[0m \u001b[0;34m\u001b[0m\u001b[0m\n",
            "\u001b[0;32m/content/spark-3.4.3-bin-hadoop3/python/lib/py4j-0.10.9.7-src.zip/py4j/java_gateway.py\u001b[0m in \u001b[0;36m__call__\u001b[0;34m(self, *args)\u001b[0m\n\u001b[1;32m   1320\u001b[0m \u001b[0;34m\u001b[0m\u001b[0m\n\u001b[1;32m   1321\u001b[0m         \u001b[0manswer\u001b[0m \u001b[0;34m=\u001b[0m \u001b[0mself\u001b[0m\u001b[0;34m.\u001b[0m\u001b[0mgateway_client\u001b[0m\u001b[0;34m.\u001b[0m\u001b[0msend_command\u001b[0m\u001b[0;34m(\u001b[0m\u001b[0mcommand\u001b[0m\u001b[0;34m)\u001b[0m\u001b[0;34m\u001b[0m\u001b[0;34m\u001b[0m\u001b[0m\n\u001b[0;32m-> 1322\u001b[0;31m         return_value = get_return_value(\n\u001b[0m\u001b[1;32m   1323\u001b[0m             answer, self.gateway_client, self.target_id, self.name)\n\u001b[1;32m   1324\u001b[0m \u001b[0;34m\u001b[0m\u001b[0m\n",
            "\u001b[0;32m/content/spark-3.4.3-bin-hadoop3/python/pyspark/errors/exceptions/captured.py\u001b[0m in \u001b[0;36mdeco\u001b[0;34m(*a, **kw)\u001b[0m\n\u001b[1;32m    173\u001b[0m                 \u001b[0;31m# Hide where the exception came from that shows a non-Pythonic\u001b[0m\u001b[0;34m\u001b[0m\u001b[0;34m\u001b[0m\u001b[0m\n\u001b[1;32m    174\u001b[0m                 \u001b[0;31m# JVM exception message.\u001b[0m\u001b[0;34m\u001b[0m\u001b[0;34m\u001b[0m\u001b[0m\n\u001b[0;32m--> 175\u001b[0;31m                 \u001b[0;32mraise\u001b[0m \u001b[0mconverted\u001b[0m \u001b[0;32mfrom\u001b[0m \u001b[0;32mNone\u001b[0m\u001b[0;34m\u001b[0m\u001b[0;34m\u001b[0m\u001b[0m\n\u001b[0m\u001b[1;32m    176\u001b[0m             \u001b[0;32melse\u001b[0m\u001b[0;34m:\u001b[0m\u001b[0;34m\u001b[0m\u001b[0;34m\u001b[0m\u001b[0m\n\u001b[1;32m    177\u001b[0m                 \u001b[0;32mraise\u001b[0m\u001b[0;34m\u001b[0m\u001b[0;34m\u001b[0m\u001b[0m\n",
            "\u001b[0;31mAnalysisException\u001b[0m: [UNRESOLVED_COLUMN.WITH_SUGGESTION] A column or function parameter with name `_c9` cannot be resolved. Did you mean one of the following? [`Duration`, `Bike Id`, `End Date`, `Rental Id`, `Start Date`].;\n'Project ['_c9, '_c10, '_c11]\n+- Filter isnotnull(Rental Id#765)\n   +- Relation [Rental Id#765,Duration#766,Bike Id#767,End Date#768,EndStation Id#769,EndStation Name#770,Start Date#771,StartStation Id#772,StartStation Name#773] csv\n"
          ]
        }
      ],
      "source": [
        "#three new columns for this file, lets check if they store any unique values\n",
        "Sepb_df[[\"_c9\", \"_c10\", \"_c11\"]].distinct().show()"
      ]
    },
    {
      "cell_type": "code",
      "execution_count": null,
      "metadata": {
        "id": "IbopGodrNsd3"
      },
      "outputs": [],
      "source": [
        "#they didnt so we will drop them\n",
        "columns_to_drop = [\"_c9\", \"_c10\", \"_c11\"]"
      ]
    },
    {
      "cell_type": "code",
      "execution_count": null,
      "metadata": {
        "id": "W7pt0CFFNvvL"
      },
      "outputs": [],
      "source": [
        "Sepb_df1 = Sepb_df.drop(*columns_to_drop)"
      ]
    },
    {
      "cell_type": "code",
      "execution_count": null,
      "metadata": {
        "id": "H58PKel3pQIG"
      },
      "outputs": [],
      "source": [
        "Sepb_df1 = Sepb_df"
      ]
    },
    {
      "cell_type": "code",
      "execution_count": null,
      "metadata": {
        "id": "sA7D-9I43otX"
      },
      "outputs": [],
      "source": [
        "\n",
        "# Select only the shared columns between Sepb_df1 and combined_df\n",
        "shared_columns = list(set(Sepb_df1.columns) & set(meld_df.columns))\n",
        "\n",
        "# Union the DataFrames on the shared columns\n",
        "meld_df1 = Sepb_df1.select(*shared_columns).union(meld_df.select(*shared_columns))"
      ]
    },
    {
      "cell_type": "code",
      "execution_count": null,
      "metadata": {
        "id": "afQ_kpVoOUaR",
        "outputId": "bcb47ae9-dac8-4062-c429-1cbb8609f9a9",
        "colab": {
          "base_uri": "https://localhost:8080/"
        }
      },
      "outputs": [
        {
          "output_type": "stream",
          "name": "stdout",
          "text": [
            "root\n",
            " |-- StartStation Id: string (nullable = true)\n",
            " |-- Rental Id: string (nullable = true)\n",
            " |-- Bike Id: string (nullable = true)\n",
            " |-- StartStation Name: string (nullable = true)\n",
            " |-- Duration: string (nullable = true)\n",
            " |-- EndStation Name: string (nullable = true)\n",
            " |-- Start Date: string (nullable = true)\n",
            " |-- End Date: string (nullable = true)\n",
            " |-- EndStation Id: string (nullable = true)\n",
            "\n"
          ]
        }
      ],
      "source": [
        "meld_df1.printSchema()"
      ]
    },
    {
      "cell_type": "code",
      "execution_count": null,
      "metadata": {
        "id": "tBH_cCgHOUel",
        "outputId": "f1b57f11-6397-4e1b-d4e6-480f44ad3f67",
        "colab": {
          "base_uri": "https://localhost:8080/"
        }
      },
      "outputs": [
        {
          "output_type": "stream",
          "name": "stdout",
          "text": [
            "+---------------+---------+-------+-----------------+--------+---------------+----------+--------+-------------+\n",
            "|StartStation Id|Rental Id|Bike Id|StartStation Name|Duration|EndStation Name|Start Date|End Date|EndStation Id|\n",
            "+---------------+---------+-------+-----------------+--------+---------------+----------+--------+-------------+\n",
            "|              0|        0|      0|                0|       0|            128|         0|       0|          128|\n",
            "+---------------+---------+-------+-----------------+--------+---------------+----------+--------+-------------+\n",
            "\n"
          ]
        }
      ],
      "source": [
        "# Count the number of null values in each column\n",
        "missing_values = meld_df1.select([col(c).isNull().cast(\"int\").alias(c) for c in meld_df1.columns])\n",
        "\n",
        "# Calculate the total number of missing values in each column\n",
        "missing_values_count = missing_values.agg(*[sum(col(c)).alias(c) for c in missing_values.columns])\n",
        "\n",
        "# Show the total number of missing values in each column\n",
        "missing_values_count.show()\n",
        "#confirmation of union with no issues"
      ]
    },
    {
      "cell_type": "code",
      "execution_count": null,
      "metadata": {
        "id": "gnvwFjdu3Wok"
      },
      "outputs": [],
      "source": [
        "Decb_df = (spark.read.format(\"csv\") \\\n",
        "         .option(\"header\", \"true\") \\\n",
        "         .schema(schema)) \\\n",
        "         .load('./13b.*csv')  # 25May to 21Jun"
      ]
    },
    {
      "cell_type": "code",
      "execution_count": null,
      "metadata": {
        "id": "HfL2Tzoq3dl9",
        "outputId": "8e5b059f-03bf-4ee5-e17e-372ce480151a",
        "colab": {
          "base_uri": "https://localhost:8080/"
        }
      },
      "outputs": [
        {
          "output_type": "stream",
          "name": "stdout",
          "text": [
            "root\n",
            " |-- Rental Id: string (nullable = true)\n",
            " |-- Duration: string (nullable = true)\n",
            " |-- Bike Id: string (nullable = true)\n",
            " |-- End Date: string (nullable = true)\n",
            " |-- EndStation Id: string (nullable = true)\n",
            " |-- EndStation Name: string (nullable = true)\n",
            " |-- Start Date: string (nullable = true)\n",
            " |-- StartStation Id: string (nullable = true)\n",
            " |-- StartStation Name: string (nullable = true)\n",
            "\n"
          ]
        }
      ],
      "source": [
        "Decb_df.printSchema()"
      ]
    },
    {
      "cell_type": "code",
      "execution_count": null,
      "metadata": {
        "id": "UrbraIAiPBIV",
        "outputId": "87bbe830-accd-4b14-dcc3-3936045f17e8",
        "colab": {
          "base_uri": "https://localhost:8080/"
        }
      },
      "outputs": [
        {
          "output_type": "stream",
          "name": "stdout",
          "text": [
            "Number of rows in Decb_df: 472735\n"
          ]
        }
      ],
      "source": [
        "row_count = Decb_df.count()\n",
        "print(\"Number of rows in Decb_df:\", row_count)"
      ]
    },
    {
      "cell_type": "code",
      "execution_count": null,
      "metadata": {
        "id": "pmeSPq6VcK7d",
        "outputId": "b4dde6c6-c0f4-4847-a790-d3b6b2791176",
        "colab": {
          "base_uri": "https://localhost:8080/"
        }
      },
      "outputs": [
        {
          "output_type": "stream",
          "name": "stdout",
          "text": [
            "+---------+--------+-------+--------+-------------+---------------+----------+---------------+-----------------+\n",
            "|Rental Id|Duration|Bike Id|End Date|EndStation Id|EndStation Name|Start Date|StartStation Id|StartStation Name|\n",
            "+---------+--------+-------+--------+-------------+---------------+----------+---------------+-----------------+\n",
            "|   298350|  298350| 298350|  298350|       298354|         298354|    298350|         298350|           298350|\n",
            "+---------+--------+-------+--------+-------------+---------------+----------+---------------+-----------------+\n",
            "\n"
          ]
        }
      ],
      "source": [
        "# Count the number of null values in each column\n",
        "missing_values = Decb_df.select([col(c).isNull().cast(\"int\").alias(c) for c in Decb_df.columns])\n",
        "\n",
        "# Calculate the total number of missing values in each column\n",
        "missing_values_count = missing_values.agg(*[sum(col(c)).alias(c) for c in missing_values.columns])\n",
        "\n",
        "# Show the total number of missing values in each column\n",
        "missing_values_count.show()"
      ]
    },
    {
      "cell_type": "code",
      "execution_count": null,
      "metadata": {
        "id": "ZdgNeCYSPBMS"
      },
      "outputs": [],
      "source": [
        "Decb_df1 = Decb_df.filter(col(\"Rental Id\").isNotNull())\n",
        "\n",
        "#removes all instances where null is the case for all columns"
      ]
    },
    {
      "cell_type": "code",
      "execution_count": null,
      "metadata": {
        "id": "sLbe2_tBPBRU",
        "outputId": "7e1d1ab8-04b9-4d53-de07-f14acacd0594",
        "colab": {
          "base_uri": "https://localhost:8080/"
        }
      },
      "outputs": [
        {
          "output_type": "stream",
          "name": "stdout",
          "text": [
            "Number of rows in Decb_df: 174385\n"
          ]
        }
      ],
      "source": [
        "row_count = Decb_df1.count()\n",
        "print(\"Number of rows in Decb_df:\", row_count)\n",
        "#confirmed, the same as expected"
      ]
    },
    {
      "cell_type": "code",
      "execution_count": null,
      "metadata": {
        "id": "-pPJVDGRPI2a",
        "outputId": "1280fb11-41cc-4399-94f2-15ac6cc59858",
        "colab": {
          "base_uri": "https://localhost:8080/"
        }
      },
      "outputs": [
        {
          "output_type": "stream",
          "name": "stdout",
          "text": [
            "+---------+--------+-------+--------+-------------+---------------+----------+---------------+-----------------+\n",
            "|Rental Id|Duration|Bike Id|End Date|EndStation Id|EndStation Name|Start Date|StartStation Id|StartStation Name|\n",
            "+---------+--------+-------+--------+-------------+---------------+----------+---------------+-----------------+\n",
            "|        0|       0|      0|       0|            4|              4|         0|              0|                0|\n",
            "+---------+--------+-------+--------+-------------+---------------+----------+---------------+-----------------+\n",
            "\n"
          ]
        }
      ],
      "source": [
        "# Count the number of null values in each column\n",
        "missing_values = Decb_df1.select([col(c).isNull().cast(\"int\").alias(c) for c in Decb_df1.columns])\n",
        "\n",
        "# Calculate the total number of missing values in each column\n",
        "missing_values_count = missing_values.agg(*[sum(col(c)).alias(c) for c in missing_values.columns])\n",
        "\n",
        "# Show the total number of missing values in each column\n",
        "missing_values_count.show()"
      ]
    },
    {
      "cell_type": "code",
      "execution_count": null,
      "metadata": {
        "id": "tOdy0m1xPa2F"
      },
      "outputs": [],
      "source": [
        "\n",
        "# Select only the shared columns between Sepb_df and combined_df\n",
        "shared_columns = list(set(Decb_df1.columns) & set(meld_df1.columns))\n",
        "\n",
        "# Union the DataFrames on the shared columns\n",
        "meld_df2 = Decb_df1.select(*shared_columns).union(meld_df1.select(*shared_columns))"
      ]
    },
    {
      "cell_type": "code",
      "execution_count": null,
      "metadata": {
        "id": "z2l25Ilj-tsc",
        "outputId": "608913a3-70fc-4177-bdca-0151bab66c7c",
        "colab": {
          "base_uri": "https://localhost:8080/"
        }
      },
      "outputs": [
        {
          "output_type": "stream",
          "name": "stdout",
          "text": [
            "+---------------+---------+-------+-----------------+--------+---------------+----------+--------+-------------+\n",
            "|StartStation Id|Rental Id|Bike Id|StartStation Name|Duration|EndStation Name|Start Date|End Date|EndStation Id|\n",
            "+---------------+---------+-------+-----------------+--------+---------------+----------+--------+-------------+\n",
            "|              0|        0|      0|                0|       0|            132|         0|       0|          132|\n",
            "+---------------+---------+-------+-----------------+--------+---------------+----------+--------+-------------+\n",
            "\n"
          ]
        }
      ],
      "source": [
        "# Count the number of null values in each column\n",
        "missing_values = meld_df2.select([col(c).isNull().cast(\"int\").alias(c) for c in meld_df2.columns])\n",
        "\n",
        "# Calculate the total number of missing values in each column\n",
        "missing_values_count = missing_values.agg(*[sum(col(c)).alias(c) for c in missing_values.columns])\n",
        "\n",
        "# Show the total number of missing values in each column\n",
        "missing_values_count.show()\n",
        "#confirmed, no issues"
      ]
    },
    {
      "cell_type": "code",
      "execution_count": null,
      "metadata": {
        "id": "cW4H6DBBQvJr"
      },
      "outputs": [],
      "source": [
        "combined_df = meld_df2"
      ]
    },
    {
      "cell_type": "code",
      "execution_count": null,
      "metadata": {
        "id": "ScWZajPxGooR",
        "outputId": "cebbcf12-3ba0-4c55-f9a7-a1f4e4c6c6a8",
        "colab": {
          "base_uri": "https://localhost:8080/"
        }
      },
      "outputs": [
        {
          "output_type": "stream",
          "name": "stdout",
          "text": [
            "+---------------+---------+-------+--------------------+--------+--------------------+----------------+----------------+-------------+\n",
            "|StartStation Id|Rental Id|Bike Id|   StartStation Name|Duration|     EndStation Name|      Start Date|        End Date|EndStation Id|\n",
            "+---------------+---------+-------+--------------------+--------+--------------------+----------------+----------------+-------------+\n",
            "|            443| 40154802|  12760|Philpot Street, W...|     120|Jubilee Street, S...|22/12/2014 00:01|22/12/2014 00:03|          450|\n",
            "|            160| 40154801|  10507|Waterloo Place, S...|     660|Regency Street, W...|22/12/2014 00:01|22/12/2014 00:12|          267|\n",
            "|            225| 40154803|   2030|Notting Hill Gate...|     180|Turquoise Island,...|22/12/2014 00:01|22/12/2014 00:04|          379|\n",
            "|            206| 40154807|  11419|New Road 1 , Whit...|     420|Wapping Lane, Wap...|22/12/2014 00:02|22/12/2014 00:09|          458|\n",
            "|            516| 40154804|   4545|Chrisp Street Mar...|     900|Twig Folly Bridge...|22/12/2014 00:02|22/12/2014 00:17|          531|\n",
            "|            553| 40154805|   6710|Regent's Row , Ha...|    1380|Bricklayers Arms,...|22/12/2014 00:02|22/12/2014 00:25|           94|\n",
            "|              5| 40154806|  10468|Sedding Street, S...|    1260|Hop Exchange, The...|22/12/2014 00:02|22/12/2014 00:23|          194|\n",
            "|            427| 40154810|    951|     Cheapside, Bank|    1140|Clarkson Street, ...|22/12/2014 00:03|22/12/2014 00:22|          507|\n",
            "|            282| 40154808|    877|Royal London Hosp...|    1500|Old Montague Stre...|22/12/2014 00:03|22/12/2014 00:28|          537|\n",
            "|            380| 40154812|   3391|Stanhope Gate, Ma...|     960|Bishop's Bridge R...|22/12/2014 00:03|22/12/2014 00:19|          592|\n",
            "+---------------+---------+-------+--------------------+--------+--------------------+----------------+----------------+-------------+\n",
            "only showing top 10 rows\n",
            "\n",
            "duration is SECONDS\n",
            "there are  10242483  rows\n"
          ]
        },
        {
          "output_type": "execute_result",
          "data": {
            "text/plain": [
              "[Row(StartStation Id='23', Rental Id='40154799', Bike Id='11517', StartStation Name='Red Lion Square, Holborn', Duration='3000', EndStation Name='Shadwell Station, Shadwell', Start Date='21/12/2014 23:58', End Date='22/12/2014 00:48', EndStation Id='449'),\n",
              " Row(StartStation Id='377', Rental Id='40154800', Bike Id='7985', StartStation Name='Waterloo Bridge, South Bank', Duration='1140', EndStation Name='Great Russell Street, Bloomsbury', Start Date='21/12/2014 23:59', End Date='22/12/2014 00:18', EndStation Id='15')]"
            ]
          },
          "metadata": {},
          "execution_count": 50
        }
      ],
      "source": [
        "\n",
        "# show top 10 - if this gives an error you need to check the previous step/s\n",
        "combined_df.show(10)\n",
        "print(\"duration is SECONDS\")\n",
        "# see how many entries (rows) in data\n",
        "numRows = combined_df.count()\n",
        "print(\"there are \",numRows,\" rows\")\n",
        "\n",
        "# get \"list\" of last 2 rows\n",
        "combined_df.tail(2)\n",
        "# we can deduce there is no inherent ordering of the rows"
      ]
    },
    {
      "cell_type": "code",
      "execution_count": null,
      "metadata": {
        "id": "ldF76hP5MJeP"
      },
      "outputs": [],
      "source": [
        "combined_df = combined_df.withColumn(\"Duration\", col(\"Duration\").cast(\"int\"))"
      ]
    },
    {
      "cell_type": "code",
      "execution_count": null,
      "metadata": {
        "id": "1rc1sZmAXZvk",
        "outputId": "358abec8-16ff-4466-bb19-a76d218a0934",
        "colab": {
          "base_uri": "https://localhost:8080/"
        }
      },
      "outputs": [
        {
          "output_type": "stream",
          "name": "stdout",
          "text": [
            "+---------------+---------+-------+-----------------+--------+---------------+----------+--------+-------------+\n",
            "|StartStation Id|Rental Id|Bike Id|StartStation Name|Duration|EndStation Name|Start Date|End Date|EndStation Id|\n",
            "+---------------+---------+-------+-----------------+--------+---------------+----------+--------+-------------+\n",
            "|              0|        0|      0|                0|       0|            132|         0|       0|          132|\n",
            "+---------------+---------+-------+-----------------+--------+---------------+----------+--------+-------------+\n",
            "\n"
          ]
        }
      ],
      "source": [
        "# Count the number of null values in each column\n",
        "missing_values = combined_df.select([col(c).isNull().cast(\"int\").alias(c) for c in combined_df.columns])\n",
        "\n",
        "# Calculate the total number of missing values in each column\n",
        "missing_values_count = missing_values.agg(*[sum(col(c)).alias(c) for c in missing_values.columns])\n",
        "\n",
        "# Show the total number of missing values in each column\n",
        "missing_values_count.show()"
      ]
    },
    {
      "cell_type": "code",
      "execution_count": null,
      "metadata": {
        "id": "XzPrtjRpiebg",
        "outputId": "ca4d7c6f-9e60-4859-de45-28e780b9d15b",
        "colab": {
          "base_uri": "https://localhost:8080/"
        }
      },
      "outputs": [
        {
          "output_type": "stream",
          "name": "stdout",
          "text": [
            "+---------------+---------+-------+--------------------+--------+--------------------+----------------+----------------+-------------+\n",
            "|StartStation Id|Rental Id|Bike Id|   StartStation Name|Duration|     EndStation Name|      Start Date|        End Date|EndStation Id|\n",
            "+---------------+---------+-------+--------------------+--------+--------------------+----------------+----------------+-------------+\n",
            "|            443| 40154802|  12760|Philpot Street, W...|     120|Jubilee Street, S...|22/12/2014 00:01|22/12/2014 00:03|          450|\n",
            "|            160| 40154801|  10507|Waterloo Place, S...|     660|Regency Street, W...|22/12/2014 00:01|22/12/2014 00:12|          267|\n",
            "|            225| 40154803|   2030|Notting Hill Gate...|     180|Turquoise Island,...|22/12/2014 00:01|22/12/2014 00:04|          379|\n",
            "|            206| 40154807|  11419|New Road 1 , Whit...|     420|Wapping Lane, Wap...|22/12/2014 00:02|22/12/2014 00:09|          458|\n",
            "|            516| 40154804|   4545|Chrisp Street Mar...|     900|Twig Folly Bridge...|22/12/2014 00:02|22/12/2014 00:17|          531|\n",
            "|            553| 40154805|   6710|Regent's Row , Ha...|    1380|Bricklayers Arms,...|22/12/2014 00:02|22/12/2014 00:25|           94|\n",
            "|              5| 40154806|  10468|Sedding Street, S...|    1260|Hop Exchange, The...|22/12/2014 00:02|22/12/2014 00:23|          194|\n",
            "|            427| 40154810|    951|     Cheapside, Bank|    1140|Clarkson Street, ...|22/12/2014 00:03|22/12/2014 00:22|          507|\n",
            "|            282| 40154808|    877|Royal London Hosp...|    1500|Old Montague Stre...|22/12/2014 00:03|22/12/2014 00:28|          537|\n",
            "|            380| 40154812|   3391|Stanhope Gate, Ma...|     960|Bishop's Bridge R...|22/12/2014 00:03|22/12/2014 00:19|          592|\n",
            "+---------------+---------+-------+--------------------+--------+--------------------+----------------+----------------+-------------+\n",
            "only showing top 10 rows\n",
            "\n"
          ]
        }
      ],
      "source": [
        "filtered_df1 = combined_df.filter(col(\"Endstation Id\").isNotNull())\n",
        "\n",
        "# Show a sample of the filtered DataFrame\n",
        "filtered_df1.show(10)"
      ]
    },
    {
      "cell_type": "code",
      "execution_count": null,
      "metadata": {
        "id": "gxzHyYJ6YE2W",
        "outputId": "38d861cb-6ab4-434e-819a-3ff2679ba0e1",
        "colab": {
          "base_uri": "https://localhost:8080/"
        }
      },
      "outputs": [
        {
          "output_type": "stream",
          "name": "stdout",
          "text": [
            "+---------------+---------+-------+-----------------+--------+---------------+----------+--------+-------------+\n",
            "|StartStation Id|Rental Id|Bike Id|StartStation Name|Duration|EndStation Name|Start Date|End Date|EndStation Id|\n",
            "+---------------+---------+-------+-----------------+--------+---------------+----------+--------+-------------+\n",
            "|              0|        0|      0|                0|       0|              0|         0|       0|            0|\n",
            "+---------------+---------+-------+-----------------+--------+---------------+----------+--------+-------------+\n",
            "\n"
          ]
        }
      ],
      "source": [
        "# Count the number of null values in each column\n",
        "missing_values1 = filtered_df1.select([col(c).isNull().cast(\"int\").alias(c) for c in filtered_df1.columns])\n",
        "\n",
        "# Calculate the total number of missing values in each column\n",
        "missing_values_count1 = missing_values1.agg(*[sum(col(c)).alias(c) for c in missing_values1.columns])\n",
        "\n",
        "# Show the total number of missing values in each column\n",
        "missing_values_count1.show()\n",
        "#can assume missing entries without endst"
      ]
    },
    {
      "cell_type": "code",
      "execution_count": null,
      "metadata": {
        "id": "Rxws6mYTGot5"
      },
      "outputs": [],
      "source": [
        "from pyspark.sql import Window\n",
        "from pyspark.sql import functions as F"
      ]
    },
    {
      "cell_type": "code",
      "execution_count": null,
      "metadata": {
        "id": "K4aNuSRUigaT"
      },
      "outputs": [],
      "source": [
        "# Define a window specification\n",
        "window_spec = Window.partitionBy(\"StartStation Name\")\n",
        "\n",
        "# Add a new column with the count of instances of each StartStation Name\n",
        "filtered_df1 = filtered_df1.withColumn(\"NumInstances\", F.count(\"StartStation Name\").over(window_spec))"
      ]
    },
    {
      "cell_type": "code",
      "execution_count": null,
      "metadata": {
        "colab": {
          "base_uri": "https://localhost:8080/"
        },
        "id": "l1J0-iAykNrI",
        "outputId": "e398a3da-14eb-4cc8-fb75-95dbfde514c4"
      },
      "outputs": [
        {
          "output_type": "stream",
          "name": "stdout",
          "text": [
            "+---------------+---------+-------+--------------------+--------+--------------------+----------------+----------------+-------------+------------+\n",
            "|StartStation Id|Rental Id|Bike Id|   StartStation Name|Duration|     EndStation Name|      Start Date|        End Date|EndStation Id|NumInstances|\n",
            "+---------------+---------+-------+--------------------+--------+--------------------+----------------+----------------+-------------+------------+\n",
            "|            606| 40155034|  11527|Addison Road, Hol...|    2280|Cadogan Gardens, ...|22/12/2014 00:56|22/12/2014 01:34|          395|        3831|\n",
            "|            606| 40157852|   4659|Addison Road, Hol...|    1860|Pall Mall East, W...|22/12/2014 08:38|22/12/2014 09:09|          233|        3831|\n",
            "|            606| 40158348|    588|Addison Road, Hol...|     660|Imperial College,...|22/12/2014 08:50|22/12/2014 09:01|          392|        3831|\n",
            "|            606| 40159626|   3578|Addison Road, Hol...|    1620|Wellington Arch, ...|22/12/2014 09:41|22/12/2014 10:08|          213|        3831|\n",
            "|            606| 40161070|   4843|Addison Road, Hol...|    2580|   The Vale, Chelsea|22/12/2014 11:24|22/12/2014 12:07|          755|        3831|\n",
            "|            606| 40161063|   6312|Addison Road, Hol...|     720|St. Mark's Road, ...|22/12/2014 11:24|22/12/2014 11:36|          650|        3831|\n",
            "|            606| 40161059|   5799|Addison Road, Hol...|     720|St. Mark's Road, ...|22/12/2014 11:24|22/12/2014 11:36|          650|        3831|\n",
            "|            606| 40162460|    410|Addison Road, Hol...|     660|Warwick Road, Oly...|22/12/2014 12:44|22/12/2014 12:55|          274|        3831|\n",
            "|            606| 40177423|   6294|Addison Road, Hol...|    1800|Pall Mall East, W...|23/12/2014 08:49|23/12/2014 09:19|          233|        3831|\n",
            "|            606| 40177728|   8654|Addison Road, Hol...|     600|Imperial College,...|23/12/2014 08:58|23/12/2014 09:08|          392|        3831|\n",
            "+---------------+---------+-------+--------------------+--------+--------------------+----------------+----------------+-------------+------------+\n",
            "only showing top 10 rows\n",
            "\n",
            "duration is SECONDS\n",
            "there are  10242351  rows\n"
          ]
        },
        {
          "output_type": "execute_result",
          "data": {
            "text/plain": [
              "[Row(StartStation Id='466', Rental Id='40151582', Bike Id='1788', StartStation Name='Whiston Road, Haggerston', Duration=960, EndStation Name='Liverpool Road (N1 Centre), Angel', Start Date='21/12/2014 17:06', End Date='21/12/2014 17:22', EndStation Id='234', NumInstances=7196),\n",
              " Row(StartStation Id='466', Rental Id='40152339', Bike Id='9681', StartStation Name='Whiston Road, Haggerston', Duration=360, EndStation Name='Bethnal Green Road, Shoreditch', Start Date='21/12/2014 18:07', End Date='21/12/2014 18:13', EndStation Id='132', NumInstances=7196)]"
            ]
          },
          "metadata": {},
          "execution_count": 58
        }
      ],
      "source": [
        "# show top 10 - if this gives an error you need to check the previous step/s\n",
        "filtered_df1.show(10)\n",
        "print(\"duration is SECONDS\")\n",
        "# see how many entries (rows) in data\n",
        "numRows = filtered_df1.count()\n",
        "print(\"there are \",numRows,\" rows\")\n",
        "\n",
        "# get \"list\" of last 2 rows\n",
        "filtered_df1.tail(2)\n",
        "# we can deduce there is no inherent ordering of the rows"
      ]
    },
    {
      "cell_type": "code",
      "execution_count": null,
      "metadata": {
        "colab": {
          "base_uri": "https://localhost:8080/"
        },
        "id": "ATm54l4lSmRT",
        "outputId": "924f6745-e8fb-4411-d196-5c92705f7987"
      },
      "outputs": [
        {
          "output_type": "stream",
          "name": "stdout",
          "text": [
            "Of all rides, percentage over 2 hours: 1.2153362055254697\n"
          ]
        }
      ],
      "source": [
        "# so vast majority of rides in this month have \"Duration\" under 2 hours\n",
        "#1.2% over 7200 seconds\n",
        "total = filtered_df1.count()\n",
        "numExceed = filtered_df1.filter(\"Duration > 7200\").count()\n",
        "print(\"Of all rides, percentage over 2 hours:\", (numExceed*100)/total)"
      ]
    },
    {
      "cell_type": "code",
      "execution_count": null,
      "metadata": {
        "id": "US7MXT2nukmy"
      },
      "outputs": [],
      "source": [
        "filtered_df1 = filtered_df1.filter((col(\"Duration\") >= 1) & (col(\"Duration\") <= 7200)) #only include instances where ride duration was longer than 1second, shorter than 2hours"
      ]
    },
    {
      "cell_type": "code",
      "execution_count": null,
      "metadata": {
        "id": "XxaYp3CjlKe3"
      },
      "outputs": [],
      "source": [
        "smallest_duration = filtered_df1.agg(F.min(\"Duration\")).collect()[0][0]"
      ]
    },
    {
      "cell_type": "code",
      "execution_count": null,
      "metadata": {
        "colab": {
          "base_uri": "https://localhost:8080/"
        },
        "id": "4DYgSn1MV_B0",
        "outputId": "d938ccf8-28bd-48b0-8225-abfc2b1752e5"
      },
      "outputs": [
        {
          "output_type": "execute_result",
          "data": {
            "text/plain": [
              "60"
            ]
          },
          "metadata": {},
          "execution_count": 67
        }
      ],
      "source": [
        "smallest_duration"
      ]
    },
    {
      "cell_type": "code",
      "source": [
        "# see how many entries (rows) in data\n",
        "numRows = filtered_df1.count()\n",
        "print(\"there are \",numRows,\" rows\") #how many rows are remaining once filtered to only include rides with duration betweeen 60 and 7200 seconds"
      ],
      "metadata": {
        "id": "1Jh1uCEMq_q4",
        "outputId": "e891ae1f-c5c2-450a-d617-be65356af08a",
        "colab": {
          "base_uri": "https://localhost:8080/"
        }
      },
      "execution_count": null,
      "outputs": [
        {
          "output_type": "stream",
          "name": "stdout",
          "text": [
            "there are  10085370  rows\n"
          ]
        }
      ]
    },
    {
      "cell_type": "code",
      "source": [
        "filtered_durations = filtered_df1.select(\"duration\").rdd.flatMap(lambda x: x).collect() #extract all of the values from the duration column into a list\n",
        "filtered_durations = np.array(filtered_durations) #convert duration values into numpy array"
      ],
      "metadata": {
        "id": "NJ9B0t2cqvE3"
      },
      "execution_count": null,
      "outputs": []
    },
    {
      "cell_type": "code",
      "source": [
        "print(\"Number of elements in filtered_durations:\", len(filtered_durations)) #observe the number of duration values. they should match the number of rows provided in the cell above"
      ],
      "metadata": {
        "id": "UctKbUH1rMyG",
        "outputId": "6bbc7c2d-6741-4b54-9539-fe06922425da",
        "colab": {
          "base_uri": "https://localhost:8080/"
        }
      },
      "execution_count": null,
      "outputs": [
        {
          "output_type": "stream",
          "name": "stdout",
          "text": [
            "Number of elements in filtered_durations: 10085370\n"
          ]
        }
      ]
    },
    {
      "cell_type": "code",
      "source": [
        "import matplotlib.pyplot as plt\n",
        "\n",
        "\n",
        "# Plot histogram\n",
        "plt.hist(filtered_durations, bins=300, edgecolor='black')\n",
        "\n",
        "# Add labels and title\n",
        "plt.xlabel('Duration (seconds)')\n",
        "plt.ylabel('Frequency')\n",
        "plt.title('Frequency Histogram of Ride Durations')\n",
        "\n",
        "# Show plot\n",
        "plt.show()"
      ],
      "metadata": {
        "id": "nPS44GYPqym9",
        "outputId": "29ab7507-ea5d-4832-db2d-c584046cfeec",
        "colab": {
          "base_uri": "https://localhost:8080/",
          "height": 472
        }
      },
      "execution_count": null,
      "outputs": [
        {
          "output_type": "display_data",
          "data": {
            "text/plain": [
              "<Figure size 640x480 with 1 Axes>"
            ],
            "image/png": "[encoded data removed]"
          },
          "metadata": {}
        }
      ]
    },
    {
      "cell_type": "code",
      "execution_count": null,
      "metadata": {
        "colab": {
          "base_uri": "https://localhost:8080/"
        },
        "id": "f-KpIO1Ojvdy",
        "outputId": "32183247-b238-4636-a1d4-a7573582a02b"
      },
      "outputs": [
        {
          "output_type": "stream",
          "name": "stdout",
          "text": [
            "+---------------+---------+-------+-----------------+--------+---------------+----------+--------+-------------+------------+\n",
            "|StartStation Id|Rental Id|Bike Id|StartStation Name|Duration|EndStation Name|Start Date|End Date|EndStation Id|NumInstances|\n",
            "+---------------+---------+-------+-----------------+--------+---------------+----------+--------+-------------+------------+\n",
            "|              0|        0|      0|                0|       0|              0|         0|       0|            0|           0|\n",
            "+---------------+---------+-------+-----------------+--------+---------------+----------+--------+-------------+------------+\n",
            "\n"
          ]
        }
      ],
      "source": [
        "# Count the number of null values in each column\n",
        "missing_values1 = filtered_df1.select([col(c).isNull().cast(\"int\").alias(c) for c in filtered_df1.columns])\n",
        "\n",
        "# Calculate the total number of missing values in each column\n",
        "missing_values_count1 = missing_values1.agg(*[sum(col(c)).alias(c) for c in missing_values1.columns])\n",
        "\n",
        "# Show the total number of missing values in each column\n",
        "missing_values_count1.show()\n",
        "#can assume missing entries without endst"
      ]
    },
    {
      "cell_type": "code",
      "execution_count": null,
      "metadata": {
        "id": "8ZzlmQPjjXJS"
      },
      "outputs": [],
      "source": [
        "filtered_df1_with_timestamp = filtered_df1.withColumn(\n",
        "    \"start\",\n",
        "    to_timestamp(col(\"Start Date\"), format=\"dd/MM/yyyy HH:mm\")\n",
        ")"
      ]
    },
    {
      "cell_type": "code",
      "execution_count": null,
      "metadata": {
        "id": "EHU2sRFVeY25"
      },
      "outputs": [],
      "source": [
        "# Filter for dates in 2014\n",
        "filtered_df1 = filtered_df1_with_timestamp.filter(\n",
        "    (filtered_df1_with_timestamp.start >= \"2014-01-01 00:00:00\") &\n",
        "    (filtered_df1_with_timestamp.start < \"2015-01-01 00:00:00\")\n",
        ")"
      ]
    },
    {
      "cell_type": "code",
      "execution_count": null,
      "metadata": {
        "colab": {
          "base_uri": "https://localhost:8080/"
        },
        "id": "Cs5RpO-kjxKQ",
        "outputId": "1fbf0169-3e37-43ac-ca03-0522bd5db591"
      },
      "outputs": [
        {
          "output_type": "stream",
          "name": "stdout",
          "text": [
            "+---------------+---------+-------+-----------------+--------+---------------+----------+--------+-------------+------------+-----+\n",
            "|StartStation Id|Rental Id|Bike Id|StartStation Name|Duration|EndStation Name|Start Date|End Date|EndStation Id|NumInstances|start|\n",
            "+---------------+---------+-------+-----------------+--------+---------------+----------+--------+-------------+------------+-----+\n",
            "|              0|        0|      0|                0|       0|              0|         0|       0|            0|           0|    0|\n",
            "+---------------+---------+-------+-----------------+--------+---------------+----------+--------+-------------+------------+-----+\n",
            "\n"
          ]
        }
      ],
      "source": [
        "# Count the number of null values in each column\n",
        "missing_values1 = filtered_df1.select([col(c).isNull().cast(\"int\").alias(c) for c in filtered_df1.columns])\n",
        "\n",
        "# Calculate the total number of missing values in each column\n",
        "missing_values_count1 = missing_values1.agg(*[sum(col(c)).alias(c) for c in missing_values1.columns])\n",
        "\n",
        "# Show the total number of missing values in each column\n",
        "missing_values_count1.show()\n"
      ]
    },
    {
      "cell_type": "code",
      "execution_count": null,
      "metadata": {
        "id": "MDU75Ws2Kssa"
      },
      "outputs": [],
      "source": [
        "filtered_df1 = filtered_df1.drop(\"Start Date\")#remove orignial column start date"
      ]
    },
    {
      "cell_type": "code",
      "execution_count": null,
      "metadata": {
        "colab": {
          "base_uri": "https://localhost:8080/"
        },
        "id": "PGFzSaRQjXSo",
        "outputId": "11670107-4906-4b07-fe51-ee651dc1f1da"
      },
      "outputs": [
        {
          "output_type": "stream",
          "name": "stdout",
          "text": [
            "+---------------+---------+-------+--------------------+--------+--------------------+----------------+-------------+------------+-------------------+\n",
            "|StartStation Id|Rental Id|Bike Id|   StartStation Name|Duration|     EndStation Name|        End Date|EndStation Id|NumInstances|              start|\n",
            "+---------------+---------+-------+--------------------+--------+--------------------+----------------+-------------+------------+-------------------+\n",
            "|            606| 33219827|  10892|Addison Road, Hol...|     480|Notting Hill Gate...|25/05/2014 15:01|          225|        3831|2014-05-25 14:53:00|\n",
            "|            606| 33318865|   3963|Addison Road, Hol...|     420|Notting Hill Gate...|29/05/2014 20:05|          225|        3831|2014-05-29 19:58:00|\n",
            "|            606| 33367150|  12565|Addison Road, Hol...|     420|Notting Hill Gate...|31/05/2014 12:51|          225|        3831|2014-05-31 12:44:00|\n",
            "|            606| 33224772|  11082|Addison Road, Hol...|     960|Old Quebec Street...|25/05/2014 16:35|           99|        3831|2014-05-25 16:19:00|\n",
            "|            606| 33267366|   8745|Addison Road, Hol...|     660|Addison Road, Hol...|27/05/2014 21:01|          606|        3831|2014-05-27 20:50:00|\n",
            "+---------------+---------+-------+--------------------+--------+--------------------+----------------+-------------+------------+-------------------+\n",
            "only showing top 5 rows\n",
            "\n"
          ]
        }
      ],
      "source": [
        "filtered_df1.filter(filtered_df1.start < \"2014-06-01 00:00:00\").show(5)#test to see if date filter worked"
      ]
    },
    {
      "cell_type": "code",
      "execution_count": null,
      "metadata": {
        "colab": {
          "base_uri": "https://localhost:8080/"
        },
        "id": "hmYDz6KKjXWd",
        "outputId": "6bbea244-80b8-4ee6-ca54-3e01bfe20422"
      },
      "outputs": [
        {
          "output_type": "stream",
          "name": "stdout",
          "text": [
            "+---------------+---------+-------+-----------------+--------+---------------+--------+-------------+------------+-----+\n",
            "|StartStation Id|Rental Id|Bike Id|StartStation Name|Duration|EndStation Name|End Date|EndStation Id|NumInstances|start|\n",
            "+---------------+---------+-------+-----------------+--------+---------------+--------+-------------+------------+-----+\n",
            "+---------------+---------+-------+-----------------+--------+---------------+--------+-------------+------------+-----+\n",
            "\n"
          ]
        }
      ],
      "source": [
        "filtered_df1.filter(filtered_df1.start < \"2014-01-01 00:00:00\").show(5)#test to see if date filter worked"
      ]
    },
    {
      "cell_type": "code",
      "execution_count": null,
      "metadata": {
        "colab": {
          "base_uri": "https://localhost:8080/"
        },
        "id": "2q8RPB6Gjgw6",
        "outputId": "5d349e23-128f-4642-859a-2bbd92ccb9ff"
      },
      "outputs": [
        {
          "output_type": "stream",
          "name": "stdout",
          "text": [
            "+---------------+---------+-------+-----------------+--------+---------------+--------+-------------+------------+-----+\n",
            "|StartStation Id|Rental Id|Bike Id|StartStation Name|Duration|EndStation Name|End Date|EndStation Id|NumInstances|start|\n",
            "+---------------+---------+-------+-----------------+--------+---------------+--------+-------------+------------+-----+\n",
            "+---------------+---------+-------+-----------------+--------+---------------+--------+-------------+------------+-----+\n",
            "\n"
          ]
        }
      ],
      "source": [
        "filtered_df1.filter(filtered_df1.start > \"2015-01-01 00:00:00\").show(5) #test to see if date filter worked"
      ]
    },
    {
      "cell_type": "code",
      "execution_count": null,
      "metadata": {
        "id": "AzQ7D-vFuplr"
      },
      "outputs": [],
      "source": [
        "from pyspark.sql.functions import collect_list"
      ]
    },
    {
      "cell_type": "code",
      "execution_count": null,
      "metadata": {
        "id": "vUHVwjPoY9mH"
      },
      "outputs": [],
      "source": [
        "from pyspark.sql.functions import col, sum, mean, min, max, stddev, expr,  count"
      ]
    },
    {
      "cell_type": "code",
      "execution_count": null,
      "metadata": {
        "id": "FYmyyGNqcWbm"
      },
      "outputs": [],
      "source": [
        "agg_expr = {\n",
        "    \"Duration\": [\n",
        "        F.sum(\"Duration\").alias(\"Total Duration\"),\n",
        "        F.mean(\"Duration\").alias(\"Mean Duration\"),\n",
        "        F.min(\"Duration\").alias(\"Shortest Ride\"),\n",
        "        F.max(\"Duration\").alias(\"Longest Ride\"),\n",
        "        F.expr(\"percentile_approx(Duration, 0.5)\").alias(\"Median\"),\n",
        "        F.stddev(\"Duration\").alias(\"Standard Deviation\")\n",
        "        #F.count(\"Duration\").alias(\"Number of Rides\")\n",
        "\n",
        "    ]\n",
        "}"
      ]
    },
    {
      "cell_type": "code",
      "execution_count": null,
      "metadata": {
        "colab": {
          "base_uri": "https://localhost:8080/"
        },
        "id": "3NZ3HTbFp8Wf",
        "outputId": "a0f2fb9a-1704-4278-c1c2-0ae526f1a4b0"
      },
      "outputs": [
        {
          "output_type": "stream",
          "name": "stdout",
          "text": [
            "+---------------+-----------------------------------+------------+--------------+------------------+-------------+------------+------+------------------+\n",
            "|StartStation Id|StartStation Name                  |NumInstances|Total Duration|Mean Duration     |Shortest Ride|Longest Ride|Median|Standard Deviation|\n",
            "+---------------+-----------------------------------+------------+--------------+------------------+-------------+------------+------+------------------+\n",
            "|191            |Hyde Park Corner, Hyde Park        |102715      |201840600     |2114.0896998135618|60           |7200        |1620  |1472.6519098142294|\n",
            "|307            |Black Lion Gate, Kensington Gardens|72678       |124812180     |1837.8786941732562|120          |7200        |1440  |1422.6293401668258|\n",
            "|303            |Albert Gate, Hyde Park             |70908       |123357660     |1852.4118150556365|60           |7200        |1440  |1322.1125453031923|\n",
            "|406            |Speakers' Corner 2, Hyde Park      |49282       |94882500      |2071.6250736883476|60           |7200        |1560  |1465.9306830047537|\n",
            "|213            |Wellington Arch, Hyde Park         |48996       |83191200      |1817.2349767360581|120          |7200        |1440  |1298.3140329422592|\n",
            "|407            |Speakers' Corner 1, Hyde Park      |42046       |77770140      |2018.3784485219694|60           |7200        |1560  |1446.8048859570383|\n",
            "|248            |Triangle Car Park, Hyde Park       |46200       |76116720      |1734.024056861673 |60           |7200        |1380  |1240.720465682248 |\n",
            "|14             |Belgrove Street , King's Cross     |88712       |76057260      |896.3942579671884 |60           |7200        |780   |604.3519111934007 |\n",
            "|404            |Palace Gate, Kensington Gardens    |44244       |75180480      |1799.2217302859879|60           |7200        |1380  |1354.116990272818 |\n",
            "|154            |Waterloo Station 3, Waterloo       |81771       |63426720      |812.5380476556495 |60           |7200        |720   |447.3909464760015 |\n",
            "+---------------+-----------------------------------+------------+--------------+------------------+-------------+------------+------+------------------+\n",
            "only showing top 10 rows\n",
            "\n"
          ]
        }
      ],
      "source": [
        "#apply windows function to obtain stats for dataframe\n",
        "start_df = (filtered_df1\n",
        "           .select(\"StartStation Id\", \"StartStation Name\", \"EndStation Id\", \"EndStation Name\", \"NumInstances\", \"Duration\")\n",
        "            .groupBy(\"StartStation Id\", \"StartStation Name\", \"NumInstances\")\n",
        "            .agg(*[expr for expr in agg_expr[\"Duration\"]])\n",
        "            .orderBy(F.col(\"Total Duration\").desc()))\n",
        "\n",
        "start_df.show(10, truncate=False)"
      ]
    },
    {
      "cell_type": "code",
      "execution_count": null,
      "metadata": {
        "colab": {
          "base_uri": "https://localhost:8080/"
        },
        "id": "UPkhda6hejjn",
        "outputId": "2ae1e130-5d15-4933-91af-c180980131d6"
      },
      "outputs": [
        {
          "output_type": "stream",
          "name": "stdout",
          "text": [
            "+---------------+----------------------------------------------+------------+--------------+------------------+-------------+------------+------+------------------+\n",
            "|StartStation Id|StartStation Name                             |NumInstances|Total Duration|Mean Duration     |Shortest Ride|Longest Ride|Median|Standard Deviation|\n",
            "+---------------+----------------------------------------------+------------+--------------+------------------+-------------+------------+------+------------------+\n",
            "|198            |tabletop1                                     |3           |1500          |750.0             |540          |960         |540   |296.98484809834997|\n",
            "|241            |Contact Centre, Southbury House               |12          |8820          |1764.0            |180          |3060        |2520  |1431.600502933692 |\n",
            "|778            |Pop Up Dock 1                                 |567         |674640        |1222.1739130434783|180          |7140        |1080  |800.3962168830079 |\n",
            "|777            |Limburg Road, Clapham Common                  |715         |949800        |1382.532751091703 |60           |7020        |1260  |976.9650102303724 |\n",
            "|767            |Santos Road, Wandsworth                       |754         |827400        |1134.9794238683128|120          |6120        |960   |896.3273850382172 |\n",
            "|672            |Grant Road Central, Clapham Junction          |804         |876360        |1170.0400534045393|60           |6720        |840   |1013.3138432478083|\n",
            "|555            |Westfield Eastern Access Road, Shepherd's Bush|830         |710760        |914.7490347490348 |60           |6060        |720   |956.0098671347437 |\n",
            "|767            |Wandsworth Museum, Wandsworth                 |902         |1128180       |1311.8372093023256|60           |7080        |1080  |1178.8788784359788|\n",
            "|494            |South Quay East, Canary Wharf                 |1057        |1591020       |1600.6237424547285|60           |7200        |1260  |1281.7152457067907|\n",
            "|752            |Manfred Road, East Putney                     |1225        |1534860       |1322.015503875969 |120          |7200        |1200  |1145.5775849796025|\n",
            "|519            |Teviot Street, Poplar                         |1288        |1343700       |1135.8410819949281|120          |6600        |960   |871.7081361066307 |\n",
            "|482            |Thornfield House, Poplar                      |1315        |1358460       |1132.05           |120          |6540        |1020  |905.3799708278917 |\n",
            "|472            |Malmesbury Road, Bow                          |1389        |1598040       |1220.8097784568372|60           |7020        |960   |1076.659639739109 |\n",
            "|554            |Aberfeldy Street, Poplar                      |1635        |1776960       |1164.4560943643512|180          |6720        |1020  |870.7881858571626 |\n",
            "|659            |Grant Road West, Clapham Junction             |1666        |1987740       |1262.858958068615 |60           |7020        |1020  |1053.3362776680954|\n",
            "|608            |Colet Gardens, Hammersmith                    |1690        |1929600       |1192.583436341162 |120          |7200        |900   |1042.038758894208 |\n",
            "|771            |Rifle Place, Avondale                         |1691        |1569180       |974.0409683426443 |60           |6900        |720   |850.0772318936124 |\n",
            "|776            |Abyssinia Close, Clapham Junction             |1842        |2307480       |1308.095238095238 |60           |6780        |1140  |982.7354832621    |\n",
            "|390            |Buxton Street 1, Shoreditch                   |1857        |1617960       |890.9471365638766 |60           |6180        |720   |680.8832260027053 |\n",
            "|502            |South Quay West, Canary Wharf                 |1894        |2294640       |1311.222857142857 |60           |6960        |1260  |785.2725226753474 |\n",
            "|474            |Castalia Square, Cubitt Town                  |1979        |1985580       |1073.2864864864864|60           |7140        |720   |1031.3523805742923|\n",
            "|678            |Esmond Street, Putney                         |1984        |2525580       |1354.1983914209115|60           |7200        |1200  |1175.1086212680625|\n",
            "|774            |Hurlingham Park, Parsons Green                |1991        |2155680       |1106.0441251924065|60           |6900        |900   |940.2054256412001 |\n",
            "|714            |Stewart's Road, Nine Elms                     |2038        |2563860       |1315.4746023601847|60           |6840        |1140  |876.3820080426991 |\n",
            "|741            |Freston Road, Avondale                        |2076        |2071740       |1029.6918489065606|60           |7140        |840   |828.1034057380092 |\n",
            "|476            |Stebondale Street, Cubitt Town                |2116        |2809200       |1443.5765673175745|60           |7080        |1140  |1246.8948181184446|\n",
            "|473            |Millharbour, Millwall                         |2341        |2584920       |1164.9031095087878|60           |7080        |960   |994.6927366239296 |\n",
            "|754            |Grenfell Road, Avondale                       |2361        |2004480       |869.2454466608847 |60           |6960        |600   |875.5758655569787 |\n",
            "|504            |St John's Park, Cubitt Town                   |2375        |2234400       |1014.2532909668633|60           |7200        |600   |1073.7959792364466|\n",
            "|642            |Fawcett Close, Battersea                      |2453        |2602320       |1095.7136842105263|60           |7200        |840   |941.2429640187329 |\n",
            "|744            |Ingrave Street, Battersea                     |2461        |2976900       |1274.9036402569593|60           |7080        |1020  |968.4476737957956 |\n",
            "|729            |St. Peter�s Terrace, Fulham                   |2466        |2062620       |906.6461538461539 |120          |7080        |720   |800.6126474927497 |\n",
            "|45             |Boston Place, Marylebone                      |2475        |2292420       |937.9787234042553 |60           |6420        |840   |556.9779925608752 |\n",
            "|689            |Spanish Road, Wandsworth                      |2515        |2952960       |1245.9746835443038|120          |7140        |960   |1085.3578227530065|\n",
            "|563            |Preston's Road, Cubitt Town                   |2580        |2664840       |1085.0325732899023|60           |7200        |840   |984.926434006594  |\n",
            "|627            |Holden Street, Battersea                      |2629        |2955240       |1190.668815471394 |60           |6600        |1020  |852.9915797553583 |\n",
            "|637            |Spencer Park, Wandsworth Common               |2652        |3606480       |1459.5224605422907|60           |7200        |1140  |1153.5712962043096|\n",
            "|8              |Lodge Road, St. John's Wood                   |2710        |2624940       |1018.6030267753201|60           |7080        |840   |853.9136634359687 |\n",
            "|743            |Oxford Road, Putney                           |2718        |3729120       |1462.4            |60           |7200        |1200  |1235.3033264571975|\n",
            "|652            |Evesham Street, Avondale                      |2778        |2691480       |1021.4345351043643|60           |7140        |780   |849.8667941221406 |\n",
            "|775            |Little Brook Green, Brook Green               |2810        |2723580       |999.4788990825688 |60           |7140        |720   |911.210096495168  |\n",
            "|740            |Sirdar Road, Avondale                         |2843        |2188620       |811.2008895478132 |60           |6900        |480   |807.0722593775781 |\n",
            "|623            |Nantes Close, Wandsworth                      |2878        |2710920       |1001.4480975249354|60           |7140        |720   |993.4996270952093 |\n",
            "|704            |Mexfield Road, East Putney                    |2884        |3555840       |1314.543438077634 |120          |7200        |1020  |1129.5815749415774|\n",
            "|725            |Thessaly Road North, Nine Elms                |2946        |2987220       |1048.883426966292 |60           |7140        |960   |730.995262787446  |\n",
            "|468            |Cantrell Road, Bow                            |2968        |2757660       |989.1176470588235 |120          |6900        |900   |708.2777337967336 |\n",
            "|736            |Queensdale Road, Shepherd's Bush              |2998        |3011640       |1058.572934973638 |60           |7020        |780   |954.3777669150268 |\n",
            "|355            |Oval Way, Lambeth                             |3067        |2734020       |937.2711690092561 |60           |7080        |840   |752.00506523767   |\n",
            "|558            |John Islip Street, Westminster                |3197        |2209140       |789.542530378842  |60           |6780        |540   |696.3400962552721 |\n",
            "|543            |Lansdowne Walk, Notting Hill                  |3246        |3428160       |1123.6184857423796|60           |7200        |900   |1040.3801404747364|\n",
            "+---------------+----------------------------------------------+------------+--------------+------------------+-------------+------------+------+------------------+\n",
            "\n"
          ]
        }
      ],
      "source": [
        "start_df_ordered = start_df.orderBy(F.col(\"NumInstances\"))\n",
        "\n",
        "# Select the bottom 50 stations\n",
        "bottom_50_df = start_df_ordered.limit(50)\n",
        "\n",
        "# Show the bottom 50 stations\n",
        "bottom_50_df.show(50, truncate=False)"
      ]
    },
    {
      "cell_type": "code",
      "execution_count": null,
      "metadata": {
        "colab": {
          "base_uri": "https://localhost:8080/"
        },
        "id": "2fC5WvWrfhzC",
        "outputId": "46c0cd0a-fa76-42db-87fa-6416bccff8a7"
      },
      "outputs": [
        {
          "output_type": "stream",
          "name": "stdout",
          "text": [
            "+---------------+----------------------------------------------+------------+--------------+------------------+-------------+------------+------+------------------+\n",
            "|StartStation Id|StartStation Name                             |NumInstances|Total Duration|Mean Duration     |Shortest Ride|Longest Ride|Median|Standard Deviation|\n",
            "+---------------+----------------------------------------------+------------+--------------+------------------+-------------+------------+------+------------------+\n",
            "|778            |Pop Up Dock 1                                 |567         |674640        |1222.1739130434783|180          |7140        |1080  |800.3962168830079 |\n",
            "|777            |Limburg Road, Clapham Common                  |715         |949800        |1382.532751091703 |60           |7020        |1260  |976.9650102303724 |\n",
            "|767            |Santos Road, Wandsworth                       |754         |827400        |1134.9794238683128|120          |6120        |960   |896.3273850382172 |\n",
            "|672            |Grant Road Central, Clapham Junction          |804         |876360        |1170.0400534045393|60           |6720        |840   |1013.3138432478083|\n",
            "|555            |Westfield Eastern Access Road, Shepherd's Bush|830         |710760        |914.7490347490348 |60           |6060        |720   |956.0098671347437 |\n",
            "|767            |Wandsworth Museum, Wandsworth                 |902         |1128180       |1311.8372093023256|60           |7080        |1080  |1178.8788784359788|\n",
            "|494            |South Quay East, Canary Wharf                 |1057        |1591020       |1600.6237424547285|60           |7200        |1260  |1281.7152457067907|\n",
            "|752            |Manfred Road, East Putney                     |1225        |1534860       |1322.015503875969 |120          |7200        |1200  |1145.5775849796025|\n",
            "|519            |Teviot Street, Poplar                         |1288        |1343700       |1135.8410819949281|120          |6600        |960   |871.7081361066307 |\n",
            "|482            |Thornfield House, Poplar                      |1315        |1358460       |1132.05           |120          |6540        |1020  |905.3799708278917 |\n",
            "|472            |Malmesbury Road, Bow                          |1389        |1598040       |1220.8097784568372|60           |7020        |960   |1076.659639739109 |\n",
            "|554            |Aberfeldy Street, Poplar                      |1635        |1776960       |1164.4560943643512|180          |6720        |1020  |870.7881858571626 |\n",
            "|659            |Grant Road West, Clapham Junction             |1666        |1987740       |1262.858958068615 |60           |7020        |1020  |1053.3362776680954|\n",
            "|608            |Colet Gardens, Hammersmith                    |1690        |1929600       |1192.583436341162 |120          |7200        |900   |1042.038758894208 |\n",
            "|771            |Rifle Place, Avondale                         |1691        |1569180       |974.0409683426443 |60           |6900        |720   |850.0772318936124 |\n",
            "|776            |Abyssinia Close, Clapham Junction             |1842        |2307480       |1308.095238095238 |60           |6780        |1140  |982.7354832621    |\n",
            "|390            |Buxton Street 1, Shoreditch                   |1857        |1617960       |890.9471365638766 |60           |6180        |720   |680.8832260027053 |\n",
            "|502            |South Quay West, Canary Wharf                 |1894        |2294640       |1311.222857142857 |60           |6960        |1260  |785.2725226753474 |\n",
            "|474            |Castalia Square, Cubitt Town                  |1979        |1985580       |1073.2864864864864|60           |7140        |720   |1031.3523805742923|\n",
            "|678            |Esmond Street, Putney                         |1984        |2525580       |1354.1983914209115|60           |7200        |1200  |1175.1086212680625|\n",
            "|774            |Hurlingham Park, Parsons Green                |1991        |2155680       |1106.0441251924065|60           |6900        |900   |940.2054256412001 |\n",
            "|714            |Stewart's Road, Nine Elms                     |2038        |2563860       |1315.4746023601847|60           |6840        |1140  |876.3820080426991 |\n",
            "|741            |Freston Road, Avondale                        |2076        |2071740       |1029.6918489065606|60           |7140        |840   |828.1034057380092 |\n",
            "|476            |Stebondale Street, Cubitt Town                |2116        |2809200       |1443.5765673175745|60           |7080        |1140  |1246.8948181184446|\n",
            "|473            |Millharbour, Millwall                         |2341        |2584920       |1164.9031095087878|60           |7080        |960   |994.6927366239296 |\n",
            "|754            |Grenfell Road, Avondale                       |2361        |2004480       |869.2454466608847 |60           |6960        |600   |875.5758655569787 |\n",
            "|504            |St John's Park, Cubitt Town                   |2375        |2234400       |1014.2532909668633|60           |7200        |600   |1073.7959792364466|\n",
            "|642            |Fawcett Close, Battersea                      |2453        |2602320       |1095.7136842105263|60           |7200        |840   |941.2429640187329 |\n",
            "|744            |Ingrave Street, Battersea                     |2461        |2976900       |1274.9036402569593|60           |7080        |1020  |968.4476737957956 |\n",
            "|729            |St. Peter�s Terrace, Fulham                   |2466        |2062620       |906.6461538461539 |120          |7080        |720   |800.6126474927497 |\n",
            "|45             |Boston Place, Marylebone                      |2475        |2292420       |937.9787234042553 |60           |6420        |840   |556.9779925608752 |\n",
            "|689            |Spanish Road, Wandsworth                      |2515        |2952960       |1245.9746835443038|120          |7140        |960   |1085.3578227530065|\n",
            "|563            |Preston's Road, Cubitt Town                   |2580        |2664840       |1085.0325732899023|60           |7200        |840   |984.926434006594  |\n",
            "|627            |Holden Street, Battersea                      |2629        |2955240       |1190.668815471394 |60           |6600        |1020  |852.9915797553583 |\n",
            "|637            |Spencer Park, Wandsworth Common               |2652        |3606480       |1459.5224605422907|60           |7200        |1140  |1153.5712962043096|\n",
            "|8              |Lodge Road, St. John's Wood                   |2710        |2624940       |1018.6030267753201|60           |7080        |840   |853.9136634359687 |\n",
            "|743            |Oxford Road, Putney                           |2718        |3729120       |1462.4            |60           |7200        |1200  |1235.3033264571975|\n",
            "|652            |Evesham Street, Avondale                      |2778        |2691480       |1021.4345351043643|60           |7140        |780   |849.8667941221406 |\n",
            "|775            |Little Brook Green, Brook Green               |2810        |2723580       |999.4788990825688 |60           |7140        |720   |911.210096495168  |\n",
            "|740            |Sirdar Road, Avondale                         |2843        |2188620       |811.2008895478132 |60           |6900        |480   |807.0722593775781 |\n",
            "|623            |Nantes Close, Wandsworth                      |2878        |2710920       |1001.4480975249354|60           |7140        |720   |993.4996270952093 |\n",
            "|704            |Mexfield Road, East Putney                    |2884        |3555840       |1314.543438077634 |120          |7200        |1020  |1129.5815749415774|\n",
            "|725            |Thessaly Road North, Nine Elms                |2946        |2987220       |1048.883426966292 |60           |7140        |960   |730.995262787446  |\n",
            "|468            |Cantrell Road, Bow                            |2968        |2757660       |989.1176470588235 |120          |6900        |900   |708.2777337967336 |\n",
            "|736            |Queensdale Road, Shepherd's Bush              |2998        |3011640       |1058.572934973638 |60           |7020        |780   |954.3777669150268 |\n",
            "|355            |Oval Way, Lambeth                             |3067        |2734020       |937.2711690092561 |60           |7080        |840   |752.00506523767   |\n",
            "|558            |John Islip Street, Westminster                |3197        |2209140       |789.542530378842  |60           |6780        |540   |696.3400962552721 |\n",
            "|543            |Lansdowne Walk, Notting Hill                  |3246        |3428160       |1123.6184857423796|60           |7200        |900   |1040.3801404747364|\n",
            "|624            |Courland Grove, Wandsworth Road               |3265        |3768840       |1219.2947266256874|60           |7020        |1080  |876.3403718945698 |\n",
            "|648            |Peterborough Road, Sands End                  |3287        |3352620       |1062.9740012682307|60           |7140        |840   |923.9231058075152 |\n",
            "+---------------+----------------------------------------------+------------+--------------+------------------+-------------+------------+------+------------------+\n",
            "\n"
          ]
        }
      ],
      "source": [
        "start_df_ordered = (start_df\n",
        "                   .filter(F.col(\"NumInstances\") >= 100)  # Filter out instances where NumInstances < 100\n",
        "                   .orderBy(F.col(\"NumInstances\").asc()))\n",
        "# Select the bottom 50 stations\n",
        "bottom_50_df = start_df_ordered.limit(50)\n",
        "\n",
        "# Show the bottom 50 stations\n",
        "bottom_50_df.show(50, truncate=False)"
      ]
    },
    {
      "cell_type": "code",
      "execution_count": null,
      "metadata": {
        "id": "0HzQv4icvxB9"
      },
      "outputs": [],
      "source": [
        "filtered_df1 = (filtered_df1\n",
        "                   .filter(F.col(\"NumInstances\") >= 100))  # Filter out instances where NumInstances < 100 for actual dataframe\n"
      ]
    },
    {
      "cell_type": "code",
      "execution_count": null,
      "metadata": {
        "colab": {
          "base_uri": "https://localhost:8080/"
        },
        "id": "4MmoVV_3quZU",
        "outputId": "3664027b-a574-47b1-c917-2cab7eeb23e2"
      },
      "outputs": [
        {
          "output_type": "stream",
          "name": "stdout",
          "text": [
            "+---------------+-------------------------------------+------------+--------------+------------------+-------------+------------+------+------------------+\n",
            "|StartStation Id|StartStation Name                    |NumInstances|Total Duration|Mean Duration     |Shortest Ride|Longest Ride|Median|Standard Deviation|\n",
            "+---------------+-------------------------------------+------------+--------------+------------------+-------------+------------+------+------------------+\n",
            "|191            |Hyde Park Corner, Hyde Park          |102715      |201840600     |2114.0896998135618|60           |7200        |1620  |1472.6519098142294|\n",
            "|406            |Speakers' Corner 2, Hyde Park        |49282       |94882500      |2071.6250736883476|60           |7200        |1560  |1465.9306830047472|\n",
            "|407            |Speakers' Corner 1, Hyde Park        |42046       |77770140      |2018.3784485219694|60           |7200        |1560  |1446.8048859570383|\n",
            "|111            |Park Lane , Hyde Park                |18552       |33684600      |1965.033251662583 |60           |7200        |1500  |1427.4160916215235|\n",
            "|222            |Knightsbridge, Hyde Park             |16330       |29271180      |1920.5550816875534|60           |7200        |1500  |1382.888085003134 |\n",
            "|303            |Albert Gate, Hyde Park               |70908       |123357660     |1852.4118150556365|60           |7200        |1440  |1322.1125453031923|\n",
            "|307            |Black Lion Gate, Kensington Gardens  |72678       |124812180     |1837.8786941732562|120          |7200        |1440  |1422.6293401668258|\n",
            "|304            |Cumberland Gate, Hyde Park           |30583       |52076700      |1819.9727406164814|60           |7200        |1380  |1351.7836085043675|\n",
            "|213            |Wellington Arch, Hyde Park           |48996       |83191200      |1817.2349767360581|120          |7200        |1440  |1298.3140329422592|\n",
            "|404            |Palace Gate, Kensington Gardens      |44244       |75180480      |1799.2217302859879|60           |7200        |1380  |1354.116990272818 |\n",
            "|350            |Queen's Gate, Kensington Gardens     |29807       |50016060      |1762.4320800591986|60           |7200        |1380  |1293.9197239747368|\n",
            "|248            |Triangle Car Park, Hyde Park         |46200       |76116720      |1734.024056861673 |60           |7200        |1380  |1240.720465682248 |\n",
            "|481            |Saunders Ness Road, Cubitt Town      |10904       |16718040      |1651.3275385223233|120          |7200        |1380  |1239.9515688538245|\n",
            "|457            |Castlehaven Road, Camden Town        |21318       |32287620      |1618.3459475715504|60           |7200        |1320  |1127.7423188200537|\n",
            "|692            |Cadogan Close, Victoria Park         |12351       |18849060      |1610.4801777170198|180          |7200        |1320  |1103.1326409979292|\n",
            "|494            |South Quay East, Canary Wharf        |1057        |1591020       |1600.6237424547285|60           |7200        |1260  |1281.7152457067907|\n",
            "|564            |Somerset House, Strand               |13194       |19551180      |1585.787979560386 |120          |7200        |1320  |1114.2476418697415|\n",
            "|160            |Waterloo Place, St. James's          |17658       |26302740      |1581.453823953824 |60           |7200        |1260  |1171.1946388709018|\n",
            "|668            |Ravenscourt Park Station, Hammersmith|5797        |8554980       |1577.5364189562972|60           |7200        |1260  |1218.9273851319049|\n",
            "|300            |Serpentine Car Park, Hyde Park       |32513       |49187760      |1571.1927426052514|60           |7200        |1260  |1173.9482886172084|\n",
            "+---------------+-------------------------------------+------------+--------------+------------------+-------------+------------+------+------------------+\n",
            "only showing top 20 rows\n",
            "\n"
          ]
        }
      ],
      "source": [
        "#order the df by mean duration in descending order\n",
        "start_df_ordered = start_df_ordered.orderBy(F.col(\"Mean Duration\"))\n",
        "start_df_ordered = start_df_ordered.orderBy(desc(\"Mean Duration\"))\n",
        "\n",
        "\n",
        "# Show the DataFrame\n",
        "start_df_ordered.show(truncate=False)"
      ]
    },
    {
      "cell_type": "code",
      "execution_count": null,
      "metadata": {
        "id": "78DKlolSrbdj"
      },
      "outputs": [],
      "source": [
        "from pyspark.sql.functions import monotonically_increasing_id\n",
        "\n",
        "# Add a new column with unique IDs indicating the order of appearance, starting from 1. this will provide the rank of each startstation name with respect to duration legnth\n",
        "start_df_ordered = start_df_ordered.withColumn(\"Rank\", monotonically_increasing_id() + 1)\n"
      ]
    },
    {
      "cell_type": "code",
      "execution_count": null,
      "metadata": {
        "colab": {
          "base_uri": "https://localhost:8080/"
        },
        "id": "GZ7-qnzFjsug",
        "outputId": "f5763d56-00a4-4094-d1df-68c5d2cd59f1"
      },
      "outputs": [
        {
          "output_type": "stream",
          "name": "stdout",
          "text": [
            "+---------------+-------------------------------------+------------+--------------+------------------+-------------+------------+------+------------------+----+\n",
            "|StartStation Id|StartStation Name                    |NumInstances|Total Duration|Mean Duration     |Shortest Ride|Longest Ride|Median|Standard Deviation|Rank|\n",
            "+---------------+-------------------------------------+------------+--------------+------------------+-------------+------------+------+------------------+----+\n",
            "|191            |Hyde Park Corner, Hyde Park          |102715      |201840600     |2114.0896998135618|60           |7200        |1620  |1472.6519098142294|1   |\n",
            "|406            |Speakers' Corner 2, Hyde Park        |49282       |94882500      |2071.6250736883476|60           |7200        |1560  |1465.9306830047537|2   |\n",
            "|407            |Speakers' Corner 1, Hyde Park        |42046       |77770140      |2018.3784485219694|60           |7200        |1560  |1446.8048859570383|3   |\n",
            "|111            |Park Lane , Hyde Park                |18552       |33684600      |1965.033251662583 |60           |7200        |1500  |1427.4160916215235|4   |\n",
            "|222            |Knightsbridge, Hyde Park             |16330       |29271180      |1920.5550816875534|60           |7200        |1500  |1382.888085003134 |5   |\n",
            "|303            |Albert Gate, Hyde Park               |70908       |123357660     |1852.4118150556365|60           |7200        |1440  |1322.1125453031923|6   |\n",
            "|307            |Black Lion Gate, Kensington Gardens  |72678       |124812180     |1837.8786941732562|120          |7200        |1440  |1422.6293401668258|7   |\n",
            "|304            |Cumberland Gate, Hyde Park           |30583       |52076700      |1819.9727406164814|60           |7200        |1380  |1351.7836085043675|8   |\n",
            "|213            |Wellington Arch, Hyde Park           |48996       |83191200      |1817.2349767360581|120          |7200        |1440  |1298.3140329422592|9   |\n",
            "|404            |Palace Gate, Kensington Gardens      |44244       |75180480      |1799.2217302859879|60           |7200        |1380  |1354.116990272818 |10  |\n",
            "|350            |Queen's Gate, Kensington Gardens     |29807       |50016060      |1762.4320800591986|60           |7200        |1380  |1293.9197239747368|11  |\n",
            "|248            |Triangle Car Park, Hyde Park         |46200       |76116720      |1734.024056861673 |60           |7200        |1380  |1240.720465682248 |12  |\n",
            "|481            |Saunders Ness Road, Cubitt Town      |10904       |16718040      |1651.3275385223233|120          |7200        |1380  |1239.9515688538245|13  |\n",
            "|457            |Castlehaven Road, Camden Town        |21318       |32287620      |1618.3459475715504|60           |7200        |1320  |1127.7423188200553|14  |\n",
            "|692            |Cadogan Close, Victoria Park         |12351       |18849060      |1610.4801777170198|180          |7200        |1320  |1103.1326409979292|15  |\n",
            "|494            |South Quay East, Canary Wharf        |1057        |1591020       |1600.6237424547285|60           |7200        |1260  |1281.7152457067907|16  |\n",
            "|564            |Somerset House, Strand               |13194       |19551180      |1585.787979560386 |120          |7200        |1320  |1114.2476418697415|17  |\n",
            "|160            |Waterloo Place, St. James's          |17658       |26302740      |1581.453823953824 |60           |7200        |1260  |1171.1946388709018|18  |\n",
            "|668            |Ravenscourt Park Station, Hammersmith|5797        |8554980       |1577.5364189562972|60           |7200        |1260  |1218.9273851319022|19  |\n",
            "|300            |Serpentine Car Park, Hyde Park       |32513       |49187760      |1571.1927426052514|60           |7200        |1260  |1173.948288617209 |20  |\n",
            "+---------------+-------------------------------------+------------+--------------+------------------+-------------+------------+------+------------------+----+\n",
            "only showing top 20 rows\n",
            "\n"
          ]
        }
      ],
      "source": [
        "start_df_ordered.show(truncate=False)"
      ]
    },
    {
      "cell_type": "code",
      "execution_count": null,
      "metadata": {
        "colab": {
          "base_uri": "https://localhost:8080/"
        },
        "id": "_P7z1v5Ujutc",
        "outputId": "49494d15-61f4-48b0-afb8-d9ec3ad11208"
      },
      "outputs": [
        {
          "output_type": "stream",
          "name": "stdout",
          "text": [
            "+---------------+---------------------+------------+--------------+-----------------+-------------+------------+------+------------------+----+\n",
            "|StartStation Id|StartStation Name    |NumInstances|Total Duration|Mean Duration    |Shortest Ride|Longest Ride|Median|Standard Deviation|Rank|\n",
            "+---------------+---------------------+------------+--------------+-----------------+-------------+------------+------+------------------+----+\n",
            "|272            |Baylis Road, Waterloo|27270       |21324120      |815.5474815466401|60           |7200        |660   |674.2274941787757 |664 |\n",
            "+---------------+---------------------+------------+--------------+-----------------+-------------+------------+------+------------------+----+\n",
            "\n"
          ]
        }
      ],
      "source": [
        "baylis_roadrank = start_df_ordered.filter(col(\"StartStation Name\") == \"Baylis Road, Waterloo\")\n",
        "baylis_roadrank.show(truncate=False)\n"
      ]
    },
    {
      "cell_type": "code",
      "execution_count": null,
      "metadata": {
        "id": "iPWBjC4aM0IW"
      },
      "outputs": [],
      "source": [
        "import numpy as np\n",
        "from scipy.stats import levene"
      ]
    },
    {
      "cell_type": "code",
      "execution_count": null,
      "metadata": {
        "id": "9py4mXkRUA_0"
      },
      "outputs": [],
      "source": [
        "from scipy import stats"
      ]
    },
    {
      "cell_type": "code",
      "execution_count": null,
      "metadata": {
        "colab": {
          "base_uri": "https://localhost:8080/"
        },
        "id": "EYWWX0fodBv7",
        "outputId": "eb1d620f-c2eb-4902-e8cb-c84250944896"
      },
      "outputs": [
        {
          "output_type": "stream",
          "name": "stdout",
          "text": [
            "Collecting pingouin\n",
            "  Downloading pingouin-0.5.4-py2.py3-none-any.whl (198 kB)\n",
            "\u001b[2K     \u001b[90m━━━━━━━━━━━━━━━━━━━━━━━━━━━━━━━━━━━━━━━━\u001b[0m \u001b[32m198.9/198.9 kB\u001b[0m \u001b[31m1.6 MB/s\u001b[0m eta \u001b[36m0:00:00\u001b[0m\n",
            "\u001b[?25hRequirement already satisfied: numpy in /usr/local/lib/python3.10/dist-packages (from pingouin) (1.25.2)\n",
            "Requirement already satisfied: scipy in /usr/local/lib/python3.10/dist-packages (from pingouin) (1.11.4)\n",
            "Requirement already satisfied: pandas>=1.5 in /usr/local/lib/python3.10/dist-packages (from pingouin) (2.0.3)\n",
            "Requirement already satisfied: matplotlib in /usr/local/lib/python3.10/dist-packages (from pingouin) (3.7.1)\n",
            "Requirement already satisfied: seaborn in /usr/local/lib/python3.10/dist-packages (from pingouin) (0.13.1)\n",
            "Requirement already satisfied: statsmodels in /usr/local/lib/python3.10/dist-packages (from pingouin) (0.14.2)\n",
            "Requirement already satisfied: scikit-learn in /usr/local/lib/python3.10/dist-packages (from pingouin) (1.2.2)\n",
            "Collecting pandas-flavor (from pingouin)\n",
            "  Downloading pandas_flavor-0.6.0-py3-none-any.whl (7.2 kB)\n",
            "Requirement already satisfied: tabulate in /usr/local/lib/python3.10/dist-packages (from pingouin) (0.9.0)\n",
            "Requirement already satisfied: python-dateutil>=2.8.2 in /usr/local/lib/python3.10/dist-packages (from pandas>=1.5->pingouin) (2.8.2)\n",
            "Requirement already satisfied: pytz>=2020.1 in /usr/local/lib/python3.10/dist-packages (from pandas>=1.5->pingouin) (2023.4)\n",
            "Requirement already satisfied: tzdata>=2022.1 in /usr/local/lib/python3.10/dist-packages (from pandas>=1.5->pingouin) (2024.1)\n",
            "Requirement already satisfied: contourpy>=1.0.1 in /usr/local/lib/python3.10/dist-packages (from matplotlib->pingouin) (1.2.1)\n",
            "Requirement already satisfied: cycler>=0.10 in /usr/local/lib/python3.10/dist-packages (from matplotlib->pingouin) (0.12.1)\n",
            "Requirement already satisfied: fonttools>=4.22.0 in /usr/local/lib/python3.10/dist-packages (from matplotlib->pingouin) (4.53.0)\n",
            "Requirement already satisfied: kiwisolver>=1.0.1 in /usr/local/lib/python3.10/dist-packages (from matplotlib->pingouin) (1.4.5)\n",
            "Requirement already satisfied: packaging>=20.0 in /usr/local/lib/python3.10/dist-packages (from matplotlib->pingouin) (24.1)\n",
            "Requirement already satisfied: pillow>=6.2.0 in /usr/local/lib/python3.10/dist-packages (from matplotlib->pingouin) (9.4.0)\n",
            "Requirement already satisfied: pyparsing>=2.3.1 in /usr/local/lib/python3.10/dist-packages (from matplotlib->pingouin) (3.1.2)\n",
            "Requirement already satisfied: xarray in /usr/local/lib/python3.10/dist-packages (from pandas-flavor->pingouin) (2023.7.0)\n",
            "Requirement already satisfied: joblib>=1.1.1 in /usr/local/lib/python3.10/dist-packages (from scikit-learn->pingouin) (1.4.2)\n",
            "Requirement already satisfied: threadpoolctl>=2.0.0 in /usr/local/lib/python3.10/dist-packages (from scikit-learn->pingouin) (3.5.0)\n",
            "Requirement already satisfied: patsy>=0.5.6 in /usr/local/lib/python3.10/dist-packages (from statsmodels->pingouin) (0.5.6)\n",
            "Requirement already satisfied: six in /usr/local/lib/python3.10/dist-packages (from patsy>=0.5.6->statsmodels->pingouin) (1.16.0)\n",
            "Installing collected packages: pandas-flavor, pingouin\n",
            "Successfully installed pandas-flavor-0.6.0 pingouin-0.5.4\n"
          ]
        }
      ],
      "source": [
        "pip install pingouin"
      ]
    },
    {
      "cell_type": "code",
      "execution_count": null,
      "metadata": {
        "id": "9GLxgZVj3emi"
      },
      "outputs": [],
      "source": [
        "baylis_road_df1 = filtered_df1.filter(F.col(\"StartStation Name\") == \"Baylis Road, Waterloo\")#subset of main dataframe containing only instances where sartsation name is Baylis road"
      ]
    },
    {
      "cell_type": "code",
      "execution_count": null,
      "metadata": {
        "colab": {
          "base_uri": "https://localhost:8080/"
        },
        "id": "kNaFarH_hiVp",
        "outputId": "ae26b484-15a6-468f-bb50-a836f4c60e84"
      },
      "outputs": [
        {
          "output_type": "stream",
          "name": "stdout",
          "text": [
            "Number of rows in baylis_road_df1: 26147\n"
          ]
        }
      ],
      "source": [
        "row_count = baylis_road_df1.count()\n",
        "print(\"Number of rows in baylis_road_df1:\", row_count)"
      ]
    },
    {
      "cell_type": "code",
      "execution_count": null,
      "metadata": {
        "id": "bB1Lis9_6p7j"
      },
      "outputs": [],
      "source": [
        "other_stations_df = filtered_df1.filter(F.col(\"StartStation Name\") != \"Baylis Road, Waterloo\")#subset of main dataframe containing all instances apart from those where startstation name is baylis road"
      ]
    },
    {
      "cell_type": "code",
      "execution_count": null,
      "metadata": {
        "colab": {
          "base_uri": "https://localhost:8080/"
        },
        "id": "BFWgd8SRhj9z",
        "outputId": "8b013a46-27ec-48d0-a13c-ceba08992c52"
      },
      "outputs": [
        {
          "output_type": "stream",
          "name": "stdout",
          "text": [
            "Number of rows in other_stations_df: 9718336\n"
          ]
        }
      ],
      "source": [
        "row_count = other_stations_df.count()\n",
        "print(\"Number of rows in other_stations_df:\", row_count)"
      ]
    },
    {
      "cell_type": "code",
      "execution_count": null,
      "metadata": {
        "id": "AA-dx9LfqRK4"
      },
      "outputs": [],
      "source": [
        "duration_values = baylis_road_df1.select(\"duration\").rdd.flatMap(lambda x: x).collect() #extract all of the values from the duration column into a list for Baylis road"
      ]
    },
    {
      "cell_type": "code",
      "execution_count": null,
      "metadata": {
        "id": "hsiaKwQ1Qn7A"
      },
      "outputs": [],
      "source": [
        "duration_values1 = other_stations_df.select(\"duration\").rdd.flatMap(lambda x: x).collect() #extract all of the values from the duration column into a list for all other stations"
      ]
    },
    {
      "cell_type": "code",
      "execution_count": null,
      "metadata": {
        "id": "ZoRaISQ35HxX"
      },
      "outputs": [],
      "source": [
        "B = np.array(duration_values1)#convert duration values for all stations apart from baylis road into numpy array\n",
        "A = np.array(duration_values) #convert duration values for baylis road into numpy array"
      ]
    },
    {
      "cell_type": "code",
      "execution_count": null,
      "metadata": {
        "colab": {
          "base_uri": "https://localhost:8080/"
        },
        "id": "tbvDnv8-QJfV",
        "outputId": "c2466fb5-ee45-4993-9b4f-d24229172a15"
      },
      "outputs": [
        {
          "output_type": "stream",
          "name": "stdout",
          "text": [
            "[60, 60, 600, 480, 1020, 660, 540, 540, 780, 1020]\n"
          ]
        }
      ],
      "source": [
        "print(duration_values[:10]) #confirm values are in a numpy array"
      ]
    },
    {
      "cell_type": "code",
      "execution_count": null,
      "metadata": {
        "id": "sVPiInVdDmNK",
        "outputId": "43022a77-9096-465a-e017-b0fc584b1b8a",
        "colab": {
          "base_uri": "https://localhost:8080/"
        }
      },
      "outputs": [
        {
          "output_type": "stream",
          "name": "stdout",
          "text": [
            "Number of rows in filtered_df1: 9744483\n"
          ]
        }
      ],
      "source": [
        "print(\"Number of rows in filtered_df1:\", filtered_df1.count()) #how many instances there were in total"
      ]
    },
    {
      "cell_type": "code",
      "execution_count": null,
      "metadata": {
        "id": "AwLTEGa8g99c",
        "outputId": "01f1cdcd-6c10-476a-c0b4-5ef9a9750281",
        "colab": {
          "base_uri": "https://localhost:8080/"
        }
      },
      "outputs": [
        {
          "output_type": "stream",
          "name": "stdout",
          "text": [
            "Number of elements in mean_durations: 26147\n"
          ]
        }
      ],
      "source": [
        "print(\"Number of elements in Baylis road Array:\", len(A)) #observe the number of duration values for Baylis Road. confirmed to correspond with number of instances present for the dataframe"
      ]
    },
    {
      "cell_type": "code",
      "execution_count": null,
      "metadata": {
        "id": "CXUIYTCJQXO7",
        "outputId": "d7809d02-df14-4c74-efa1-ea0b40f0f078",
        "colab": {
          "base_uri": "https://localhost:8080/"
        }
      },
      "outputs": [
        {
          "output_type": "stream",
          "name": "stdout",
          "text": [
            "Number of elements in mean_durations: 9718336\n"
          ]
        }
      ],
      "source": [
        "print(\"Number of elements in Other stations Array:\", len(B))#observe the number of duration values for Baylis Road. confirmed to correspond with number of instances present for the dataframe, and len(B) + len(A) = filtered_df1.count therefore can continue as no data loss\n"
      ]
    },
    {
      "cell_type": "code",
      "execution_count": null,
      "metadata": {
        "id": "IlQnbKEfVV0U"
      },
      "outputs": [],
      "source": [
        "from scipy.stats import levene"
      ]
    },
    {
      "cell_type": "code",
      "execution_count": null,
      "metadata": {
        "id": "oFbM0UWR5Mbo",
        "outputId": "a1369bae-7a7a-466c-b66a-356f957fa850",
        "colab": {
          "base_uri": "https://localhost:8080/"
        }
      },
      "outputs": [
        {
          "output_type": "stream",
          "name": "stdout",
          "text": [
            "Levene's test statistic: 1318.6078638588183\n",
            "p-value: 1.0687954252652312e-288\n"
          ]
        }
      ],
      "source": [
        "# Perform Levene's test\n",
        "statistic, p_value = levene(A, B)\n",
        "\n",
        "# Print results\n",
        "print(\"Levene's test statistic:\", statistic)\n",
        "print(\"p-value:\", p_value)"
      ]
    },
    {
      "cell_type": "code",
      "execution_count": null,
      "metadata": {
        "id": "S53Do28u43Q3",
        "outputId": "70a72ae1-3902-4afc-9474-d866f2d1e1b2",
        "colab": {
          "base_uri": "https://localhost:8080/",
          "height": 472
        }
      },
      "outputs": [
        {
          "output_type": "display_data",
          "data": {
            "text/plain": [
              "<Figure size 640x480 with 1 Axes>"
            ],
            "image/png": "[encoded data removed]"
          },
          "metadata": {}
        }
      ],
      "source": [
        "import matplotlib.pyplot as plt\n",
        "\n",
        "# Plot histogram\n",
        "plt.hist(A, bins=30, edgecolor='black')\n",
        "\n",
        "# Add labels and title\n",
        "plt.xlabel('Duration (secs)')\n",
        "plt.ylabel('Frequency')\n",
        "plt.title('Frequency Histogram of Durations for Baylis Road')\n",
        "\n",
        "# Show plot\n",
        "plt.show()"
      ]
    },
    {
      "cell_type": "code",
      "execution_count": null,
      "metadata": {
        "id": "3cJQEomD46TC",
        "outputId": "1dd0acf0-daa5-4d9f-bce9-971a3d7f1c24",
        "colab": {
          "base_uri": "https://localhost:8080/",
          "height": 487
        }
      },
      "outputs": [
        {
          "output_type": "display_data",
          "data": {
            "text/plain": [
              "<Figure size 640x480 with 1 Axes>"
            ],
            "image/png": "[encoded data removed]"
          },
          "metadata": {}
        }
      ],
      "source": [
        "import matplotlib.pyplot as plt\n",
        "\n",
        "# Plot histogram\n",
        "plt.hist(B, bins=30, edgecolor='black')\n",
        "\n",
        "# Add labels and title\n",
        "plt.xlabel('Duration (secs)')\n",
        "plt.ylabel('Frequency')\n",
        "plt.title('Frequency Histogram of Durations for All Other Stations')\n",
        "\n",
        "# Show plot\n",
        "plt.show()"
      ]
    },
    {
      "cell_type": "code",
      "execution_count": null,
      "metadata": {
        "id": "Qaa2J0cq30Kc",
        "outputId": "9dfbdbbf-90f6-4981-f72e-3b5cfc9efc13",
        "colab": {
          "base_uri": "https://localhost:8080/"
        }
      },
      "outputs": [
        {
          "output_type": "stream",
          "name": "stderr",
          "text": [
            "/usr/local/lib/python3.10/dist-packages/scipy/stats/_morestats.py:1882: UserWarning: p-value may not be accurate for N > 5000.\n",
            "  warnings.warn(\"p-value may not be accurate for N > 5000.\")\n"
          ]
        },
        {
          "output_type": "stream",
          "name": "stdout",
          "text": [
            "Shapiro-Wilk test statistic for group A: 0.6913207769393921\n",
            "p-value for group A: 0.0\n",
            "Shapiro-Wilk test statistic for group B: 0.7599567174911499\n",
            "p-value for group B: 0.0\n"
          ]
        }
      ],
      "source": [
        "from scipy.stats import shapiro\n",
        "\n",
        "# Perform Shapiro-Wilk test for group A\n",
        "statistic_A, p_value_A = shapiro(A)\n",
        "print(\"Shapiro-Wilk test statistic for group A:\", statistic_A)\n",
        "print(\"p-value for group A:\", p_value_A)\n",
        "\n",
        "# Perform Shapiro-Wilk test for group B\n",
        "statistic_B, p_value_B = shapiro(B)\n",
        "print(\"Shapiro-Wilk test statistic for group B:\", statistic_B)\n",
        "print(\"p-value for group B:\", p_value_B)"
      ]
    },
    {
      "cell_type": "code",
      "execution_count": null,
      "metadata": {
        "id": "o1tHvlOnPaKz",
        "outputId": "65eb3945-ccfd-4db5-c422-ebe842d750f4",
        "colab": {
          "base_uri": "https://localhost:8080/"
        }
      },
      "outputs": [
        {
          "output_type": "execute_result",
          "data": {
            "text/plain": [
              "TtestResult(statistic=55.944622098088196, pvalue=0.0, df=26400.3030258823)"
            ]
          },
          "metadata": {},
          "execution_count": 115
        }
      ],
      "source": [
        "#perform a Welch t-test var=false ensures welch's t test is performed instead of the standard independent two sample t test\n",
        "stats.ttest_ind(B,A, equal_var=False)"
      ]
    },
    {
      "cell_type": "code",
      "execution_count": null,
      "metadata": {
        "id": "xhd7tGiv4oK_"
      },
      "outputs": [],
      "source": []
    },
    {
      "cell_type": "code",
      "execution_count": null,
      "metadata": {
        "id": "N9wBh4zDY-O5"
      },
      "outputs": [],
      "source": []
    },
    {
      "cell_type": "code",
      "execution_count": null,
      "metadata": {
        "id": "05Qb3meWY-SQ"
      },
      "outputs": [],
      "source": []
    },
    {
      "cell_type": "code",
      "execution_count": null,
      "metadata": {
        "id": "WfMJ3W7xY-Vj"
      },
      "outputs": [],
      "source": []
    },
    {
      "cell_type": "code",
      "execution_count": null,
      "metadata": {
        "id": "PQVFJJr0Y-ZW"
      },
      "outputs": [],
      "source": []
    },
    {
      "cell_type": "code",
      "execution_count": null,
      "metadata": {
        "id": "bGQt3AqdWele"
      },
      "outputs": [],
      "source": []
    }
  ],
  "metadata": {
    "colab": {
      "provenance": []
    },
    "kernelspec": {
      "display_name": "Python 3",
      "name": "python3"
    },
    "language_info": {
      "name": "python"
    }
  },
  "nbformat": 4,
  "nbformat_minor": 0
}