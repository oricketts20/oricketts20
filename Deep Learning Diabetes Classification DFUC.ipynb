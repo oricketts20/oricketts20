{
  "cells": [
    {
      "cell_type": "code",
      "execution_count": null,
      "metadata": {
        "colab": {
          "base_uri": "https://localhost:8080/"
        },
        "id": "lBKW0ulSJGQm",
        "outputId": "57232e42-4886-4b86-9d8a-826179e0b805"
      },
      "outputs": [
        {
          "output_type": "stream",
          "name": "stdout",
          "text": [
            "Collecting timm\n",
            "  Downloading timm-0.9.16-py3-none-any.whl (2.2 MB)\n",
            "\u001b[2K     \u001b[90m━━━━━━━━━━━━━━━━━━━━━━━━━━━━━━━━━━━━━━━━\u001b[0m \u001b[32m2.2/2.2 MB\u001b[0m \u001b[31m9.4 MB/s\u001b[0m eta \u001b[36m0:00:00\u001b[0m\n",
            "\u001b[?25hRequirement already satisfied: torch in /usr/local/lib/python3.10/dist-packages (from timm) (2.2.1+cu121)\n",
            "Requirement already satisfied: torchvision in /usr/local/lib/python3.10/dist-packages (from timm) (0.17.1+cu121)\n",
            "Requirement already satisfied: pyyaml in /usr/local/lib/python3.10/dist-packages (from timm) (6.0.1)\n",
            "Requirement already satisfied: huggingface_hub in /usr/local/lib/python3.10/dist-packages (from timm) (0.20.3)\n",
            "Requirement already satisfied: safetensors in /usr/local/lib/python3.10/dist-packages (from timm) (0.4.2)\n",
            "Requirement already satisfied: filelock in /usr/local/lib/python3.10/dist-packages (from huggingface_hub->timm) (3.13.1)\n",
            "Requirement already satisfied: fsspec>=2023.5.0 in /usr/local/lib/python3.10/dist-packages (from huggingface_hub->timm) (2023.6.0)\n",
            "Requirement already satisfied: requests in /usr/local/lib/python3.10/dist-packages (from huggingface_hub->timm) (2.31.0)\n",
            "Requirement already satisfied: tqdm>=4.42.1 in /usr/local/lib/python3.10/dist-packages (from huggingface_hub->timm) (4.66.2)\n",
            "Requirement already satisfied: typing-extensions>=3.7.4.3 in /usr/local/lib/python3.10/dist-packages (from huggingface_hub->timm) (4.10.0)\n",
            "Requirement already satisfied: packaging>=20.9 in /usr/local/lib/python3.10/dist-packages (from huggingface_hub->timm) (24.0)\n",
            "Requirement already satisfied: sympy in /usr/local/lib/python3.10/dist-packages (from torch->timm) (1.12)\n",
            "Requirement already satisfied: networkx in /usr/local/lib/python3.10/dist-packages (from torch->timm) (3.2.1)\n",
            "Requirement already satisfied: jinja2 in /usr/local/lib/python3.10/dist-packages (from torch->timm) (3.1.3)\n",
            "Collecting nvidia-cuda-nvrtc-cu12==12.1.105 (from torch->timm)\n",
            "  Downloading nvidia_cuda_nvrtc_cu12-12.1.105-py3-none-manylinux1_x86_64.whl (23.7 MB)\n",
            "\u001b[2K     \u001b[90m━━━━━━━━━━━━━━━━━━━━━━━━━━━━━━━━━━━━━━━━\u001b[0m \u001b[32m23.7/23.7 MB\u001b[0m \u001b[31m15.9 MB/s\u001b[0m eta \u001b[36m0:00:00\u001b[0m\n",
            "\u001b[?25hCollecting nvidia-cuda-runtime-cu12==12.1.105 (from torch->timm)\n",
            "  Downloading nvidia_cuda_runtime_cu12-12.1.105-py3-none-manylinux1_x86_64.whl (823 kB)\n",
            "\u001b[2K     \u001b[90m━━━━━━━━━━━━━━━━━━━━━━━━━━━━━━━━━━━━━━━━\u001b[0m \u001b[32m823.6/823.6 kB\u001b[0m \u001b[31m22.3 MB/s\u001b[0m eta \u001b[36m0:00:00\u001b[0m\n",
            "\u001b[?25hCollecting nvidia-cuda-cupti-cu12==12.1.105 (from torch->timm)\n",
            "  Downloading nvidia_cuda_cupti_cu12-12.1.105-py3-none-manylinux1_x86_64.whl (14.1 MB)\n",
            "\u001b[2K     \u001b[90m━━━━━━━━━━━━━━━━━━━━━━━━━━━━━━━━━━━━━━━━\u001b[0m \u001b[32m14.1/14.1 MB\u001b[0m \u001b[31m25.8 MB/s\u001b[0m eta \u001b[36m0:00:00\u001b[0m\n",
            "\u001b[?25hCollecting nvidia-cudnn-cu12==8.9.2.26 (from torch->timm)\n",
            "  Downloading nvidia_cudnn_cu12-8.9.2.26-py3-none-manylinux1_x86_64.whl (731.7 MB)\n",
            "\u001b[2K     \u001b[90m━━━━━━━━━━━━━━━━━━━━━━━━━━━━━━━━━━━━━━━━\u001b[0m \u001b[32m731.7/731.7 MB\u001b[0m \u001b[31m1.7 MB/s\u001b[0m eta \u001b[36m0:00:00\u001b[0m\n",
            "\u001b[?25hCollecting nvidia-cublas-cu12==12.1.3.1 (from torch->timm)\n",
            "  Downloading nvidia_cublas_cu12-12.1.3.1-py3-none-manylinux1_x86_64.whl (410.6 MB)\n",
            "\u001b[2K     \u001b[90m━━━━━━━━━━━━━━━━━━━━━━━━━━━━━━━━━━━━━━━━\u001b[0m \u001b[32m410.6/410.6 MB\u001b[0m \u001b[31m2.7 MB/s\u001b[0m eta \u001b[36m0:00:00\u001b[0m\n",
            "\u001b[?25hCollecting nvidia-cufft-cu12==11.0.2.54 (from torch->timm)\n",
            "  Downloading nvidia_cufft_cu12-11.0.2.54-py3-none-manylinux1_x86_64.whl (121.6 MB)\n",
            "\u001b[2K     \u001b[90m━━━━━━━━━━━━━━━━━━━━━━━━━━━━━━━━━━━━━━━━\u001b[0m \u001b[32m121.6/121.6 MB\u001b[0m \u001b[31m7.9 MB/s\u001b[0m eta \u001b[36m0:00:00\u001b[0m\n",
            "\u001b[?25hCollecting nvidia-curand-cu12==10.3.2.106 (from torch->timm)\n",
            "  Downloading nvidia_curand_cu12-10.3.2.106-py3-none-manylinux1_x86_64.whl (56.5 MB)\n",
            "\u001b[2K     \u001b[90m━━━━━━━━━━━━━━━━━━━━━━━━━━━━━━━━━━━━━━━━\u001b[0m \u001b[32m56.5/56.5 MB\u001b[0m \u001b[31m11.8 MB/s\u001b[0m eta \u001b[36m0:00:00\u001b[0m\n",
            "\u001b[?25hCollecting nvidia-cusolver-cu12==11.4.5.107 (from torch->timm)\n",
            "  Downloading nvidia_cusolver_cu12-11.4.5.107-py3-none-manylinux1_x86_64.whl (124.2 MB)\n",
            "\u001b[2K     \u001b[90m━━━━━━━━━━━━━━━━━━━━━━━━━━━━━━━━━━━━━━━━\u001b[0m \u001b[32m124.2/124.2 MB\u001b[0m \u001b[31m8.2 MB/s\u001b[0m eta \u001b[36m0:00:00\u001b[0m\n",
            "\u001b[?25hCollecting nvidia-cusparse-cu12==12.1.0.106 (from torch->timm)\n",
            "  Downloading nvidia_cusparse_cu12-12.1.0.106-py3-none-manylinux1_x86_64.whl (196.0 MB)\n",
            "\u001b[2K     \u001b[90m━━━━━━━━━━━━━━━━━━━━━━━━━━━━━━━━━━━━━━━━\u001b[0m \u001b[32m196.0/196.0 MB\u001b[0m \u001b[31m6.7 MB/s\u001b[0m eta \u001b[36m0:00:00\u001b[0m\n",
            "\u001b[?25hCollecting nvidia-nccl-cu12==2.19.3 (from torch->timm)\n",
            "  Downloading nvidia_nccl_cu12-2.19.3-py3-none-manylinux1_x86_64.whl (166.0 MB)\n",
            "\u001b[2K     \u001b[90m━━━━━━━━━━━━━━━━━━━━━━━━━━━━━━━━━━━━━━━━\u001b[0m \u001b[32m166.0/166.0 MB\u001b[0m \u001b[31m7.0 MB/s\u001b[0m eta \u001b[36m0:00:00\u001b[0m\n",
            "\u001b[?25hCollecting nvidia-nvtx-cu12==12.1.105 (from torch->timm)\n",
            "  Downloading nvidia_nvtx_cu12-12.1.105-py3-none-manylinux1_x86_64.whl (99 kB)\n",
            "\u001b[2K     \u001b[90m━━━━━━━━━━━━━━━━━━━━━━━━━━━━━━━━━━━━━━━━\u001b[0m \u001b[32m99.1/99.1 kB\u001b[0m \u001b[31m14.5 MB/s\u001b[0m eta \u001b[36m0:00:00\u001b[0m\n",
            "\u001b[?25hRequirement already satisfied: triton==2.2.0 in /usr/local/lib/python3.10/dist-packages (from torch->timm) (2.2.0)\n",
            "Collecting nvidia-nvjitlink-cu12 (from nvidia-cusolver-cu12==11.4.5.107->torch->timm)\n",
            "  Downloading nvidia_nvjitlink_cu12-12.4.99-py3-none-manylinux2014_x86_64.whl (21.1 MB)\n",
            "\u001b[2K     \u001b[90m━━━━━━━━━━━━━━━━━━━━━━━━━━━━━━━━━━━━━━━━\u001b[0m \u001b[32m21.1/21.1 MB\u001b[0m \u001b[31m52.4 MB/s\u001b[0m eta \u001b[36m0:00:00\u001b[0m\n",
            "\u001b[?25hRequirement already satisfied: numpy in /usr/local/lib/python3.10/dist-packages (from torchvision->timm) (1.25.2)\n",
            "Requirement already satisfied: pillow!=8.3.*,>=5.3.0 in /usr/local/lib/python3.10/dist-packages (from torchvision->timm) (9.4.0)\n",
            "Requirement already satisfied: MarkupSafe>=2.0 in /usr/local/lib/python3.10/dist-packages (from jinja2->torch->timm) (2.1.5)\n",
            "Requirement already satisfied: charset-normalizer<4,>=2 in /usr/local/lib/python3.10/dist-packages (from requests->huggingface_hub->timm) (3.3.2)\n",
            "Requirement already satisfied: idna<4,>=2.5 in /usr/local/lib/python3.10/dist-packages (from requests->huggingface_hub->timm) (3.6)\n",
            "Requirement already satisfied: urllib3<3,>=1.21.1 in /usr/local/lib/python3.10/dist-packages (from requests->huggingface_hub->timm) (2.0.7)\n",
            "Requirement already satisfied: certifi>=2017.4.17 in /usr/local/lib/python3.10/dist-packages (from requests->huggingface_hub->timm) (2024.2.2)\n",
            "Requirement already satisfied: mpmath>=0.19 in /usr/local/lib/python3.10/dist-packages (from sympy->torch->timm) (1.3.0)\n",
            "Installing collected packages: nvidia-nvtx-cu12, nvidia-nvjitlink-cu12, nvidia-nccl-cu12, nvidia-curand-cu12, nvidia-cufft-cu12, nvidia-cuda-runtime-cu12, nvidia-cuda-nvrtc-cu12, nvidia-cuda-cupti-cu12, nvidia-cublas-cu12, nvidia-cusparse-cu12, nvidia-cudnn-cu12, nvidia-cusolver-cu12, timm\n",
            "Successfully installed nvidia-cublas-cu12-12.1.3.1 nvidia-cuda-cupti-cu12-12.1.105 nvidia-cuda-nvrtc-cu12-12.1.105 nvidia-cuda-runtime-cu12-12.1.105 nvidia-cudnn-cu12-8.9.2.26 nvidia-cufft-cu12-11.0.2.54 nvidia-curand-cu12-10.3.2.106 nvidia-cusolver-cu12-11.4.5.107 nvidia-cusparse-cu12-12.1.0.106 nvidia-nccl-cu12-2.19.3 nvidia-nvjitlink-cu12-12.4.99 nvidia-nvtx-cu12-12.1.105 timm-0.9.16\n"
          ]
        }
      ],
      "source": [
        "#pip install tensorflow-gpu\n",
        "!pip install timm"
      ]
    },
    {
      "cell_type": "code",
      "source": [
        "# Load the ViT models\n",
        "import timm\n",
        "import torch\n",
        "vit_base_model = timm.create_model('vit_base_patch16_224', pretrained=True)\n",
        "vit_small_model = timm.create_model('vit_small_patch16_224', pretrained=True)\n",
        "vit_tiny_model = timm.create_model('vit_tiny_patch16_224', pretrained=True)\n",
        "\n",
        "# Count the number of trainable parameters for each model\n",
        "num_params_base = sum(p.numel() for p in vit_base_model.parameters() if p.requires_grad)\n",
        "num_params_small = sum(p.numel() for p in vit_small_model.parameters() if p.requires_grad)\n",
        "num_params_tiny = sum(p.numel() for p in vit_tiny_model.parameters() if p.requires_grad)\n",
        "\n",
        "# Print the number of parameters for each model\n",
        "print(f\"Number of trainable parameters in ViT base model: {num_params_base}\")\n",
        "print(f\"Number of trainable parameters in ViT small model: {num_params_small}\")\n",
        "print(f\"Number of trainable parameters in ViT tiny model: {num_params_tiny}\")"
      ],
      "metadata": {
        "colab": {
          "base_uri": "https://localhost:8080/",
          "height": 269,
          "referenced_widgets": [
            "7d11bc3368704e3db473ab6e458fd069",
            "40afe08a04764ceea3135c7721b85fd1",
            "3b7ef1f2b3884c56a77c33f2952cb4cf",
            "0ad0ce56982c42d6af16c96bf16e8dbc",
            "466894fc52984beeaf1ed643cba502ab",
            "9893245f5f874a2b92b9d0b01757f32a",
            "b9e115a1c0e841ec9fc0e0e33d576bc9",
            "dacba70556fa4816843525885d76c2ba",
            "7ebb0b6214e540a9af10b0759e90c9a1",
            "726cdb9ec6d4425f95a136100b0e02ac",
            "1b2a8ba1a745491492b4dcd84a35195e",
            "e9dac9f0d1064838b020b2632750222e",
            "fd8129b635694a4a834fdb90824765e8",
            "6e5af3e047e14b049e858999b3b831fd",
            "24184c335a4c4e9baea5bf350183ea8a",
            "b8ffab524e9f40ce97383ce27ac47adb",
            "f74e10076d9f4a32812d84c752a17cd3",
            "77aaab099380466691899d931e976513",
            "49fc20548fe44940a01f3766a8c67bf9",
            "75c2f485246d48bc84aa40adb6f7135b",
            "816d047ffade43e5a068a40465f2b92f",
            "8cfad82b65d94d83a03786e8e3e23911",
            "22fbfae495bd4eb886307b5bde7bd4dd",
            "216dfe5816be48a493fc22853f8029c0",
            "b0d0a952b08c4b64823e4bc94045432e",
            "c28a5224b1fc4e1f9d08cd7b7c4952a6",
            "efd35f9dd9124978816506813eed0618",
            "4620b2b64aaf4b45ba47dc139e58fa80",
            "58117815ab7944b3967b71f9d868444e",
            "e9c1f117ddd5465c809071031b4850e0",
            "a2e98d391d2641d585e1142ceafafcf2",
            "309cb125c54d40209789d02ed5941f6d",
            "e04f93d4d5d6492382ef8810275760c2"
          ]
        },
        "id": "ayjw-AtNYhGZ",
        "outputId": "6cb2d320-9d35-4b79-9a5c-d931ee6b436b"
      },
      "execution_count": null,
      "outputs": [
        {
          "output_type": "stream",
          "name": "stderr",
          "text": [
            "/usr/local/lib/python3.10/dist-packages/huggingface_hub/utils/_token.py:88: UserWarning: \n",
            "The secret `HF_TOKEN` does not exist in your Colab secrets.\n",
            "To authenticate with the Hugging Face Hub, create a token in your settings tab (https://huggingface.co/settings/tokens), set it as secret in your Google Colab and restart your session.\n",
            "You will be able to reuse this secret in all of your notebooks.\n",
            "Please note that authentication is recommended but still optional to access public models or datasets.\n",
            "  warnings.warn(\n"
          ]
        },
        {
          "output_type": "display_data",
          "data": {
            "text/plain": [
              "model.safetensors:   0%|          | 0.00/346M [00:00<?, ?B/s]"
            ],
            "application/vnd.jupyter.widget-view+json": {
              "version_major": 2,
              "version_minor": 0,
              "model_id": "7d11bc3368704e3db473ab6e458fd069"
            }
          },
          "metadata": {}
        },
        {
          "output_type": "display_data",
          "data": {
            "text/plain": [
              "model.safetensors:   0%|          | 0.00/88.2M [00:00<?, ?B/s]"
            ],
            "application/vnd.jupyter.widget-view+json": {
              "version_major": 2,
              "version_minor": 0,
              "model_id": "e9dac9f0d1064838b020b2632750222e"
            }
          },
          "metadata": {}
        },
        {
          "output_type": "display_data",
          "data": {
            "text/plain": [
              "model.safetensors:   0%|          | 0.00/22.9M [00:00<?, ?B/s]"
            ],
            "application/vnd.jupyter.widget-view+json": {
              "version_major": 2,
              "version_minor": 0,
              "model_id": "22fbfae495bd4eb886307b5bde7bd4dd"
            }
          },
          "metadata": {}
        },
        {
          "output_type": "stream",
          "name": "stdout",
          "text": [
            "Number of trainable parameters in ViT base model: 86567656\n",
            "Number of trainable parameters in ViT small model: 22050664\n",
            "Number of trainable parameters in ViT tiny model: 5717416\n"
          ]
        }
      ]
    },
    {
      "cell_type": "code",
      "source": [
        "vit_tiny_model = timm.create_model('vit_tiny_patch16_224', pretrained=True)\n",
        "num_params_tiny = sum(p.numel() for p in vit_tiny_model.parameters() if p.requires_grad)\n",
        "print(f\"Number of trainable parameters in ViT tiny model: {num_params_tiny}\")"
      ],
      "metadata": {
        "colab": {
          "base_uri": "https://localhost:8080/"
        },
        "id": "bOtnzLY0dkj4",
        "outputId": "96229492-ce7b-416e-8e98-321ad64256da"
      },
      "execution_count": null,
      "outputs": [
        {
          "output_type": "stream",
          "name": "stdout",
          "text": [
            "Number of trainable parameters in ViT tiny model: 5717416\n"
          ]
        }
      ]
    },
    {
      "cell_type": "code",
      "execution_count": null,
      "metadata": {
        "id": "e1mcgfk4IxrH"
      },
      "outputs": [],
      "source": [
        "# Import necessary packages.\n",
        "import numpy as np\n",
        "from PIL import Image\n",
        "\n",
        "import torch\n",
        "import torch.nn as nn\n",
        "\n",
        "from torch.utils.data import random_split\n",
        "from torch.utils.data import DataLoader, Subset\n",
        "\n",
        "import torchvision\n",
        "from torchvision import datasets\n",
        "from torchvision.datasets import DatasetFolder\n",
        "import torchvision.transforms as transforms\n",
        "import torchvision.models as models\n",
        "\n",
        "# This is for the progress bar\n",
        "from tqdm.auto import tqdm\n",
        "#pip install keras tensorflow\n",
        "# This is for ploting\n",
        "import matplotlib.pyplot as plt\n",
        "from keras.preprocessing.image import ImageDataGenerator\n",
        "from keras.applications.resnet50 import preprocess_input\n",
        "import torch.optim as optim\n",
        "import timm\n",
        "from torchvision.models import resnet50"
      ]
    },
    {
      "cell_type": "code",
      "execution_count": null,
      "metadata": {
        "colab": {
          "base_uri": "https://localhost:8080/"
        },
        "id": "-WIkBPHmJeu0",
        "outputId": "0469d72d-0a7f-4d7e-f8d2-aa2c3c9782e5"
      },
      "outputs": [
        {
          "output_type": "stream",
          "name": "stdout",
          "text": [
            "Wed Mar 27 15:42:34 2024       \n",
            "+---------------------------------------------------------------------------------------+\n",
            "| NVIDIA-SMI 535.104.05             Driver Version: 535.104.05   CUDA Version: 12.2     |\n",
            "|-----------------------------------------+----------------------+----------------------+\n",
            "| GPU  Name                 Persistence-M | Bus-Id        Disp.A | Volatile Uncorr. ECC |\n",
            "| Fan  Temp   Perf          Pwr:Usage/Cap |         Memory-Usage | GPU-Util  Compute M. |\n",
            "|                                         |                      |               MIG M. |\n",
            "|=========================================+======================+======================|\n",
            "|   0  Tesla T4                       Off | 00000000:00:04.0 Off |                    0 |\n",
            "| N/A   35C    P8               9W /  70W |      0MiB / 15360MiB |      0%      Default |\n",
            "|                                         |                      |                  N/A |\n",
            "+-----------------------------------------+----------------------+----------------------+\n",
            "                                                                                         \n",
            "+---------------------------------------------------------------------------------------+\n",
            "| Processes:                                                                            |\n",
            "|  GPU   GI   CI        PID   Type   Process name                            GPU Memory |\n",
            "|        ID   ID                                                             Usage      |\n",
            "|=======================================================================================|\n",
            "|  No running processes found                                                           |\n",
            "+---------------------------------------------------------------------------------------+\n"
          ]
        }
      ],
      "source": [
        "gpu_info = !nvidia-smi\n",
        "gpu_info = '\\n'.join(gpu_info)\n",
        "if gpu_info.find('failed') >= 0:\n",
        "  print('Not connected to a GPU')\n",
        "else:\n",
        "  print(gpu_info)"
      ]
    },
    {
      "cell_type": "code",
      "execution_count": null,
      "metadata": {
        "colab": {
          "base_uri": "https://localhost:8080/"
        },
        "id": "VghMZFZeKL5L",
        "outputId": "23062b01-0eb2-41a2-afa7-ea6bc9036d6e"
      },
      "outputs": [
        {
          "output_type": "stream",
          "name": "stdout",
          "text": [
            "Your runtime has 13.6 gigabytes of available RAM\n",
            "\n",
            "Not using a high-RAM runtime\n"
          ]
        }
      ],
      "source": [
        "from psutil import virtual_memory\n",
        "ram_gb = virtual_memory().total / 1e9\n",
        "print('Your runtime has {:.1f} gigabytes of available RAM\\n'.format(ram_gb))\n",
        "\n",
        "if ram_gb < 20:\n",
        "  print('Not using a high-RAM runtime')\n",
        "else:\n",
        "  print('You are using a high-RAM runtime!')"
      ]
    },
    {
      "cell_type": "code",
      "source": [
        "import torch\n",
        "\n",
        "if torch.cuda.is_available():\n",
        "    print(\"CUDA is available and enabled.\")\n",
        "else:\n",
        "    print(\"CUDA is not available or not properly configured.\")"
      ],
      "metadata": {
        "colab": {
          "base_uri": "https://localhost:8080/"
        },
        "id": "9xkYp_GjtoCJ",
        "outputId": "c4c53f6a-0c3c-49ff-9634-14d688e441e9"
      },
      "execution_count": null,
      "outputs": [
        {
          "output_type": "stream",
          "name": "stdout",
          "text": [
            "CUDA is available and enabled.\n"
          ]
        }
      ]
    },
    {
      "cell_type": "code",
      "execution_count": null,
      "metadata": {
        "id": "aTN1zKSZJy9G"
      },
      "outputs": [],
      "source": [
        "# Install a package to download data from Kaggle\n",
        "!pip install -q opendatasets"
      ]
    },
    {
      "cell_type": "code",
      "execution_count": null,
      "metadata": {
        "colab": {
          "base_uri": "https://localhost:8080/"
        },
        "id": "qjcrHWE8J43N",
        "outputId": "fdfe0b7a-eac4-46e5-c104-a76876d1dcc2"
      },
      "outputs": [
        {
          "output_type": "stream",
          "name": "stdout",
          "text": [
            "Please provide your Kaggle credentials to download this dataset. Learn more: http://bit.ly/kaggle-creds\n",
            "Your Kaggle username: omari11234\n",
            "Your Kaggle Key: ··········\n",
            "Downloading raf-db-dataset.zip to ./raf-db-dataset\n"
          ]
        },
        {
          "output_type": "stream",
          "name": "stderr",
          "text": [
            "100%|██████████| 37.7M/37.7M [00:01<00:00, 30.3MB/s]\n"
          ]
        },
        {
          "output_type": "stream",
          "name": "stdout",
          "text": [
            "\n"
          ]
        }
      ],
      "source": [
        "import opendatasets as od\n",
        "import pandas as pd\n",
        "\n",
        "od.download('https://www.kaggle.com/datasets/shuvoalok/raf-db-dataset/') # insert ypu kaggle username and key"
      ]
    },
    {
      "cell_type": "code",
      "execution_count": null,
      "metadata": {
        "id": "ErId3yeSCAK_"
      },
      "outputs": [],
      "source": [
        "height, width = 224, 224"
      ]
    },
    {
      "cell_type": "code",
      "execution_count": null,
      "metadata": {
        "id": "70RRBpqSBzD1"
      },
      "outputs": [],
      "source": [
        "data_transform = transforms.Compose([\n",
        "    transforms.RandomRotation(20),\n",
        "    transforms.RandomHorizontalFlip(),\n",
        "    transforms.RandomVerticalFlip(),\n",
        "    transforms.RandomResizedCrop(size=(height, width), scale=(0.8, 1.2)),\n",
        "    transforms.ColorJitter(brightness=0.2, contrast=0.2, saturation=0.2, hue=0.2),\n",
        "    transforms.ToTensor(),\n",
        "])"
      ]
    },
    {
      "cell_type": "code",
      "source": [
        "test_transform = transforms.Compose([\n",
        "    transforms.Resize((224, 224)),\n",
        "    transforms.ToTensor(),\n",
        "])"
      ],
      "metadata": {
        "id": "J8tBwXiu8hOj"
      },
      "execution_count": null,
      "outputs": []
    },
    {
      "cell_type": "code",
      "source": [
        "test_dataset = datasets.ImageFolder(test_path, transform=test_transform)  #transform=None transform=test_transform"
      ],
      "metadata": {
        "id": "RilZTVdy8l48"
      },
      "execution_count": null,
      "outputs": []
    },
    {
      "cell_type": "code",
      "execution_count": null,
      "metadata": {
        "id": "YBX0DdKUyVlg"
      },
      "outputs": [],
      "source": [
        "batch_size=32"
      ]
    },
    {
      "cell_type": "code",
      "execution_count": null,
      "metadata": {
        "id": "I1C4ibStghdG"
      },
      "outputs": [],
      "source": [
        "train_path = \"raf-db-dataset/DATASET/train\""
      ]
    },
    {
      "cell_type": "code",
      "execution_count": null,
      "metadata": {
        "id": "sQX3JPP7DGqS"
      },
      "outputs": [],
      "source": [
        "test_path = \"raf-db-dataset/DATASET/test\""
      ]
    },
    {
      "cell_type": "code",
      "execution_count": null,
      "metadata": {
        "id": "xFwQPgGMysZQ"
      },
      "outputs": [],
      "source": [
        "#train_path = \"raf-db-dataset/DATASET/train\", transform=data_transform"
      ]
    },
    {
      "cell_type": "code",
      "execution_count": null,
      "metadata": {
        "id": "YZ-Tx6WOz_sO"
      },
      "outputs": [],
      "source": [
        "#train_generator = datagen.flow_from_directory(\n",
        "    #train_path,\n",
        "   # target_size=(224, 224),  # Adjust based on the input size expected by your model\n",
        "   # batch_size=batch_size,\n",
        "  #  class_mode='categorical')"
      ]
    },
    {
      "cell_type": "code",
      "execution_count": null,
      "metadata": {
        "colab": {
          "base_uri": "https://localhost:8080/"
        },
        "id": "wB2WGbxqK69k",
        "outputId": "48739842-4259-44a5-ce67-31b9b94ba5c8"
      },
      "outputs": [
        {
          "output_type": "stream",
          "name": "stdout",
          "text": [
            "Original train set has 12271 samples\n",
            "Train set has 11043 samples\n",
            "Validation set has 1228 samples\n",
            "Test set has 3068 samples\n"
          ]
        }
      ],
      "source": [
        "# Construct datasets.\n",
        "train_dataset = datasets.ImageFolder(train_path, transform=data_transform )#transform=None as we are doing the augmentations ourselve transform=train_transform\n",
        "\n",
        "\n",
        "# Define the desired ratio for train and evaluation data (e.g., 90% train, 10% evaluation)\n",
        "train_ratio = 0.9\n",
        "val_ratio = 1 - train_ratio\n",
        "\n",
        "# Calculate the sizes of train and evaluation datasets based on the ratios\n",
        "train_size = int(train_ratio * len(train_dataset))\n",
        "val_size = len(train_dataset) - train_size\n",
        "\n",
        "# Split the train dataset into train and evaluation subsets\n",
        "train_subset, val_subset = random_split(train_dataset, [train_size, val_size])\n",
        "\n",
        "print(f'Original train set has {len(train_dataset)} samples')\n",
        "print(f'Train set has {len(train_subset)} samples')\n",
        "print(f'Validation set has {len(val_subset)} samples')\n",
        "print(f'Test set has {len(test_dataset)} samples')"
      ]
    },
    {
      "cell_type": "code",
      "execution_count": null,
      "metadata": {
        "id": "ED53hKcVK7BO"
      },
      "outputs": [],
      "source": [
        "# Batch size for training, validation, and testing.\n",
        "# A greater batch size usually gives a more stable gradient.\n",
        "# But the GPU memory is limited, so please adjust it carefully.\n",
        "#need to adjust batch size\n",
        "#batch_size = 32\n",
        "\n",
        "# Construct data loaders\n",
        "train_loader = DataLoader(train_subset, batch_size=batch_size, shuffle=True, num_workers=0, pin_memory=True)\n",
        "valid_loader = DataLoader(val_subset, batch_size=batch_size, shuffle=True, num_workers=0, pin_memory=True)\n",
        "test_loader = DataLoader(test_dataset, batch_size=batch_size, shuffle=False)"
      ]
    },
    {
      "cell_type": "code",
      "source": [
        "test_loader = DataLoader(test_dataset, batch_size=batch_size, shuffle=False)"
      ],
      "metadata": {
        "id": "6u5On0hY-zx8"
      },
      "execution_count": null,
      "outputs": []
    },
    {
      "cell_type": "code",
      "execution_count": null,
      "metadata": {
        "colab": {
          "base_uri": "https://localhost:8080/",
          "height": 182
        },
        "id": "hLEMLxRXK7Lb",
        "outputId": "1d3922e2-e0d3-458e-ad4c-8121a17fe14b"
      },
      "outputs": [
        {
          "output_type": "display_data",
          "data": {
            "text/plain": [
              "<Figure size 640x480 with 1 Axes>"
            ],
            "image/png": "[encoded data removed]"
          },
          "metadata": {}
        }
      ],
      "source": [
        "# show some samples\n",
        "def imshow(inp, title=None):\n",
        "    \"\"\"Display image for Tensor.\"\"\"\n",
        "    inp = inp.numpy().transpose((1, 2, 0))\n",
        "    plt.imshow(inp)\n",
        "    if title is not None:\n",
        "        plt.title(title)\n",
        "    plt.pause(0.001)  # pause a bit so that plots are updated\n",
        "\n",
        "# Get a batch of training data\n",
        "train_loader_for_vis = DataLoader(train_subset, batch_size=5, shuffle=True, num_workers=0)\n",
        "inputs, classes = next(iter(train_loader_for_vis))\n",
        "\n",
        "# Make a grid from batch\n",
        "out = torchvision.utils.make_grid(inputs)\n",
        "\n",
        "class_names = ['suprised', 'fearful', 'disgusted', 'happy', 'sad', 'angry', 'neutral']\n",
        "\n",
        "imshow(out, title=[class_names[x] for x in classes])"
      ]
    },
    {
      "cell_type": "code",
      "execution_count": null,
      "metadata": {
        "id": "hG6lICodaLUj"
      },
      "outputs": [],
      "source": [
        "device = \"cuda\" if torch.cuda.is_available() else \"cpu\""
      ]
    },
    {
      "cell_type": "code",
      "source": [
        "import torch\n",
        "\n",
        "if torch.cuda.is_available():\n",
        "    print(\"CUDA is available and enabled.\")\n",
        "else:\n",
        "    print(\"CUDA is not available or not properly configured.\")"
      ],
      "metadata": {
        "colab": {
          "base_uri": "https://localhost:8080/"
        },
        "id": "2-gNaGLPt0oT",
        "outputId": "c6ece05f-8d77-4ddd-a3cf-feb18ef1ddba"
      },
      "execution_count": null,
      "outputs": [
        {
          "output_type": "stream",
          "name": "stdout",
          "text": [
            "CUDA is available and enabled.\n"
          ]
        }
      ]
    },
    {
      "cell_type": "code",
      "execution_count": null,
      "metadata": {
        "id": "bCoqFbMYMLH9"
      },
      "outputs": [],
      "source": [
        "num_classes = 7  # Replace with the desired number of classes"
      ]
    },
    {
      "cell_type": "code",
      "execution_count": null,
      "metadata": {
        "id": "xPIyHnY1MLK4"
      },
      "outputs": [],
      "source": [
        "criterion = nn.CrossEntropyLoss()"
      ]
    },
    {
      "cell_type": "code",
      "source": [
        "vit_model = timm.create_model('vit_tiny_patch16_224', pretrained=True)\n",
        "vit_model.head = nn.Linear(vit_model.head.in_features, num_classes)"
      ],
      "metadata": {
        "id": "Y5N9LdObTWh4"
      },
      "execution_count": null,
      "outputs": []
    },
    {
      "cell_type": "code",
      "execution_count": null,
      "metadata": {
        "id": "tFvy0E_MYOxL"
      },
      "outputs": [],
      "source": [
        "\n",
        "vit_optimizer = torch.optim.Adam(vit_model.parameters(), lr=0.0003)\n"
      ]
    },
    {
      "cell_type": "code",
      "execution_count": null,
      "metadata": {
        "id": "r9SDA7NMKcd9"
      },
      "outputs": [],
      "source": [
        "num_classes = 7"
      ]
    },
    {
      "cell_type": "code",
      "execution_count": null,
      "metadata": {
        "colab": {
          "base_uri": "https://localhost:8080/"
        },
        "id": "vV27bPP3nbAW",
        "outputId": "daeb77c2-d4f3-46fa-f0e9-8ab11d970735"
      },
      "outputs": [
        {
          "output_type": "stream",
          "name": "stderr",
          "text": [
            "/usr/local/lib/python3.10/dist-packages/torchvision/models/_utils.py:208: UserWarning: The parameter 'pretrained' is deprecated since 0.13 and may be removed in the future, please use 'weights' instead.\n",
            "  warnings.warn(\n",
            "/usr/local/lib/python3.10/dist-packages/torchvision/models/_utils.py:223: UserWarning: Arguments other than a weight enum or `None` for 'weights' are deprecated since 0.13 and may be removed in the future. The current behavior is equivalent to passing `weights=ResNeXt50_32X4D_Weights.IMAGENET1K_V1`. You can also use `weights=ResNeXt50_32X4D_Weights.DEFAULT` to get the most up-to-date weights.\n",
            "  warnings.warn(msg)\n",
            "Downloading: \"https://download.pytorch.org/models/resnext50_32x4d-7cdf4587.pth\" to /root/.cache/torch/hub/checkpoints/resnext50_32x4d-7cdf4587.pth\n",
            "100%|██████████| 95.8M/95.8M [00:00<00:00, 120MB/s]\n"
          ]
        }
      ],
      "source": [
        "resnext_model = models.resnext50_32x4d(pretrained=True, progress=True)\n",
        "resnext_model.fc = nn.Linear(resnext_model.fc.in_features, num_classes)\n",
        "resnext_model.fc = resnext_model.fc.to(device)\n",
        "resnextaoptimizer = torch.optim.Adam(resnext_model.parameters(), lr=0.0003)\n",
        "resnextsgd_optimizer = torch.optim.SGD(resnext_model.parameters(), lr=0.01, momentum=0.9, weight_decay=1e-4)\n",
        "# Set the model to evaluation mode\n",
        "#resnext_model.eval()"
      ]
    },
    {
      "cell_type": "code",
      "execution_count": null,
      "metadata": {
        "id": "g-rh0qKZAFbe"
      },
      "outputs": [],
      "source": [
        "hybrid_optimizer = optim.Adam(\n",
        "    [\n",
        "        {\"params\": resnext_model.parameters(), \"lr\": 0.0003},\n",
        "        {\"params\": vit_model.parameters(), \"lr\": 0.0003},\n",
        "    ]\n",
        ")"
      ]
    },
    {
      "cell_type": "code",
      "execution_count": null,
      "metadata": {
        "id": "hx4IR65Z-7Bg"
      },
      "outputs": [],
      "source": [
        "# Integration point: Combine ResNeXt and ViT features\n",
        "class HybridModel(nn.Module):\n",
        "    def __init__(self, resnext_model, vit_model):\n",
        "        super(HybridModel, self).__init__()\n",
        "        # Feature extractor (ResNeXt)\n",
        "        self.resnext_features = nn.Sequential(*list(resnext_model.children())[:-2])\n",
        "\n",
        "        # Vision Transformer (ViT)\n",
        "        self.vit_features = vit_model\n",
        "\n",
        "        # Final classification head\n",
        "        self.fc = nn.Linear(resnext_model.fc.in_features + vit_model.head.in_features, num_classes)\n",
        "\n",
        "    def forward(self, x):\n",
        "        # Extract features from ResNeXt\n",
        "        resnext_features = self.resnext_features(x)\n",
        "\n",
        "        # Forward ViT features\n",
        "        vit_features = self.vit_features(x)\n",
        "\n",
        "        # Global average pooling for ResNeXt features\n",
        "        resnext_features = resnext_features.mean([2, 3])\n",
        "\n",
        "        # Concatenate ResNeXt and ViT features\n",
        "        combined_features = torch.cat([resnext_features, vit_features], dim=1)\n",
        "\n",
        "        # Final classification\n",
        "        output = self.fc(combined_features)\n",
        "\n",
        "        return output\n",
        "\n",
        "# Instantiate the hybrid model\n",
        "hybrid_model = HybridModel(resnext_model, vit_model)"
      ]
    },
    {
      "cell_type": "code",
      "source": [
        "from joblib import Parallel, delayed\n",
        "import torch\n",
        "from tqdm import tqdm\n",
        "import numpy as np\n",
        "\n",
        "# Assuming hybrid_model, resnext_model, vit_model, criterion, hybrid_optimizer,\n",
        "# train_loader, and valid_loader are already defined\n",
        "\n",
        "# Move the hybrid model to the specified device\n",
        "hybrid_model.to(device)\n",
        "\n",
        "# The number of training epochs\n",
        "n_epochs = 1\n",
        "\n",
        "# Patience for early stopping\n",
        "patience = 20\n",
        "\n",
        "# Early stopping threshold\n",
        "early_stopping_threshold = 1e-4\n",
        "\n",
        "# Variables to record information\n",
        "best_valid_acc = 0\n",
        "train_loss_epochs = []\n",
        "train_acc_epochs = []\n",
        "valid_loss_epochs = []\n",
        "valid_acc_epochs = []\n",
        "\n",
        "# Early stopping counter\n",
        "early_stopping_counter = 0\n",
        "\n",
        "# Define a function to execute training and validation for one epoch\n",
        "def run_epoch(train_loader, valid_loader):\n",
        "    # Training\n",
        "    hybrid_model.train()\n",
        "    train_loss = []\n",
        "    train_accs = []\n",
        "    for batch in tqdm(train_loader, desc='Training'):\n",
        "        hybrid_optimizer.zero_grad()\n",
        "        imgs, labels = batch\n",
        "        imgs = imgs.to(device)\n",
        "        labels = labels.to(device)\n",
        "        resnext_logits = resnext_model(imgs)\n",
        "        vit_logits = vit_model(imgs)\n",
        "        loss = criterion(resnext_logits, labels) + criterion(vit_logits, labels)\n",
        "        loss.backward()\n",
        "        hybrid_optimizer.step()\n",
        "        acc = ((resnext_logits.argmax(dim=-1) == labels) & (vit_logits.argmax(dim=-1) == labels)).float().mean()\n",
        "        train_loss.append(loss.item())\n",
        "        train_accs.append(acc.item())\n",
        "    train_loss = sum(train_loss) / len(train_loss)\n",
        "    train_acc = sum(train_accs) / len(train_accs)\n",
        "    train_loss_epochs.append(train_loss)\n",
        "    train_acc_epochs.append(train_acc)\n",
        "\n",
        "    # Validation\n",
        "    hybrid_model.eval()\n",
        "    valid_loss = []\n",
        "    valid_accs = []\n",
        "    with torch.no_grad():\n",
        "        for batch in tqdm(valid_loader, desc='Validation'):\n",
        "            imgs, labels = batch\n",
        "            imgs = imgs.to(device)\n",
        "            labels = labels.to(device)\n",
        "            logits = resnext_model(imgs)\n",
        "            vit_logits = vit_model(imgs)\n",
        "            loss = criterion(resnext_logits, labels) + criterion(vit_logits, labels)\n",
        "            acc = ((logits.argmax(dim=-1) == labels) & (vit_logits.argmax(dim=-1) == labels)).float().mean().float().mean()\n",
        "            valid_loss.append(loss.item())\n",
        "            valid_accs.append(acc.item())\n",
        "    valid_loss = sum(valid_loss) / len(valid_loss)\n",
        "    valid_acc = sum(valid_accs) / len(valid_accs)\n",
        "    valid_loss_epochs.append(valid_loss)\n",
        "    valid_acc_epochs.append(valid_acc)\n",
        "\n",
        "    # Save the best model\n",
        "    if valid_acc > best_valid_acc:\n",
        "        best_valid_acc = valid_acc\n",
        "        torch.save(hybrid_model.state_dict(), 'best_model.pth')\n",
        "        early_stopping_counter = 0\n",
        "    else:\n",
        "        early_stopping_counter += 1\n",
        "\n",
        "    # Print training and validation metrics\n",
        "    print(f\"Train: loss={train_loss:.5f}, acc={train_acc:.5f} | Valid: loss={valid_loss:.5f}, acc={valid_acc:.5f}\")\n",
        "\n",
        "    return valid_acc\n",
        "\n",
        "# Define the number of CPU cores to use (-1 means using all available cores)\n",
        "num_cores = -1\n",
        "\n",
        "# Run training and validation for each epoch using parallel processing\n",
        "results = Parallel(n_jobs=num_cores)(\n",
        "    delayed(run_epoch)(train_loader, valid_loader) for _ in range(n_epochs)\n",
        ")"
      ],
      "metadata": {
        "colab": {
          "base_uri": "https://localhost:8080/",
          "height": 356
        },
        "id": "_lDu_K7E0UtT",
        "outputId": "4aae85c8-7198-4172-a09d-a53835d04539"
      },
      "execution_count": null,
      "outputs": [
        {
          "output_type": "error",
          "ename": "KeyboardInterrupt",
          "evalue": "",
          "traceback": [
            "\u001b[0;31m---------------------------------------------------------------------------\u001b[0m",
            "\u001b[0;31mKeyboardInterrupt\u001b[0m                         Traceback (most recent call last)",
            "\u001b[0;32m<ipython-input-31-0ded7217ba13>\u001b[0m in \u001b[0;36m<cell line: 92>\u001b[0;34m()\u001b[0m\n\u001b[1;32m     90\u001b[0m \u001b[0;34m\u001b[0m\u001b[0m\n\u001b[1;32m     91\u001b[0m \u001b[0;31m# Run training and validation for each epoch using parallel processing\u001b[0m\u001b[0;34m\u001b[0m\u001b[0;34m\u001b[0m\u001b[0m\n\u001b[0;32m---> 92\u001b[0;31m results = Parallel(n_jobs=num_cores)(\n\u001b[0m\u001b[1;32m     93\u001b[0m     \u001b[0mdelayed\u001b[0m\u001b[0;34m(\u001b[0m\u001b[0mrun_epoch\u001b[0m\u001b[0;34m)\u001b[0m\u001b[0;34m(\u001b[0m\u001b[0mtrain_loader\u001b[0m\u001b[0;34m,\u001b[0m \u001b[0mvalid_loader\u001b[0m\u001b[0;34m)\u001b[0m \u001b[0;32mfor\u001b[0m \u001b[0m_\u001b[0m \u001b[0;32min\u001b[0m \u001b[0mrange\u001b[0m\u001b[0;34m(\u001b[0m\u001b[0mn_epochs\u001b[0m\u001b[0;34m)\u001b[0m\u001b[0;34m\u001b[0m\u001b[0;34m\u001b[0m\u001b[0m\n\u001b[1;32m     94\u001b[0m )\n",
            "\u001b[0;32m/usr/local/lib/python3.10/dist-packages/joblib/parallel.py\u001b[0m in \u001b[0;36m__call__\u001b[0;34m(self, iterable)\u001b[0m\n\u001b[1;32m   1950\u001b[0m         \u001b[0mnext\u001b[0m\u001b[0;34m(\u001b[0m\u001b[0moutput\u001b[0m\u001b[0;34m)\u001b[0m\u001b[0;34m\u001b[0m\u001b[0;34m\u001b[0m\u001b[0m\n\u001b[1;32m   1951\u001b[0m \u001b[0;34m\u001b[0m\u001b[0m\n\u001b[0;32m-> 1952\u001b[0;31m         \u001b[0;32mreturn\u001b[0m \u001b[0moutput\u001b[0m \u001b[0;32mif\u001b[0m \u001b[0mself\u001b[0m\u001b[0;34m.\u001b[0m\u001b[0mreturn_generator\u001b[0m \u001b[0;32melse\u001b[0m \u001b[0mlist\u001b[0m\u001b[0;34m(\u001b[0m\u001b[0moutput\u001b[0m\u001b[0;34m)\u001b[0m\u001b[0;34m\u001b[0m\u001b[0;34m\u001b[0m\u001b[0m\n\u001b[0m\u001b[1;32m   1953\u001b[0m \u001b[0;34m\u001b[0m\u001b[0m\n\u001b[1;32m   1954\u001b[0m     \u001b[0;32mdef\u001b[0m \u001b[0m__repr__\u001b[0m\u001b[0;34m(\u001b[0m\u001b[0mself\u001b[0m\u001b[0;34m)\u001b[0m\u001b[0;34m:\u001b[0m\u001b[0;34m\u001b[0m\u001b[0;34m\u001b[0m\u001b[0m\n",
            "\u001b[0;32m/usr/local/lib/python3.10/dist-packages/joblib/parallel.py\u001b[0m in \u001b[0;36m_get_outputs\u001b[0;34m(self, iterator, pre_dispatch)\u001b[0m\n\u001b[1;32m   1593\u001b[0m \u001b[0;34m\u001b[0m\u001b[0m\n\u001b[1;32m   1594\u001b[0m             \u001b[0;32mwith\u001b[0m \u001b[0mself\u001b[0m\u001b[0;34m.\u001b[0m\u001b[0m_backend\u001b[0m\u001b[0;34m.\u001b[0m\u001b[0mretrieval_context\u001b[0m\u001b[0;34m(\u001b[0m\u001b[0;34m)\u001b[0m\u001b[0;34m:\u001b[0m\u001b[0;34m\u001b[0m\u001b[0;34m\u001b[0m\u001b[0m\n\u001b[0;32m-> 1595\u001b[0;31m                 \u001b[0;32myield\u001b[0m \u001b[0;32mfrom\u001b[0m \u001b[0mself\u001b[0m\u001b[0;34m.\u001b[0m\u001b[0m_retrieve\u001b[0m\u001b[0;34m(\u001b[0m\u001b[0;34m)\u001b[0m\u001b[0;34m\u001b[0m\u001b[0;34m\u001b[0m\u001b[0m\n\u001b[0m\u001b[1;32m   1596\u001b[0m \u001b[0;34m\u001b[0m\u001b[0m\n\u001b[1;32m   1597\u001b[0m         \u001b[0;32mexcept\u001b[0m \u001b[0mGeneratorExit\u001b[0m\u001b[0;34m:\u001b[0m\u001b[0;34m\u001b[0m\u001b[0;34m\u001b[0m\u001b[0m\n",
            "\u001b[0;32m/usr/local/lib/python3.10/dist-packages/joblib/parallel.py\u001b[0m in \u001b[0;36m_retrieve\u001b[0;34m(self)\u001b[0m\n\u001b[1;32m   1705\u001b[0m                 (self._jobs[0].get_status(\n\u001b[1;32m   1706\u001b[0m                     timeout=self.timeout) == TASK_PENDING)):\n\u001b[0;32m-> 1707\u001b[0;31m                 \u001b[0mtime\u001b[0m\u001b[0;34m.\u001b[0m\u001b[0msleep\u001b[0m\u001b[0;34m(\u001b[0m\u001b[0;36m0.01\u001b[0m\u001b[0;34m)\u001b[0m\u001b[0;34m\u001b[0m\u001b[0;34m\u001b[0m\u001b[0m\n\u001b[0m\u001b[1;32m   1708\u001b[0m                 \u001b[0;32mcontinue\u001b[0m\u001b[0;34m\u001b[0m\u001b[0;34m\u001b[0m\u001b[0m\n\u001b[1;32m   1709\u001b[0m \u001b[0;34m\u001b[0m\u001b[0m\n",
            "\u001b[0;31mKeyboardInterrupt\u001b[0m: "
          ]
        }
      ]
    },
    {
      "cell_type": "code",
      "source": [
        "from joblib import Parallel, delayed\n",
        "import torch\n",
        "from tqdm import tqdm\n",
        "import numpy as np\n",
        "\n",
        "# Assuming densevit, densenet_model, vit_model, criterion, hybrid_optimizer1,\n",
        "# train_loader, and valid_loader are already defined\n",
        "\n",
        "# Move the hybrid model to the specified device\n",
        "densevit.to(device)\n",
        "\n",
        "# The number of training epochs\n",
        "n_epochs = 50\n",
        "\n",
        "# Patience for early stopping\n",
        "patience = 20\n",
        "\n",
        "# Early stopping threshold\n",
        "early_stopping_threshold = 1e-4\n",
        "\n",
        "# Variables to record information\n",
        "best_valid_acc = 0\n",
        "train_loss_epochs = []\n",
        "train_acc_epochs = []\n",
        "valid_loss_epochs = []\n",
        "valid_acc_epochs = []\n",
        "\n",
        "# Early stopping counter\n",
        "early_stopping_counter = 0\n",
        "\n",
        "# Define a function to execute training and validation for one epoch\n",
        "def run_epoch(train_loader, valid_loader):\n",
        "    # Training loop\n",
        "    densevit.train()\n",
        "    train_loss = []\n",
        "    train_accs = []\n",
        "    for batch in tqdm(train_loader):\n",
        "        hybrid_optimizer1.zero_grad()\n",
        "        imgs, labels = batch\n",
        "        imgs = imgs.to(device)\n",
        "        labels = labels.to(device)\n",
        "        densenet_logits = densenet_model(imgs)\n",
        "        vit_logits = vit_model(imgs)\n",
        "        loss = criterion(densenet_logits, labels) + criterion(vit_logits, labels)\n",
        "        loss.backward()\n",
        "        hybrid_optimizer1.step()\n",
        "        acc = ((densenet_logits.argmax(dim=-1) == labels) & (vit_logits.argmax(dim=-1) == labels)).float().mean()\n",
        "        train_loss.append(loss.item())\n",
        "        train_accs.append(acc.item())\n",
        "    train_loss = sum(train_loss) / len(train_loss)\n",
        "    train_acc = sum(train_accs) / len(train_accs)\n",
        "    train_loss_epochs.append(train_loss)\n",
        "    train_acc_epochs.append(train_acc)\n",
        "\n",
        "    # Validation loop\n",
        "    densevit.eval()\n",
        "    valid_loss = []\n",
        "    valid_accs = []\n",
        "    for batch in tqdm(valid_loader):\n",
        "        imgs, labels = batch\n",
        "        imgs = imgs.to(device)\n",
        "        labels = labels.to(device)\n",
        "        with torch.no_grad():\n",
        "            densenet_logits = densenet_model(imgs)\n",
        "            vit_logits = vit_model(imgs)\n",
        "        loss = criterion(densenet_logits, labels) + criterion(vit_logits, labels)\n",
        "        acc = ((densenet_logits.argmax(dim=-1) == labels) & (vit_logits.argmax(dim=-1) == labels)).float().mean()\n",
        "        valid_loss.append(loss.item())\n",
        "        valid_accs.append(acc.item())\n",
        "    valid_loss = sum(valid_loss) / len(valid_loss)\n",
        "    valid_acc = sum(valid_accs) / len(valid_accs)\n",
        "    valid_loss_epochs.append(valid_loss)\n",
        "    valid_acc_epochs.append(valid_acc)\n",
        "\n",
        "    # Save the best model\n",
        "    if valid_acc > best_valid_acc:\n",
        "        best_valid_acc = valid_acc\n",
        "        torch.save(densevit.state_dict(), 'best_model.pth')\n",
        "\n",
        "    # Print the information.\n",
        "    print(f\"[Epoch: {epoch + 1:03d}/{n_epochs:03d}] Train: loss={train_loss:.5f}, acc={train_acc:.5f} | Valid: loss={valid_loss:.5f}, acc={valid_acc:.5f}\")\n",
        "\n",
        "    return valid_acc\n",
        "\n",
        "# Define the number of CPU cores to use (-1 means using all available cores)\n",
        "num_cores = -1\n",
        "\n",
        "# Run training and validation for each epoch using parallel processing\n",
        "results = Parallel(n_jobs=num_cores)(\n",
        "    delayed(run_epoch)(train_loader, valid_loader) for epoch in tqdm(range(n_epochs))\n",
        ")"
      ],
      "metadata": {
        "id": "3HSQrilB1F0m"
      },
      "execution_count": null,
      "outputs": []
    },
    {
      "cell_type": "code",
      "source": [
        "from joblib import Parallel, delayed\n",
        "import torch\n",
        "from tqdm import tqdm\n",
        "import numpy as np\n",
        "\n",
        "# Assuming hybrid_model, resnext_model, vit_model, criterion, hybrid_optimizer,\n",
        "# train_loader, and valid_loader are already defined\n",
        "\n",
        "# Move the hybrid model to the specified device\n",
        "hybrid_model.to(device)\n",
        "\n",
        "# The number of training epochs\n",
        "n_epochs = 50\n",
        "\n",
        "# Patience for early stopping\n",
        "patience = 20\n",
        "\n",
        "# Early stopping threshold\n",
        "early_stopping_threshold = 1e-4\n",
        "\n",
        "# Variables to record information\n",
        "best_valid_acc = 0\n",
        "train_loss_epochs = []\n",
        "train_acc_epochs = []\n",
        "valid_loss_epochs = []\n",
        "valid_acc_epochs = []\n",
        "\n",
        "# Early stopping counter\n",
        "early_stopping_counter = 0\n",
        "\n",
        "# Define a function to execute training and validation for one epoch\n",
        "def run_epoch(train_loader, valid_loader):\n",
        "    # Training\n",
        "    hybrid_model.train()\n",
        "    train_loss = []\n",
        "    train_accs = []\n",
        "    for batch in tqdm(train_loader, desc='Training'):\n",
        "        hybrid_optimizer.zero_grad()\n",
        "        imgs, labels = batch\n",
        "        imgs = imgs.to(device)\n",
        "        labels = labels.to(device)\n",
        "        resnext_logits = resnext_model(imgs)\n",
        "        vit_logits = vit_model(imgs)\n",
        "        loss = criterion(resnext_logits, labels) + criterion(vit_logits, labels)\n",
        "        loss.backward()\n",
        "        hybrid_optimizer.step()\n",
        "        acc = ((resnext_logits.argmax(dim=-1) == labels) & (vit_logits.argmax(dim=-1) == labels)).float().mean()\n",
        "        train_loss.append(loss.item())\n",
        "        train_accs.append(acc.item())\n",
        "    train_loss = sum(train_loss) / len(train_loss)\n",
        "    train_acc = sum(train_accs) / len(train_accs)\n",
        "    train_loss_epochs.append(train_loss)\n",
        "    train_acc_epochs.append(train_acc)\n",
        "\n",
        "    # Validation\n",
        "    hybrid_model.eval()\n",
        "    valid_loss = []\n",
        "    valid_accs = []\n",
        "    with torch.no_grad():\n",
        "        for batch in tqdm(valid_loader, desc='Validation'):\n",
        "            imgs, labels = batch\n",
        "            imgs = imgs.to(device)\n",
        "            labels = labels.to(device)\n",
        "            logits = resnext_model(imgs)\n",
        "            vit_logits = vit_model(imgs)\n",
        "            loss = criterion(resnext_logits, labels) + criterion(vit_logits, labels)\n",
        "            acc = ((logits.argmax(dim=-1) == labels) & (vit_logits.argmax(dim=-1) == labels)).float().mean().float().mean()\n",
        "            valid_loss.append(loss.item())\n",
        "            valid_accs.append(acc.item())\n",
        "    valid_loss = sum(valid_loss) / len(valid_loss)\n",
        "    valid_acc = sum(valid_accs) / len(valid_accs)\n",
        "    valid_loss_epochs.append(valid_loss)\n",
        "    valid_acc_epochs.append(valid_acc)\n",
        "\n",
        "    # Save the best model\n",
        "    if valid_acc > best_valid_acc:\n",
        "        best_valid_acc = valid_acc\n",
        "        torch.save(hybrid_model.state_dict(), 'best_model.pth')\n",
        "        early_stopping_counter = 0\n",
        "    else:\n",
        "        early_stopping_counter += 1\n",
        "\n",
        "    # Print training and validation metrics\n",
        "    print(f\"Train: loss={train_loss:.5f}, acc={train_acc:.5f} | Valid: loss={valid_loss:.5f}, acc={valid_acc:.5f}\")\n",
        "\n",
        "    return valid_acc\n",
        "\n",
        "# Define the number of CPU cores to use (-1 means using all available cores)\n",
        "num_cores = -1\n",
        "\n",
        "# Run training and validation for each epoch using parallel processing\n",
        "results = Parallel(n_jobs=num_cores)(\n",
        "    delayed(run_epoch)(train_loader, valid_loader) for _ in range(n_epochs)\n",
        ")\n"
      ],
      "metadata": {
        "id": "9fYE4Lx2yngd"
      },
      "execution_count": null,
      "outputs": []
    },
    {
      "cell_type": "code",
      "execution_count": null,
      "metadata": {
        "id": "Wcm1gKS8-9Qv"
      },
      "outputs": [],
      "source": [
        "hybrid_model.to(device)  # Move the model to the specified device\n",
        "# The number of training epochs.\n",
        "n_epochs = 50\n",
        "\n",
        "patience = 20  # Number of epochs with no improvement after which training will be stopped\n",
        "early_stopping_counter = 0\n",
        "early_stopping_threshold = 1e-4\n",
        "\n",
        "# These are used to record information\n",
        "best_valid_acc = 0\n",
        "train_loss_epochs = []\n",
        "train_acc_epochs = []\n",
        "valid_loss_epochs = []\n",
        "valid_acc_epochs = []\n",
        "\n",
        "for epoch in range(n_epochs):\n",
        "\n",
        "    # ---------- Training ----------\n",
        "    # Make sure the model is in train mode before training.\n",
        "    hybrid_model.train()\n",
        "\n",
        "    # These are used to record information in training.\n",
        "    train_loss = []\n",
        "    train_accs = []\n",
        "\n",
        "    # Iterate the training set by batches.\n",
        "    for batch in tqdm(train_loader):\n",
        "        # Gradients stored in the parameters in the previous step should be cleared out first.\n",
        "        hybrid_optimizer.zero_grad()\n",
        "\n",
        "        # A batch consists of image data and corresponding labels.\n",
        "        imgs, labels = batch\n",
        "        imgs = imgs.to(device)\n",
        "        labels = labels.to(device)\n",
        "\n",
        "        # Forward the data. (Make sure data and model are on the same device.)\n",
        "        resnext_logits = resnext_model(imgs)\n",
        "        vit_logits = vit_model(imgs)\n",
        "\n",
        "        # Calculate the cross-entropy loss.\n",
        "        # We don't need to apply softmax before computing cross-entropy as it is done automatically.\n",
        "        loss = criterion(resnext_logits, labels) + criterion(vit_logits, labels)\n",
        "\n",
        "        # Compute the gradients for parameters.\n",
        "        loss.backward()\n",
        "\n",
        "        # Update the parameters with computed gradients.\n",
        "        hybrid_optimizer.step()\n",
        "\n",
        "        # Compute the accuracy for the current batch.\n",
        "        acc = ((resnext_logits.argmax(dim=-1) == labels) & (vit_logits.argmax(dim=-1) == labels)).float().mean()\n",
        "\n",
        "        # Record the loss and accuracy.\n",
        "        train_loss.append(loss.item())\n",
        "        train_accs.append(acc.item())\n",
        "\n",
        "    # The average loss and accuracy of the training set are the averages of the recorded values.\n",
        "    train_loss = sum(train_loss) / len(train_loss)\n",
        "    train_acc = sum(train_accs) / len(train_accs)\n",
        "    train_loss_epochs.append(train_loss)\n",
        "    train_acc_epochs.append(train_acc)\n",
        "\n",
        "    # ---------- Validation ----------\n",
        "    # Make sure the model is in eval mode so that some modules like dropout are disabled and work normally.\n",
        "    hybrid_model.eval()\n",
        "\n",
        "    # These are used to record information in validation.\n",
        "    valid_loss = []\n",
        "    valid_accs = []\n",
        "\n",
        "    # Iterate the validation set by batches.\n",
        "    for batch in tqdm(valid_loader):\n",
        "        # A batch consists of image data and corresponding labels.\n",
        "        imgs, labels = batch\n",
        "        imgs = imgs.to(device)\n",
        "        labels = labels.to(device)\n",
        "\n",
        "        # We don't need gradient in validation.\n",
        "        # Using torch.no_grad() accelerates the forward process.\n",
        "        with torch.no_grad():\n",
        "            logits = resnext_model(imgs)\n",
        "            vit_logits = vit_model(imgs)\n",
        "\n",
        "        # We can still compute the loss (but not the gradient).\n",
        "        loss = criterion(resnext_logits, labels) + criterion(vit_logits, labels)\n",
        "\n",
        "        # Compute the accuracy for the current batch.\n",
        "        acc = ((logits.argmax(dim=-1) == labels) & (vit_logits.argmax(dim=-1) == labels)).float().mean().float().mean()\n",
        "\n",
        "        # Record the loss and accuracy.\n",
        "        valid_loss.append(loss.item())\n",
        "        valid_accs.append(acc.item())\n",
        "\n",
        "    # The average loss and accuracy for the entire validation set are the averages of the recorded values.\n",
        "    valid_loss = sum(valid_loss) / len(valid_loss)\n",
        "    valid_acc = sum(valid_accs) / len(valid_accs)\n",
        "    valid_loss_epochs.append(valid_loss)\n",
        "    valid_acc_epochs.append(valid_acc)\n",
        "\n",
        "    # Save the best model\n",
        "    if valid_acc > best_valid_acc:\n",
        "        best_valid_acc = valid_acc\n",
        "        torch.save(hybrid_model.state_dict(), 'best_model.pth')\n",
        "\n",
        "    # Print the information.\n",
        "    print(f\"[Epoch: {epoch + 1:03d}/{n_epochs:03d}] Train: loss={train_loss:.5f}, acc={train_acc:.5f} | Valid: loss={valid_loss:.5f}, acc={valid_acc:.5f}\")\n",
        "    #If your criterion is an instance of torch.nn.CrossEntropyLoss which it is, it automatically applies softmax to the logits before calculating the cross-entropy loss. Therefore, you don't need to add a separate softmax layer in your model."
      ]
    },
    {
      "cell_type": "code",
      "execution_count": null,
      "metadata": {
        "id": "eYmSBLDhGb-w"
      },
      "outputs": [],
      "source": [
        "# Plotting the loss curves\n",
        "plt.figure()\n",
        "plt.plot(train_loss_epochs, label='Train Loss')\n",
        "plt.plot(valid_loss_epochs, label='Validation Loss')\n",
        "plt.xlabel('Epochs')\n",
        "plt.ylabel('Loss')\n",
        "plt.title('Train and Validation Loss')\n",
        "plt.legend()\n",
        "plt.show()\n",
        "\n",
        "# Plotting the accuracy curves\n",
        "plt.figure()\n",
        "plt.plot(train_acc_epochs, label='Train Accuracy')\n",
        "plt.plot(valid_acc_epochs, label='Validation Accuracy')\n",
        "plt.xlabel('Epochs')\n",
        "plt.ylabel('Accuracy')\n",
        "plt.title('Train and Validation Accuracy')\n",
        "plt.legend()\n",
        "plt.show()"
      ]
    },
    {
      "cell_type": "code",
      "execution_count": null,
      "metadata": {
        "id": "MVC1zeIjGw6u"
      },
      "outputs": [],
      "source": [
        "# load best model weights\n",
        "#hybrid_model.load_state_dict(torch.load('best_model.pth'))\n",
        "\n",
        "# Make sure the model is in eval mode.\n",
        "# Some modules like Dropout or BatchNorm affect if the model is in training mode.\n",
        "#hybrid_model.eval()\n",
        "\n",
        "#test_accs = []\n",
        "\n",
        "# Iterate the testing set by batches.\n",
        "#for batch in tqdm(test_loader):\n",
        "    # A batch consists of image data and corresponding labels.\n",
        "   # imgs, labels = batch\n",
        "   # imgs = imgs.to(device)\n",
        "   # labels = labels.to(device)\n",
        "\n",
        "    # We don't need gradient in test\n",
        "    # Using torch.no_grad() accelerates the forward process.\n",
        "    #with torch.no_grad():\n",
        "      #logits = model(imgs)\n",
        "\n",
        "    # We can still compute the loss (but not the gradient).\n",
        "   # loss = criterion(logits, labels)\n",
        "\n",
        "    # Compute the accuracy for current batch.\n",
        "   # acc = (logits.argmax(dim=-1) == labels).float().mean()\n",
        "\n",
        "    # Record accuracy.\n",
        "    #test_accs.append(acc)\n",
        "\n",
        "# The average accuracy for entire test set is the average of the recorded values.\n",
        "#test_acc = sum(test_accs) / len(test_accs)\n",
        "#print(f'Test accuracy {test_acc}')"
      ]
    },
    {
      "cell_type": "code",
      "source": [
        "densenet_model = models.densenet121(pretrained=True, progress=True)\n",
        "\n",
        "# Count the total number of parameters\n",
        "total_params = sum(p.numel() for p in densenet_model.parameters())\n",
        "print(\"Total number of parameters in DenseNet-121 model:\", total_params)"
      ],
      "metadata": {
        "id": "xY6QB6gdUraQ"
      },
      "execution_count": null,
      "outputs": []
    },
    {
      "cell_type": "code",
      "execution_count": null,
      "metadata": {
        "id": "EQJG-rjEUEor"
      },
      "outputs": [],
      "source": [
        "densenet_model = models.densenet121(pretrained=True, progress=True)\n",
        "densenet_model.classifier = nn.Linear(densenet_model.classifier.in_features, num_classes)\n",
        "densenet_model.classifier = densenet_model.classifier.to(device)\n",
        "densenetaoptimizer = torch.optim.Adam(densenet_model.parameters(), lr=0.0003)\n",
        "densenetsgd_optimizer = torch.optim.SGD(densenet_model.parameters(), lr=0.01, momentum=0.9, weight_decay=1e-4)\n",
        "# Set the model to evaluation mode\n",
        "#densenet_model.eval()"
      ]
    },
    {
      "cell_type": "code",
      "execution_count": null,
      "metadata": {
        "id": "VV0z58jhUEq3"
      },
      "outputs": [],
      "source": [
        "hybrid_optimizer1 = optim.Adam(\n",
        "    [\n",
        "        {\"params\": densenet_model.parameters(), \"lr\": 0.0003},\n",
        "        {\"params\": vit_model.parameters(), \"lr\": 0.0003},\n",
        "    ]\n",
        ")"
      ]
    },
    {
      "cell_type": "code",
      "execution_count": null,
      "metadata": {
        "id": "nxaSKfw9UEtW"
      },
      "outputs": [],
      "source": [
        "# Integration point: Combine DenseNet and ViT features\n",
        "class DenseVit(nn.Module):\n",
        "    def __init__(self, densenet_model, vit_model):\n",
        "        super(DenseVit, self).__init__()\n",
        "        # Feature extractor (DenseNet)\n",
        "        self.densenet_features = nn.Sequential(*list(densenet_model.children())[:-1])\n",
        "\n",
        "        # Vision Transformer (ViT)\n",
        "        self.vit_features = vit_model\n",
        "\n",
        "        # Final classification head\n",
        "        self.fc = nn.Linear(densenet_model.classifier.in_features + vit_model.head.in_features, num_classes)\n",
        "\n",
        "    def forward(self, x):\n",
        "        # Extract features from DenseNet\n",
        "        densenet_features = self.densenet_features(x)\n",
        "        densenet_features = torch.flatten(densenet_features, 1)\n",
        "\n",
        "        # Forward ViT features\n",
        "        vit_features = self.vit_features(x)\n",
        "\n",
        "        # Concatenate DenseNet and ViT features\n",
        "        combined_features = torch.cat([densenet_features, vit_features], dim=1)\n",
        "\n",
        "        # Final classification\n",
        "        output = self.fc(combined_features)\n",
        "\n",
        "        return output\n",
        "        # Instantiate the hybrid model\n",
        "densevit = DenseVit(densenet_model, vit_model)\n",
        "densevit.to(device)  # Move the model to the specified device"
      ]
    },
    {
      "cell_type": "code",
      "execution_count": null,
      "metadata": {
        "id": "zJ4KnVOHUEwF"
      },
      "outputs": [],
      "source": [
        "# The number of training epochs.\n",
        "n_epochs = 20\n",
        "\n",
        "patience = 20  # Number of epochs with no improvement after which training will be stopped\n",
        "early_stopping_counter = 0\n",
        "early_stopping_threshold = 1e-4\n",
        "\n",
        "# These are used to record information\n",
        "best_valid_acc = 0\n",
        "train_loss_epochs = []\n",
        "train_acc_epochs = []\n",
        "valid_loss_epochs = []\n",
        "valid_acc_epochs = []\n",
        "\n",
        "for epoch in range(n_epochs):\n",
        "    # Training loop\n",
        "    densevit.train()\n",
        "\n",
        "    train_loss = []\n",
        "    train_accs = []\n",
        "\n",
        "    for batch in tqdm(train_loader):\n",
        "        hybrid_optimizer1.zero_grad()\n",
        "\n",
        "        imgs, labels = batch\n",
        "        imgs = imgs.to(device)\n",
        "        labels = labels.to(device)\n",
        "\n",
        "        # Forward the data. (Make sure data and model are on the same device.)\n",
        "\n",
        "\n",
        "        densenet_logits = densenet_model(imgs)\n",
        "        vit_logits = vit_model(imgs) #this is different as not included in other\n",
        "        loss = criterion(densenet_logits, labels) + criterion(vit_logits, labels)\n",
        "        loss.backward()\n",
        "        hybrid_optimizer1.step()\n",
        "        acc = ((densenet_logits.argmax(dim=-1) == labels) & (vit_logits.argmax(dim=-1) == labels)).float().mean() #ask chatgpt if accuracy and loss being determined like that is accurate\n",
        "        train_loss.append(loss.item())\n",
        "        train_accs.append(acc.item())\n",
        "    train_loss = sum(train_loss) / len(train_loss)\n",
        "    train_acc = sum(train_accs) / len(train_accs)\n",
        "    train_loss_epochs.append(train_loss)\n",
        "    train_acc_epochs.append(train_acc)\n",
        "\n",
        "    # Validation loop\n",
        "    densevit.eval()\n",
        "    valid_loss = []\n",
        "    valid_accs = []\n",
        "    for batch in tqdm(valid_loader):\n",
        "        imgs, labels = batch\n",
        "        imgs = imgs.to(device)\n",
        "        labels = labels.to(device)\n",
        "        with torch.no_grad():\n",
        "            densenet_logits = densenet_model(imgs)\n",
        "            vit_logits = vit_model(imgs)#again same thing\n",
        "        loss = criterion(densenet_logits, labels) + criterion(vit_logits, labels)\n",
        "        acc = ((densenet_logits.argmax(dim=-1) == labels) & (vit_logits.argmax(dim=-1) == labels)).float().mean()\n",
        "        valid_loss.append(loss.item())\n",
        "        valid_accs.append(acc.item())\n",
        "    valid_loss = sum(valid_loss) / len(valid_loss)\n",
        "    valid_acc = sum(valid_accs) / len(valid_accs)\n",
        "    valid_loss_epochs.append(valid_loss)\n",
        "    valid_acc_epochs.append(valid_acc)\n",
        "\n",
        "    # Save the best model\n",
        "    if valid_acc > best_valid_acc:\n",
        "        best_valid_acc = valid_acc\n",
        "        torch.save(densevit.state_dict(), 'best_model.pth')\n",
        "\n",
        "    # Print the information.\n",
        "    print(f\"[Epoch: {epoch + 1:03d}/{n_epochs:03d}] Train: loss={train_loss:.5f}, acc={train_acc:.5f} | Valid: loss={valid_loss:.5f}, acc={valid_acc:.5f}\")"
      ]
    },
    {
      "cell_type": "code",
      "execution_count": null,
      "metadata": {
        "id": "GMhzwsFdUEyH"
      },
      "outputs": [],
      "source": [
        "# Plotting the loss curves\n",
        "plt.figure()\n",
        "plt.plot(train_loss_epochs, label='Train Loss')\n",
        "plt.plot(valid_loss_epochs, label='Validation Loss')\n",
        "plt.xlabel('Epochs')\n",
        "plt.ylabel('Loss')\n",
        "plt.title('Train and Validation Loss')\n",
        "plt.legend()\n",
        "plt.show()\n",
        "\n",
        "# Plotting the accuracy curves\n",
        "plt.figure()\n",
        "plt.plot(train_acc_epochs, label='Train Accuracy')\n",
        "plt.plot(valid_acc_epochs, label='Validation Accuracy')\n",
        "plt.xlabel('Epochs')\n",
        "plt.ylabel('Accuracy')\n",
        "plt.title('Train and Validation Accuracy')\n",
        "plt.legend()\n",
        "plt.show()"
      ]
    },
    {
      "cell_type": "code",
      "execution_count": null,
      "metadata": {
        "id": "wWkS7QcSUE2o",
        "outputId": "193d5a28-58cd-4b4b-857e-78b7b12c9a8a",
        "colab": {
          "base_uri": "https://localhost:8080/"
        }
      },
      "outputs": [
        {
          "output_type": "stream",
          "name": "stderr",
          "text": [
            "/usr/local/lib/python3.10/dist-packages/torchvision/models/_utils.py:223: UserWarning: Arguments other than a weight enum or `None` for 'weights' are deprecated since 0.13 and may be removed in the future. The current behavior is equivalent to passing `weights=VGG19_Weights.IMAGENET1K_V1`. You can also use `weights=VGG19_Weights.DEFAULT` to get the most up-to-date weights.\n",
            "  warnings.warn(msg)\n",
            "Downloading: \"https://download.pytorch.org/models/vgg19-dcbb9e9d.pth\" to /root/.cache/torch/hub/checkpoints/vgg19-dcbb9e9d.pth\n",
            "100%|██████████| 548M/548M [00:05<00:00, 101MB/s]\n"
          ]
        }
      ],
      "source": [
        "# Load pre-trained VGG19 model\n",
        "vgg19_model = models.vgg19(pretrained=True, progress=True).to(device) #may need to adjust model parameters for specific dataset ie num classes\n",
        "vgg19_model.classifier[-1] = nn.Linear(vgg19_model.classifier[-1].in_features, num_classes)\n",
        "vgg19_model.classifier[-1] = vgg19_model.classifier[-1].to(device)\n",
        "vggaoptimizer = torch.optim.Adam(vgg19_model.parameters(), lr=0.0003)\n",
        "vggsgd_optimizer = torch.optim.SGD(vgg19_model.parameters(), lr=0.01, momentum=0.9, weight_decay=1e-4) #we want the same thin"
      ]
    },
    {
      "cell_type": "code",
      "execution_count": null,
      "metadata": {
        "id": "JcIa4t1EUE4y"
      },
      "outputs": [],
      "source": [
        "hybrid_optimizer2 = optim.Adam(\n",
        "    [\n",
        "        {\"params\": vgg19_model.parameters(), \"lr\": 0.0003},\n",
        "        {\"params\": vit_model.parameters(), \"lr\": 0.0003},\n",
        "    ]\n",
        ")"
      ]
    },
    {
      "cell_type": "code",
      "execution_count": null,
      "metadata": {
        "id": "l9fR1KKlUE7r",
        "outputId": "fd73a773-0ee5-4d3c-a75e-09884cbc89d6",
        "colab": {
          "base_uri": "https://localhost:8080/"
        }
      },
      "outputs": [
        {
          "output_type": "execute_result",
          "data": {
            "text/plain": [
              "Vgg19Vit(\n",
              "  (vgg19_features): Sequential(\n",
              "    (0): Sequential(\n",
              "      (0): Conv2d(3, 64, kernel_size=(3, 3), stride=(1, 1), padding=(1, 1))\n",
              "      (1): ReLU(inplace=True)\n",
              "      (2): Conv2d(64, 64, kernel_size=(3, 3), stride=(1, 1), padding=(1, 1))\n",
              "      (3): ReLU(inplace=True)\n",
              "      (4): MaxPool2d(kernel_size=2, stride=2, padding=0, dilation=1, ceil_mode=False)\n",
              "      (5): Conv2d(64, 128, kernel_size=(3, 3), stride=(1, 1), padding=(1, 1))\n",
              "      (6): ReLU(inplace=True)\n",
              "      (7): Conv2d(128, 128, kernel_size=(3, 3), stride=(1, 1), padding=(1, 1))\n",
              "      (8): ReLU(inplace=True)\n",
              "      (9): MaxPool2d(kernel_size=2, stride=2, padding=0, dilation=1, ceil_mode=False)\n",
              "      (10): Conv2d(128, 256, kernel_size=(3, 3), stride=(1, 1), padding=(1, 1))\n",
              "      (11): ReLU(inplace=True)\n",
              "      (12): Conv2d(256, 256, kernel_size=(3, 3), stride=(1, 1), padding=(1, 1))\n",
              "      (13): ReLU(inplace=True)\n",
              "      (14): Conv2d(256, 256, kernel_size=(3, 3), stride=(1, 1), padding=(1, 1))\n",
              "      (15): ReLU(inplace=True)\n",
              "      (16): Conv2d(256, 256, kernel_size=(3, 3), stride=(1, 1), padding=(1, 1))\n",
              "      (17): ReLU(inplace=True)\n",
              "      (18): MaxPool2d(kernel_size=2, stride=2, padding=0, dilation=1, ceil_mode=False)\n",
              "      (19): Conv2d(256, 512, kernel_size=(3, 3), stride=(1, 1), padding=(1, 1))\n",
              "      (20): ReLU(inplace=True)\n",
              "      (21): Conv2d(512, 512, kernel_size=(3, 3), stride=(1, 1), padding=(1, 1))\n",
              "      (22): ReLU(inplace=True)\n",
              "      (23): Conv2d(512, 512, kernel_size=(3, 3), stride=(1, 1), padding=(1, 1))\n",
              "      (24): ReLU(inplace=True)\n",
              "      (25): Conv2d(512, 512, kernel_size=(3, 3), stride=(1, 1), padding=(1, 1))\n",
              "      (26): ReLU(inplace=True)\n",
              "      (27): MaxPool2d(kernel_size=2, stride=2, padding=0, dilation=1, ceil_mode=False)\n",
              "      (28): Conv2d(512, 512, kernel_size=(3, 3), stride=(1, 1), padding=(1, 1))\n",
              "      (29): ReLU(inplace=True)\n",
              "      (30): Conv2d(512, 512, kernel_size=(3, 3), stride=(1, 1), padding=(1, 1))\n",
              "      (31): ReLU(inplace=True)\n",
              "      (32): Conv2d(512, 512, kernel_size=(3, 3), stride=(1, 1), padding=(1, 1))\n",
              "      (33): ReLU(inplace=True)\n",
              "      (34): Conv2d(512, 512, kernel_size=(3, 3), stride=(1, 1), padding=(1, 1))\n",
              "      (35): ReLU(inplace=True)\n",
              "      (36): MaxPool2d(kernel_size=2, stride=2, padding=0, dilation=1, ceil_mode=False)\n",
              "    )\n",
              "  )\n",
              "  (vit_features): VisionTransformer(\n",
              "    (patch_embed): PatchEmbed(\n",
              "      (proj): Conv2d(3, 192, kernel_size=(16, 16), stride=(16, 16))\n",
              "      (norm): Identity()\n",
              "    )\n",
              "    (pos_drop): Dropout(p=0.0, inplace=False)\n",
              "    (patch_drop): Identity()\n",
              "    (norm_pre): Identity()\n",
              "    (blocks): Sequential(\n",
              "      (0): Block(\n",
              "        (norm1): LayerNorm((192,), eps=1e-06, elementwise_affine=True)\n",
              "        (attn): Attention(\n",
              "          (qkv): Linear(in_features=192, out_features=576, bias=True)\n",
              "          (q_norm): Identity()\n",
              "          (k_norm): Identity()\n",
              "          (attn_drop): Dropout(p=0.0, inplace=False)\n",
              "          (proj): Linear(in_features=192, out_features=192, bias=True)\n",
              "          (proj_drop): Dropout(p=0.0, inplace=False)\n",
              "        )\n",
              "        (ls1): Identity()\n",
              "        (drop_path1): Identity()\n",
              "        (norm2): LayerNorm((192,), eps=1e-06, elementwise_affine=True)\n",
              "        (mlp): Mlp(\n",
              "          (fc1): Linear(in_features=192, out_features=768, bias=True)\n",
              "          (act): GELU(approximate='none')\n",
              "          (drop1): Dropout(p=0.0, inplace=False)\n",
              "          (norm): Identity()\n",
              "          (fc2): Linear(in_features=768, out_features=192, bias=True)\n",
              "          (drop2): Dropout(p=0.0, inplace=False)\n",
              "        )\n",
              "        (ls2): Identity()\n",
              "        (drop_path2): Identity()\n",
              "      )\n",
              "      (1): Block(\n",
              "        (norm1): LayerNorm((192,), eps=1e-06, elementwise_affine=True)\n",
              "        (attn): Attention(\n",
              "          (qkv): Linear(in_features=192, out_features=576, bias=True)\n",
              "          (q_norm): Identity()\n",
              "          (k_norm): Identity()\n",
              "          (attn_drop): Dropout(p=0.0, inplace=False)\n",
              "          (proj): Linear(in_features=192, out_features=192, bias=True)\n",
              "          (proj_drop): Dropout(p=0.0, inplace=False)\n",
              "        )\n",
              "        (ls1): Identity()\n",
              "        (drop_path1): Identity()\n",
              "        (norm2): LayerNorm((192,), eps=1e-06, elementwise_affine=True)\n",
              "        (mlp): Mlp(\n",
              "          (fc1): Linear(in_features=192, out_features=768, bias=True)\n",
              "          (act): GELU(approximate='none')\n",
              "          (drop1): Dropout(p=0.0, inplace=False)\n",
              "          (norm): Identity()\n",
              "          (fc2): Linear(in_features=768, out_features=192, bias=True)\n",
              "          (drop2): Dropout(p=0.0, inplace=False)\n",
              "        )\n",
              "        (ls2): Identity()\n",
              "        (drop_path2): Identity()\n",
              "      )\n",
              "      (2): Block(\n",
              "        (norm1): LayerNorm((192,), eps=1e-06, elementwise_affine=True)\n",
              "        (attn): Attention(\n",
              "          (qkv): Linear(in_features=192, out_features=576, bias=True)\n",
              "          (q_norm): Identity()\n",
              "          (k_norm): Identity()\n",
              "          (attn_drop): Dropout(p=0.0, inplace=False)\n",
              "          (proj): Linear(in_features=192, out_features=192, bias=True)\n",
              "          (proj_drop): Dropout(p=0.0, inplace=False)\n",
              "        )\n",
              "        (ls1): Identity()\n",
              "        (drop_path1): Identity()\n",
              "        (norm2): LayerNorm((192,), eps=1e-06, elementwise_affine=True)\n",
              "        (mlp): Mlp(\n",
              "          (fc1): Linear(in_features=192, out_features=768, bias=True)\n",
              "          (act): GELU(approximate='none')\n",
              "          (drop1): Dropout(p=0.0, inplace=False)\n",
              "          (norm): Identity()\n",
              "          (fc2): Linear(in_features=768, out_features=192, bias=True)\n",
              "          (drop2): Dropout(p=0.0, inplace=False)\n",
              "        )\n",
              "        (ls2): Identity()\n",
              "        (drop_path2): Identity()\n",
              "      )\n",
              "      (3): Block(\n",
              "        (norm1): LayerNorm((192,), eps=1e-06, elementwise_affine=True)\n",
              "        (attn): Attention(\n",
              "          (qkv): Linear(in_features=192, out_features=576, bias=True)\n",
              "          (q_norm): Identity()\n",
              "          (k_norm): Identity()\n",
              "          (attn_drop): Dropout(p=0.0, inplace=False)\n",
              "          (proj): Linear(in_features=192, out_features=192, bias=True)\n",
              "          (proj_drop): Dropout(p=0.0, inplace=False)\n",
              "        )\n",
              "        (ls1): Identity()\n",
              "        (drop_path1): Identity()\n",
              "        (norm2): LayerNorm((192,), eps=1e-06, elementwise_affine=True)\n",
              "        (mlp): Mlp(\n",
              "          (fc1): Linear(in_features=192, out_features=768, bias=True)\n",
              "          (act): GELU(approximate='none')\n",
              "          (drop1): Dropout(p=0.0, inplace=False)\n",
              "          (norm): Identity()\n",
              "          (fc2): Linear(in_features=768, out_features=192, bias=True)\n",
              "          (drop2): Dropout(p=0.0, inplace=False)\n",
              "        )\n",
              "        (ls2): Identity()\n",
              "        (drop_path2): Identity()\n",
              "      )\n",
              "      (4): Block(\n",
              "        (norm1): LayerNorm((192,), eps=1e-06, elementwise_affine=True)\n",
              "        (attn): Attention(\n",
              "          (qkv): Linear(in_features=192, out_features=576, bias=True)\n",
              "          (q_norm): Identity()\n",
              "          (k_norm): Identity()\n",
              "          (attn_drop): Dropout(p=0.0, inplace=False)\n",
              "          (proj): Linear(in_features=192, out_features=192, bias=True)\n",
              "          (proj_drop): Dropout(p=0.0, inplace=False)\n",
              "        )\n",
              "        (ls1): Identity()\n",
              "        (drop_path1): Identity()\n",
              "        (norm2): LayerNorm((192,), eps=1e-06, elementwise_affine=True)\n",
              "        (mlp): Mlp(\n",
              "          (fc1): Linear(in_features=192, out_features=768, bias=True)\n",
              "          (act): GELU(approximate='none')\n",
              "          (drop1): Dropout(p=0.0, inplace=False)\n",
              "          (norm): Identity()\n",
              "          (fc2): Linear(in_features=768, out_features=192, bias=True)\n",
              "          (drop2): Dropout(p=0.0, inplace=False)\n",
              "        )\n",
              "        (ls2): Identity()\n",
              "        (drop_path2): Identity()\n",
              "      )\n",
              "      (5): Block(\n",
              "        (norm1): LayerNorm((192,), eps=1e-06, elementwise_affine=True)\n",
              "        (attn): Attention(\n",
              "          (qkv): Linear(in_features=192, out_features=576, bias=True)\n",
              "          (q_norm): Identity()\n",
              "          (k_norm): Identity()\n",
              "          (attn_drop): Dropout(p=0.0, inplace=False)\n",
              "          (proj): Linear(in_features=192, out_features=192, bias=True)\n",
              "          (proj_drop): Dropout(p=0.0, inplace=False)\n",
              "        )\n",
              "        (ls1): Identity()\n",
              "        (drop_path1): Identity()\n",
              "        (norm2): LayerNorm((192,), eps=1e-06, elementwise_affine=True)\n",
              "        (mlp): Mlp(\n",
              "          (fc1): Linear(in_features=192, out_features=768, bias=True)\n",
              "          (act): GELU(approximate='none')\n",
              "          (drop1): Dropout(p=0.0, inplace=False)\n",
              "          (norm): Identity()\n",
              "          (fc2): Linear(in_features=768, out_features=192, bias=True)\n",
              "          (drop2): Dropout(p=0.0, inplace=False)\n",
              "        )\n",
              "        (ls2): Identity()\n",
              "        (drop_path2): Identity()\n",
              "      )\n",
              "      (6): Block(\n",
              "        (norm1): LayerNorm((192,), eps=1e-06, elementwise_affine=True)\n",
              "        (attn): Attention(\n",
              "          (qkv): Linear(in_features=192, out_features=576, bias=True)\n",
              "          (q_norm): Identity()\n",
              "          (k_norm): Identity()\n",
              "          (attn_drop): Dropout(p=0.0, inplace=False)\n",
              "          (proj): Linear(in_features=192, out_features=192, bias=True)\n",
              "          (proj_drop): Dropout(p=0.0, inplace=False)\n",
              "        )\n",
              "        (ls1): Identity()\n",
              "        (drop_path1): Identity()\n",
              "        (norm2): LayerNorm((192,), eps=1e-06, elementwise_affine=True)\n",
              "        (mlp): Mlp(\n",
              "          (fc1): Linear(in_features=192, out_features=768, bias=True)\n",
              "          (act): GELU(approximate='none')\n",
              "          (drop1): Dropout(p=0.0, inplace=False)\n",
              "          (norm): Identity()\n",
              "          (fc2): Linear(in_features=768, out_features=192, bias=True)\n",
              "          (drop2): Dropout(p=0.0, inplace=False)\n",
              "        )\n",
              "        (ls2): Identity()\n",
              "        (drop_path2): Identity()\n",
              "      )\n",
              "      (7): Block(\n",
              "        (norm1): LayerNorm((192,), eps=1e-06, elementwise_affine=True)\n",
              "        (attn): Attention(\n",
              "          (qkv): Linear(in_features=192, out_features=576, bias=True)\n",
              "          (q_norm): Identity()\n",
              "          (k_norm): Identity()\n",
              "          (attn_drop): Dropout(p=0.0, inplace=False)\n",
              "          (proj): Linear(in_features=192, out_features=192, bias=True)\n",
              "          (proj_drop): Dropout(p=0.0, inplace=False)\n",
              "        )\n",
              "        (ls1): Identity()\n",
              "        (drop_path1): Identity()\n",
              "        (norm2): LayerNorm((192,), eps=1e-06, elementwise_affine=True)\n",
              "        (mlp): Mlp(\n",
              "          (fc1): Linear(in_features=192, out_features=768, bias=True)\n",
              "          (act): GELU(approximate='none')\n",
              "          (drop1): Dropout(p=0.0, inplace=False)\n",
              "          (norm): Identity()\n",
              "          (fc2): Linear(in_features=768, out_features=192, bias=True)\n",
              "          (drop2): Dropout(p=0.0, inplace=False)\n",
              "        )\n",
              "        (ls2): Identity()\n",
              "        (drop_path2): Identity()\n",
              "      )\n",
              "      (8): Block(\n",
              "        (norm1): LayerNorm((192,), eps=1e-06, elementwise_affine=True)\n",
              "        (attn): Attention(\n",
              "          (qkv): Linear(in_features=192, out_features=576, bias=True)\n",
              "          (q_norm): Identity()\n",
              "          (k_norm): Identity()\n",
              "          (attn_drop): Dropout(p=0.0, inplace=False)\n",
              "          (proj): Linear(in_features=192, out_features=192, bias=True)\n",
              "          (proj_drop): Dropout(p=0.0, inplace=False)\n",
              "        )\n",
              "        (ls1): Identity()\n",
              "        (drop_path1): Identity()\n",
              "        (norm2): LayerNorm((192,), eps=1e-06, elementwise_affine=True)\n",
              "        (mlp): Mlp(\n",
              "          (fc1): Linear(in_features=192, out_features=768, bias=True)\n",
              "          (act): GELU(approximate='none')\n",
              "          (drop1): Dropout(p=0.0, inplace=False)\n",
              "          (norm): Identity()\n",
              "          (fc2): Linear(in_features=768, out_features=192, bias=True)\n",
              "          (drop2): Dropout(p=0.0, inplace=False)\n",
              "        )\n",
              "        (ls2): Identity()\n",
              "        (drop_path2): Identity()\n",
              "      )\n",
              "      (9): Block(\n",
              "        (norm1): LayerNorm((192,), eps=1e-06, elementwise_affine=True)\n",
              "        (attn): Attention(\n",
              "          (qkv): Linear(in_features=192, out_features=576, bias=True)\n",
              "          (q_norm): Identity()\n",
              "          (k_norm): Identity()\n",
              "          (attn_drop): Dropout(p=0.0, inplace=False)\n",
              "          (proj): Linear(in_features=192, out_features=192, bias=True)\n",
              "          (proj_drop): Dropout(p=0.0, inplace=False)\n",
              "        )\n",
              "        (ls1): Identity()\n",
              "        (drop_path1): Identity()\n",
              "        (norm2): LayerNorm((192,), eps=1e-06, elementwise_affine=True)\n",
              "        (mlp): Mlp(\n",
              "          (fc1): Linear(in_features=192, out_features=768, bias=True)\n",
              "          (act): GELU(approximate='none')\n",
              "          (drop1): Dropout(p=0.0, inplace=False)\n",
              "          (norm): Identity()\n",
              "          (fc2): Linear(in_features=768, out_features=192, bias=True)\n",
              "          (drop2): Dropout(p=0.0, inplace=False)\n",
              "        )\n",
              "        (ls2): Identity()\n",
              "        (drop_path2): Identity()\n",
              "      )\n",
              "      (10): Block(\n",
              "        (norm1): LayerNorm((192,), eps=1e-06, elementwise_affine=True)\n",
              "        (attn): Attention(\n",
              "          (qkv): Linear(in_features=192, out_features=576, bias=True)\n",
              "          (q_norm): Identity()\n",
              "          (k_norm): Identity()\n",
              "          (attn_drop): Dropout(p=0.0, inplace=False)\n",
              "          (proj): Linear(in_features=192, out_features=192, bias=True)\n",
              "          (proj_drop): Dropout(p=0.0, inplace=False)\n",
              "        )\n",
              "        (ls1): Identity()\n",
              "        (drop_path1): Identity()\n",
              "        (norm2): LayerNorm((192,), eps=1e-06, elementwise_affine=True)\n",
              "        (mlp): Mlp(\n",
              "          (fc1): Linear(in_features=192, out_features=768, bias=True)\n",
              "          (act): GELU(approximate='none')\n",
              "          (drop1): Dropout(p=0.0, inplace=False)\n",
              "          (norm): Identity()\n",
              "          (fc2): Linear(in_features=768, out_features=192, bias=True)\n",
              "          (drop2): Dropout(p=0.0, inplace=False)\n",
              "        )\n",
              "        (ls2): Identity()\n",
              "        (drop_path2): Identity()\n",
              "      )\n",
              "      (11): Block(\n",
              "        (norm1): LayerNorm((192,), eps=1e-06, elementwise_affine=True)\n",
              "        (attn): Attention(\n",
              "          (qkv): Linear(in_features=192, out_features=576, bias=True)\n",
              "          (q_norm): Identity()\n",
              "          (k_norm): Identity()\n",
              "          (attn_drop): Dropout(p=0.0, inplace=False)\n",
              "          (proj): Linear(in_features=192, out_features=192, bias=True)\n",
              "          (proj_drop): Dropout(p=0.0, inplace=False)\n",
              "        )\n",
              "        (ls1): Identity()\n",
              "        (drop_path1): Identity()\n",
              "        (norm2): LayerNorm((192,), eps=1e-06, elementwise_affine=True)\n",
              "        (mlp): Mlp(\n",
              "          (fc1): Linear(in_features=192, out_features=768, bias=True)\n",
              "          (act): GELU(approximate='none')\n",
              "          (drop1): Dropout(p=0.0, inplace=False)\n",
              "          (norm): Identity()\n",
              "          (fc2): Linear(in_features=768, out_features=192, bias=True)\n",
              "          (drop2): Dropout(p=0.0, inplace=False)\n",
              "        )\n",
              "        (ls2): Identity()\n",
              "        (drop_path2): Identity()\n",
              "      )\n",
              "    )\n",
              "    (norm): LayerNorm((192,), eps=1e-06, elementwise_affine=True)\n",
              "    (fc_norm): Identity()\n",
              "    (head_drop): Dropout(p=0.0, inplace=False)\n",
              "    (head): Linear(in_features=192, out_features=7, bias=True)\n",
              "  )\n",
              "  (fc): Linear(in_features=4288, out_features=7, bias=True)\n",
              ")"
            ]
          },
          "metadata": {},
          "execution_count": 33
        }
      ],
      "source": [
        "class Vgg19Vit(nn.Module):\n",
        "    def __init__(self, vgg19_model, vit_model):\n",
        "        super(Vgg19Vit, self).__init__()\n",
        "        # Feature extractor (VGG19)\n",
        "        self.vgg19_features = nn.Sequential(*list(vgg19_model.children())[:-2])\n",
        "\n",
        "        # Vision Transformer (ViT)\n",
        "        self.vit_features = vit_model\n",
        "\n",
        "        # Final classification head\n",
        "        self.fc = nn.Linear(vgg19_model.classifier[-1].in_features + vit_model.head.in_features, num_classes)\n",
        "\n",
        "    def forward(self, x):\n",
        "        # Extract features from VGG19\n",
        "        vgg19_features = self.vgg19_features(x)\n",
        "\n",
        "        # Forward ViT features\n",
        "        vit_features = self.vit_features(x)\n",
        "\n",
        "        # Global average pooling for VGG19 features\n",
        "        vgg19_features = vgg19_features.mean([2, 3])\n",
        "\n",
        "        # Concatenate VGG19 and ViT features\n",
        "        combined_features = torch.cat([vgg19_features, vit_features], dim=1)\n",
        "\n",
        "        # Final classification\n",
        "        output = self.fc(combined_features)\n",
        "\n",
        "        return output\n",
        "\n",
        "# Instantiate the hybrid model\n",
        "vgg19vit = Vgg19Vit(vgg19_model, vit_model)\n",
        "vgg19vit.to(device)  # Move the model to the specified device"
      ]
    },
    {
      "cell_type": "code",
      "execution_count": null,
      "metadata": {
        "id": "vQVhlz6SUE92",
        "outputId": "e202e518-0abc-4504-8b76-264b0a35b093",
        "colab": {
          "base_uri": "https://localhost:8080/"
        }
      },
      "outputs": [
        {
          "metadata": {
            "tags": null
          },
          "name": "stderr",
          "output_type": "stream",
          "text": [
            "100%|██████████| 346/346 [05:01<00:00,  1.15it/s]\n",
            "100%|██████████| 39/39 [00:17<00:00,  2.24it/s]\n"
          ]
        },
        {
          "metadata": {
            "tags": null
          },
          "name": "stdout",
          "output_type": "stream",
          "text": [
            "[Epoch: 001/020] Train: loss=3.26786, acc=0.30446 | Valid: loss=3.11331, acc=0.30716\n"
          ]
        },
        {
          "metadata": {
            "tags": null
          },
          "name": "stderr",
          "output_type": "stream",
          "text": [
            "100%|██████████| 346/346 [04:59<00:00,  1.16it/s]\n",
            "100%|██████████| 39/39 [00:17<00:00,  2.21it/s]\n"
          ]
        },
        {
          "metadata": {
            "tags": null
          },
          "name": "stdout",
          "output_type": "stream",
          "text": [
            "[Epoch: 002/020] Train: loss=2.85102, acc=0.30985 | Valid: loss=2.78645, acc=0.27885\n"
          ]
        },
        {
          "metadata": {
            "tags": null
          },
          "name": "stderr",
          "output_type": "stream",
          "text": [
            "100%|██████████| 346/346 [04:55<00:00,  1.17it/s]\n",
            "100%|██████████| 39/39 [00:17<00:00,  2.23it/s]\n"
          ]
        },
        {
          "metadata": {
            "tags": null
          },
          "name": "stdout",
          "output_type": "stream",
          "text": [
            "[Epoch: 003/020] Train: loss=2.68560, acc=0.32009 | Valid: loss=2.76216, acc=0.30048\n"
          ]
        },
        {
          "metadata": {
            "tags": null
          },
          "name": "stderr",
          "output_type": "stream",
          "text": [
            "100%|██████████| 346/346 [04:54<00:00,  1.18it/s]\n",
            "100%|██████████| 39/39 [00:17<00:00,  2.26it/s]\n"
          ]
        },
        {
          "metadata": {
            "tags": null
          },
          "name": "stdout",
          "output_type": "stream",
          "text": [
            "[Epoch: 004/020] Train: loss=2.58859, acc=0.32939 | Valid: loss=2.57010, acc=0.32372\n"
          ]
        },
        {
          "metadata": {
            "tags": null
          },
          "name": "stderr",
          "output_type": "stream",
          "text": [
            "100%|██████████| 346/346 [04:53<00:00,  1.18it/s]\n",
            "100%|██████████| 39/39 [00:17<00:00,  2.26it/s]\n"
          ]
        },
        {
          "metadata": {
            "tags": null
          },
          "name": "stdout",
          "output_type": "stream",
          "text": [
            "[Epoch: 005/020] Train: loss=2.53606, acc=0.33300 | Valid: loss=2.49296, acc=0.36645\n"
          ]
        },
        {
          "metadata": {
            "tags": null
          },
          "name": "stderr",
          "output_type": "stream",
          "text": [
            "100%|██████████| 346/346 [04:54<00:00,  1.17it/s]\n",
            "100%|██████████| 39/39 [00:16<00:00,  2.29it/s]\n"
          ]
        },
        {
          "metadata": {
            "tags": null
          },
          "name": "stdout",
          "output_type": "stream",
          "text": [
            "[Epoch: 006/020] Train: loss=2.47900, acc=0.34014 | Valid: loss=2.55925, acc=0.36886\n"
          ]
        },
        {
          "metadata": {
            "tags": null
          },
          "name": "stderr",
          "output_type": "stream",
          "text": [
            "100%|██████████| 346/346 [04:53<00:00,  1.18it/s]\n",
            "100%|██████████| 39/39 [00:16<00:00,  2.31it/s]\n"
          ]
        },
        {
          "metadata": {
            "tags": null
          },
          "name": "stdout",
          "output_type": "stream",
          "text": [
            "[Epoch: 007/020] Train: loss=2.43925, acc=0.33966 | Valid: loss=2.42544, acc=0.35710\n"
          ]
        },
        {
          "metadata": {
            "tags": null
          },
          "name": "stderr",
          "output_type": "stream",
          "text": [
            "100%|██████████| 346/346 [04:52<00:00,  1.18it/s]\n",
            "100%|██████████| 39/39 [00:16<00:00,  2.32it/s]\n"
          ]
        },
        {
          "metadata": {
            "tags": null
          },
          "name": "stdout",
          "output_type": "stream",
          "text": [
            "[Epoch: 008/020] Train: loss=2.41543, acc=0.33932 | Valid: loss=2.49860, acc=0.37126\n"
          ]
        },
        {
          "output_type": "stream",
          "name": "stderr",
          "text": [
            "100%|██████████| 346/346 [04:52<00:00,  1.18it/s]\n",
            "100%|██████████| 39/39 [00:16<00:00,  2.34it/s]\n"
          ]
        },
        {
          "output_type": "stream",
          "name": "stdout",
          "text": [
            "[Epoch: 009/020] Train: loss=2.40351, acc=0.34240 | Valid: loss=2.51231, acc=0.28873\n"
          ]
        },
        {
          "output_type": "stream",
          "name": "stderr",
          "text": [
            "100%|██████████| 346/346 [04:53<00:00,  1.18it/s]\n",
            "100%|██████████| 39/39 [00:16<00:00,  2.30it/s]\n"
          ]
        },
        {
          "output_type": "stream",
          "name": "stdout",
          "text": [
            "[Epoch: 010/020] Train: loss=2.35950, acc=0.34471 | Valid: loss=2.39243, acc=0.35096\n"
          ]
        },
        {
          "output_type": "stream",
          "name": "stderr",
          "text": [
            "100%|██████████| 346/346 [04:53<00:00,  1.18it/s]\n",
            "100%|██████████| 39/39 [00:17<00:00,  2.27it/s]\n"
          ]
        },
        {
          "output_type": "stream",
          "name": "stdout",
          "text": [
            "[Epoch: 011/020] Train: loss=2.32136, acc=0.34854 | Valid: loss=2.35553, acc=0.34509\n"
          ]
        },
        {
          "output_type": "stream",
          "name": "stderr",
          "text": [
            "100%|██████████| 346/346 [04:53<00:00,  1.18it/s]\n",
            "100%|██████████| 39/39 [00:17<00:00,  2.25it/s]\n"
          ]
        },
        {
          "output_type": "stream",
          "name": "stdout",
          "text": [
            "[Epoch: 012/020] Train: loss=2.32974, acc=0.34565 | Valid: loss=2.33411, acc=0.35524\n"
          ]
        },
        {
          "output_type": "stream",
          "name": "stderr",
          "text": [
            "100%|██████████| 346/346 [04:52<00:00,  1.18it/s]\n",
            "100%|██████████| 39/39 [00:17<00:00,  2.25it/s]\n"
          ]
        },
        {
          "output_type": "stream",
          "name": "stdout",
          "text": [
            "[Epoch: 013/020] Train: loss=2.29642, acc=0.34908 | Valid: loss=2.39823, acc=0.33226\n"
          ]
        },
        {
          "output_type": "stream",
          "name": "stderr",
          "text": [
            "100%|██████████| 346/346 [04:52<00:00,  1.18it/s]\n",
            "100%|██████████| 39/39 [00:17<00:00,  2.26it/s]\n"
          ]
        },
        {
          "output_type": "stream",
          "name": "stdout",
          "text": [
            "[Epoch: 014/020] Train: loss=2.28116, acc=0.34736 | Valid: loss=2.42900, acc=0.34882\n"
          ]
        },
        {
          "output_type": "stream",
          "name": "stderr",
          "text": [
            "100%|██████████| 346/346 [04:52<00:00,  1.18it/s]\n",
            "100%|██████████| 39/39 [00:16<00:00,  2.31it/s]\n"
          ]
        },
        {
          "output_type": "stream",
          "name": "stdout",
          "text": [
            "[Epoch: 015/020] Train: loss=2.27719, acc=0.34754 | Valid: loss=2.34582, acc=0.33280\n"
          ]
        },
        {
          "output_type": "stream",
          "name": "stderr",
          "text": [
            "100%|██████████| 346/346 [04:55<00:00,  1.17it/s]\n",
            "100%|██████████| 39/39 [00:17<00:00,  2.27it/s]\n"
          ]
        },
        {
          "output_type": "stream",
          "name": "stdout",
          "text": [
            "[Epoch: 016/020] Train: loss=2.25149, acc=0.34932 | Valid: loss=2.36808, acc=0.35443\n"
          ]
        },
        {
          "output_type": "stream",
          "name": "stderr",
          "text": [
            "100%|██████████| 346/346 [04:56<00:00,  1.17it/s]\n",
            "100%|██████████| 39/39 [00:17<00:00,  2.23it/s]\n"
          ]
        },
        {
          "output_type": "stream",
          "name": "stdout",
          "text": [
            "[Epoch: 017/020] Train: loss=2.24135, acc=0.35215 | Valid: loss=2.37263, acc=0.32051\n"
          ]
        },
        {
          "output_type": "stream",
          "name": "stderr",
          "text": [
            "100%|██████████| 346/346 [05:09<00:00,  1.12it/s]\n",
            "100%|██████████| 39/39 [00:20<00:00,  1.94it/s]\n"
          ]
        },
        {
          "output_type": "stream",
          "name": "stdout",
          "text": [
            "[Epoch: 018/020] Train: loss=2.22676, acc=0.35170 | Valid: loss=2.32499, acc=0.33120\n"
          ]
        },
        {
          "output_type": "stream",
          "name": "stderr",
          "text": [
            "100%|██████████| 346/346 [05:15<00:00,  1.10it/s]\n",
            "100%|██████████| 39/39 [00:20<00:00,  1.88it/s]\n"
          ]
        },
        {
          "output_type": "stream",
          "name": "stdout",
          "text": [
            "[Epoch: 019/020] Train: loss=2.20894, acc=0.35290 | Valid: loss=2.37103, acc=0.33761\n"
          ]
        },
        {
          "output_type": "stream",
          "name": "stderr",
          "text": [
            "100%|██████████| 346/346 [05:16<00:00,  1.09it/s]\n",
            "100%|██████████| 39/39 [00:20<00:00,  1.91it/s]"
          ]
        },
        {
          "output_type": "stream",
          "name": "stdout",
          "text": [
            "[Epoch: 020/020] Train: loss=2.19727, acc=0.35540 | Valid: loss=2.35414, acc=0.34348\n"
          ]
        },
        {
          "output_type": "stream",
          "name": "stderr",
          "text": [
            "\n"
          ]
        }
      ],
      "source": [
        "# The number of training epochs.\n",
        "n_epochs = 20\n",
        "\n",
        "patience = 20  # Number of epochs with no improvement after which training will be stopped\n",
        "early_stopping_counter = 0\n",
        "early_stopping_threshold = 1e-4\n",
        "\n",
        "# These are used to record information\n",
        "best_valid_acc = 0\n",
        "train_loss_epochs = []\n",
        "train_acc_epochs = []\n",
        "valid_loss_epochs = []\n",
        "valid_acc_epochs = []\n",
        "\n",
        "for epoch in range(n_epochs):\n",
        "  # Training loop\n",
        "    vgg19vit.train()\n",
        "    train_loss = []\n",
        "    train_accs = []\n",
        "    for batch in tqdm(train_loader):\n",
        "        hybrid_optimizer2.zero_grad()\n",
        "\n",
        "        imgs, labels = batch\n",
        "        imgs = imgs.to(device)\n",
        "        labels = labels.to(device)\n",
        "\n",
        "        vgg19_logits = vgg19_model(imgs)\n",
        "        vit_logits = vit_model(imgs)\n",
        "        loss = criterion(vgg19_logits, labels) + criterion(vit_logits, labels)\n",
        "        loss.backward()\n",
        "        hybrid_optimizer2.step()\n",
        "        acc = ((vgg19_logits.argmax(dim=-1) == labels) & (vit_logits.argmax(dim=-1) == labels)).float().mean()\n",
        "        train_loss.append(loss.item())\n",
        "        train_accs.append(acc.item())\n",
        "    train_loss = sum(train_loss) / len(train_loss)\n",
        "    train_acc = sum(train_accs) / len(train_accs)\n",
        "    train_loss_epochs.append(train_loss)\n",
        "    train_acc_epochs.append(train_acc)\n",
        "\n",
        "    # Validation loop\n",
        "    vgg19vit.eval()\n",
        "    valid_loss = []\n",
        "    valid_accs = []\n",
        "    for batch in tqdm(valid_loader):\n",
        "        imgs, labels = batch\n",
        "        imgs = imgs.to(device)\n",
        "        labels = labels.to(device)\n",
        "        with torch.no_grad():\n",
        "            vgg19_logits = vgg19_model(imgs)\n",
        "            vit_logits = vit_model(imgs)\n",
        "        loss = criterion(vgg19_logits, labels) + criterion(vit_logits, labels)\n",
        "        acc = ((vgg19_logits.argmax(dim=-1) == labels) & (vit_logits.argmax(dim=-1) == labels)).float().mean()\n",
        "        valid_loss.append(loss.item())\n",
        "        valid_accs.append(acc.item())\n",
        "    valid_loss = sum(valid_loss) / len(valid_loss)\n",
        "    valid_acc = sum(valid_accs) / len(valid_accs)\n",
        "    valid_loss_epochs.append(valid_loss)\n",
        "    valid_acc_epochs.append(valid_acc)\n",
        "\n",
        "    # Save the best model\n",
        "    if valid_acc > best_valid_acc:\n",
        "        best_valid_acc = valid_acc\n",
        "        torch.save(vgg19vit.state_dict(), 'best_model.pth')\n",
        "\n",
        "    # Print the information.\n",
        "    print(f\"[Epoch: {epoch + 1:03d}/{n_epochs:03d}] Train: loss={train_loss:.5f}, acc={train_acc:.5f} | Valid: loss={valid_loss:.5f}, acc={valid_acc:.5f}\")"
      ]
    },
    {
      "cell_type": "code",
      "execution_count": null,
      "metadata": {
        "id": "fKtfsl0WUFAa",
        "outputId": "b0509379-b663-4f3c-defb-10618b37be16",
        "colab": {
          "base_uri": "https://localhost:8080/",
          "height": 927
        }
      },
      "outputs": [
        {
          "output_type": "display_data",
          "data": {
            "text/plain": [
              "<Figure size 640x480 with 1 Axes>"
            ],
            "image/png": "[encoded data removed]"
          },
          "metadata": {}
        },
        {
          "output_type": "display_data",
          "data": {
            "text/plain": [
              "<Figure size 640x480 with 1 Axes>"
            ],
            "image/png": "[encoded data removed]"
          },
          "metadata": {}
        }
      ],
      "source": [
        "# Plotting the loss curves\n",
        "plt.figure()\n",
        "plt.plot(train_loss_epochs, label='Train Loss')\n",
        "plt.plot(valid_loss_epochs, label='Validation Loss')\n",
        "plt.xlabel('Epochs')\n",
        "plt.ylabel('Loss')\n",
        "plt.title('Train and Validation Loss')\n",
        "plt.legend()\n",
        "plt.show()\n",
        "\n",
        "# Plotting the accuracy curves\n",
        "plt.figure()\n",
        "plt.plot(train_acc_epochs, label='Train Accuracy')\n",
        "plt.plot(valid_acc_epochs, label='Validation Accuracy')\n",
        "plt.xlabel('Epochs')\n",
        "plt.ylabel('Accuracy')\n",
        "plt.title('Train and Validation Accuracy')\n",
        "plt.legend()\n",
        "plt.show()"
      ]
    },
    {
      "cell_type": "code",
      "source": [
        "vgg19_logits = vgg19_model(imgs)\n",
        "        vit_logits = vit_model(imgs)\n",
        "        loss = criterion(vgg19_logits, labels) + criterion(vit_logits, labels)\n",
        "\n",
        "        acc = ((vgg19_logits.argmax(dim=-1) == labels) & (vit_logits.argmax(dim=-1) == labels)).float().mean()\n",
        "        train_loss.append(loss.item())\n",
        "        train_accs.append(acc.item())\n",
        "    train_loss = sum(train_loss) / len(train_loss)\n",
        "    train_acc = sum(train_accs) / len(train_accs)\n",
        "    train_loss_epochs.append(train_loss)\n",
        "    train_acc_epochs.append(train_acc)"
      ],
      "metadata": {
        "id": "LMMv83h__OPS"
      },
      "execution_count": null,
      "outputs": []
    },
    {
      "cell_type": "code",
      "execution_count": null,
      "metadata": {
        "id": "IgGegBJ7yggZ",
        "outputId": "3a4e3139-c51a-4cb0-baae-0054ca224926",
        "colab": {
          "base_uri": "https://localhost:8080/"
        }
      },
      "outputs": [
        {
          "output_type": "stream",
          "name": "stderr",
          "text": [
            "100%|██████████| 96/96 [00:23<00:00,  4.08it/s]"
          ]
        },
        {
          "output_type": "stream",
          "name": "stdout",
          "text": [
            "Test accuracy 0.357421875\n"
          ]
        },
        {
          "output_type": "stream",
          "name": "stderr",
          "text": [
            "\n"
          ]
        }
      ],
      "source": [
        "# load best model weights\n",
        "vgg19vit.load_state_dict(torch.load('best_model.pth'))\n",
        "\n",
        "# Make sure the model is in eval mode.\n",
        "# Some modules like Dropout or BatchNorm affect if the model is in training mode.\n",
        "vgg19vit.eval()\n",
        "\n",
        "test_accs = []\n",
        "\n",
        "# Iterate the testing set by batches.\n",
        "for batch in tqdm(test_loader):\n",
        "    # A batch consists of image data and corresponding labels.\n",
        "    imgs, labels = batch\n",
        "    imgs = imgs.to(device)\n",
        "    labels = labels.to(device)\n",
        "\n",
        "    # We don't need gradient in test\n",
        "    # Using torch.no_grad() accelerates the forward process.\n",
        "    with torch.no_grad():\n",
        "      vgg19_logits = vgg19_model(imgs)\n",
        "      vit_logits = vit_model(imgs)\n",
        "      loss = criterion(vgg19_logits, labels) + criterion(vit_logits, labels)\n",
        "\n",
        "      acc = ((vgg19_logits.argmax(dim=-1) == labels) & (vit_logits.argmax(dim=-1) == labels)).float().mean()\n",
        "\n",
        "    # We can still compute the loss (but not the gradient).\n",
        "    #loss = criterion(logits, labels)\n",
        "\n",
        "    # Compute the accuracy for current batch.\n",
        "   # acc = (logits.argmax(dim=-1) == labels).float().mean()\n",
        "\n",
        "    # Record accuracy.\n",
        "    test_accs.append(acc)\n",
        "\n",
        "# The average accuracy for entire test set is the average of the recorded values.\n",
        "test_acc = sum(test_accs) / len(test_accs)\n",
        "print(f'Test accuracy {test_acc}')"
      ]
    },
    {
      "cell_type": "code",
      "execution_count": null,
      "metadata": {
        "id": "OqmDDD6OygjH"
      },
      "outputs": [],
      "source": []
    },
    {
      "cell_type": "code",
      "execution_count": null,
      "metadata": {
        "id": "r0LESaC_p7Up"
      },
      "outputs": [],
      "source": [
        "hrnet_model = timm.create_model('hrnet_w18_small', pretrained=True).to(device)\n",
        "# Number of input features for the classifier layer\n",
        "in1_features = hrnet_model.num_features\n",
        "hrnet_model.fc = nn.Linear(in1_features, num_classes)\n",
        "hrnet_model.fc = hrnet_model.fc.to(device)\n",
        "hrnet_optimizer = optim.Adam(hrnet_model.parameters(), lr=0.0003)\n",
        "hrnet_sgd_optimizer = optim.SGD(hrnet_model.parameters(), lr=0.01, momentum=0.9, weight_decay=1e-4)"
      ]
    },
    {
      "cell_type": "code",
      "execution_count": null,
      "metadata": {
        "id": "sEubVRKJp7XR"
      },
      "outputs": [],
      "source": [
        "hybrid_optimizer3 = optim.Adam(\n",
        "    [\n",
        "        {\"params\": hrnet_model.parameters(), \"lr\": 0.0003},\n",
        "        {\"params\": vit_model.parameters(), \"lr\": 0.0003},\n",
        "    ]\n",
        ")"
      ]
    },
    {
      "cell_type": "code",
      "execution_count": null,
      "metadata": {
        "id": "UfEj5jUcp7Z4"
      },
      "outputs": [],
      "source": [
        "class HrnetVit(nn.Module):\n",
        "    def __init__(self, hrnet_model, vit_model):\n",
        "        super(HrnetVit, self).__init__()\n",
        "        # Feature extractor (HRNet)\n",
        "        self.hrnet_features = hrnet_model\n",
        "\n",
        "        # Vision Transformer (ViT)\n",
        "        self.vit_features = vit_model\n",
        "\n",
        "        # Final classification head\n",
        "        self.fc = nn.Linear(hrnet_model.fc.in_features + vit_model.head.in_features, num_classes)\n",
        "\n",
        "    def forward(self, x):\n",
        "        # Extract features from HRNet\n",
        "        hrnet_features = self.hrnet_features(x)\n",
        "\n",
        "        # Forward ViT features\n",
        "        vit_features = self.vit_features(x)\n",
        "\n",
        "        # Concatenate HRNet and ViT features\n",
        "        combined_features = torch.cat([hrnet_features, vit_features], dim=1)\n",
        "\n",
        "        # Final classification\n",
        "        output = self.fc(combined_features)\n",
        "\n",
        "        return output\n",
        "\n",
        "# Instantiate the hybrid model\n",
        "hrnetvit_model = HrnetVit(hrnet_model, vit_model)\n",
        "\n",
        "# Move the model to the specified device\n",
        "hrnetvit_model.to(device)"
      ]
    },
    {
      "cell_type": "code",
      "execution_count": null,
      "metadata": {
        "id": "812dxh-Jp7cx"
      },
      "outputs": [],
      "source": [
        "n_epochs = 30\n",
        "\n",
        "patience = 20  # Number of epochs with no improvement after which training will be stopped\n",
        "early_stopping_counter = 0\n",
        "early_stopping_threshold = 1e-4\n",
        "\n",
        "# These are used to record information\n",
        "best_valid_acc = 0\n",
        "train_loss_epochs = []\n",
        "train_acc_epochs = []\n",
        "valid_loss_epochs = []\n",
        "valid_acc_epochs = []\n",
        "\n",
        "for epoch in range(n_epochs):\n",
        "    # Training loop\n",
        "    hrnetvit_model.train()\n",
        "    train_loss = []\n",
        "    train_accs = []\n",
        "    for batch in tqdm(train_loader):\n",
        "        hybrid_optimizer3.zero_grad()\n",
        "\n",
        "        imgs, labels = batch\n",
        "        imgs = imgs.to(device)\n",
        "        labels = labels.to(device)\n",
        "\n",
        "        # Forward pass\n",
        "        hrnet_logits = hrnet_model(imgs)\n",
        "        vit_logits = vit_model(imgs)\n",
        "\n",
        "        # Compute the loss\n",
        "        loss = criterion(hrnet_logits, labels) + criterion(vit_logits, labels)\n",
        "\n",
        "        # Backward pass and optimization step\n",
        "        loss.backward()\n",
        "        hybrid_optimizer3.step()\n",
        "\n",
        "        # Compute accuracy\n",
        "        acc = ((hrnet_logits.argmax(dim=-1) == labels) & (vit_logits.argmax(dim=-1) == labels)).float().mean()\n",
        "        train_loss.append(loss.item())\n",
        "        train_accs.append(acc.item())\n",
        "\n",
        "    # Compute the average training loss and accuracy for this epoch\n",
        "    train_loss = sum(train_loss) / len(train_loss)\n",
        "    train_acc = sum(train_accs) / len(train_accs)\n",
        "    train_loss_epochs.append(train_loss)\n",
        "    train_acc_epochs.append(train_acc)\n",
        "\n",
        "    # Validation loop\n",
        "    hrnetvit_model.eval()\n",
        "    valid_loss = []\n",
        "    valid_accs = []\n",
        "    for batch in tqdm(valid_loader):\n",
        "        imgs, labels = batch\n",
        "        imgs = imgs.to(device)\n",
        "        labels = labels.to(device)\n",
        "\n",
        "        # Forward pass (no gradient calculation needed)\n",
        "        with torch.no_grad():\n",
        "            hrnet_logits = hrnet_model(imgs)\n",
        "            vit_logits = vit_model(imgs)\n",
        "\n",
        "        # Compute the loss\n",
        "        loss = criterion(hrnet_logits, labels) + criterion(vit_logits, labels)\n",
        "\n",
        "        # Compute accuracy\n",
        "        acc = ((hrnet_logits.argmax(dim=-1) == labels) & (vit_logits.argmax(dim=-1) == labels)).float().mean()\n",
        "        valid_loss.append(loss.item())\n",
        "        valid_accs.append(acc.item())\n",
        "\n",
        "    # Compute the average validation loss and accuracy for this epoch\n",
        "    valid_loss = sum(valid_loss) / len(valid_loss)\n",
        "    valid_acc = sum(valid_accs) / len(valid_accs)\n",
        "    valid_loss_epochs.append(valid_loss)\n",
        "    valid_acc_epochs.append(valid_acc)\n",
        "\n",
        "    # Save the best model based on validation accuracy\n",
        "    if valid_acc > best_valid_acc:\n",
        "        best_valid_acc = valid_acc\n",
        "        torch.save(hrnetvit_model.state_dict(), 'best_model.pth')\n",
        "\n",
        "\n",
        "\n",
        "    # Print the information for this epoch\n",
        "    print(f\"[Epoch: {epoch + 1:03d}/{n_epochs:03d}] Train: loss={train_loss:.5f}, acc={train_acc:.5f} | Valid: loss={valid_loss:.5f}, acc={valid_acc:.5f}\")"
      ]
    },
    {
      "cell_type": "code",
      "execution_count": null,
      "metadata": {
        "id": "Xkl-8wbmp7fH"
      },
      "outputs": [],
      "source": [
        "# Plotting the loss curves\n",
        "plt.figure()\n",
        "plt.plot(train_loss_epochs, label='Train Loss')\n",
        "plt.plot(valid_loss_epochs, label='Validation Loss')\n",
        "plt.xlabel('Epochs')\n",
        "plt.ylabel('Loss')\n",
        "plt.title('Train and Validation Loss')\n",
        "plt.legend()\n",
        "plt.show()\n",
        "\n",
        "# Plotting the accuracy curves\n",
        "plt.figure()\n",
        "plt.plot(train_acc_epochs, label='Train Accuracy')\n",
        "plt.plot(valid_acc_epochs, label='Validation Accuracy')\n",
        "plt.xlabel('Epochs')\n",
        "plt.ylabel('Accuracy')\n",
        "plt.title('Train and Validation Accuracy')\n",
        "plt.legend()\n",
        "plt.show()"
      ]
    },
    {
      "cell_type": "code",
      "source": [
        "# load best model weights\n",
        "\n",
        "hrnetvit_model.load_state_dict(torch.load('best_model.pth'))\n",
        "\n",
        "# Make sure the model is in eval mode.\n",
        "# Some modules like Dropout or BatchNorm affect if the model is in training mode.\n",
        "hrnetvit_model.eval()\n",
        "\n",
        "test_accs = []\n",
        "\n",
        "# Iterate the testing set by batches.\n",
        "for batch in tqdm(test_loader):\n",
        "    # A batch consists of image data and corresponding labels.\n",
        "    imgs, labels = batch\n",
        "    imgs = imgs.to(device)\n",
        "    labels = labels.to(device)\n",
        "\n",
        "    # We don't need gradient in test\n",
        "    # Using torch.no_grad() accelerates the forward process.\n",
        "    with torch.no_grad():\n",
        "        hrnet_logits = hrnetvit_model(imgs)\n",
        "        vit_logits = vit_model(imgs)\n",
        "\n",
        "        # Compute the loss\n",
        "        loss = criterion(hrnet_logits, labels) + criterion(vit_logits, labels)\n",
        "\n",
        "        # Compute the accuracy for current batch.\n",
        "        acc = ((hrnet_logits.argmax(dim=-1) == labels) & (vit_logits.argmax(dim=-1) == labels)).float().mean()\n",
        "\n",
        "    # Record accuracy.\n",
        "    test_accs.append(acc)\n",
        "\n",
        "# The average accuracy for entire test set is the average of the recorded values.\n",
        "test_acc = sum(test_accs) / len(test_accs)\n",
        "print(f'Test accuracy {test_acc}')"
      ],
      "metadata": {
        "id": "G3Tl_StnrQ5v"
      },
      "execution_count": null,
      "outputs": []
    },
    {
      "cell_type": "code",
      "execution_count": null,
      "metadata": {
        "id": "lc7_q89wp7kL"
      },
      "outputs": [],
      "source": []
    },
    {
      "cell_type": "code",
      "execution_count": null,
      "metadata": {
        "id": "oVM_hQGOUFFO"
      },
      "outputs": [],
      "source": [
        "vit_optimizer = torch.optim.Adam(vit_model.parameters(), lr=0.0003)"
      ]
    },
    {
      "cell_type": "code",
      "execution_count": null,
      "metadata": {
        "id": "1B6LzZC8ChHZ"
      },
      "outputs": [],
      "source": [
        "vit_model.to(device)  # Move the Vision Transformer model to the specified device\n",
        "# The number of training epochs.\n",
        "n_epochs = 30\n",
        "\n",
        "# These are used to record information\n",
        "best_valid_acc = 0\n",
        "train_loss_epochs = []\n",
        "train_acc_epochs = []\n",
        "valid_loss_epochs = []\n",
        "valid_acc_epochs = []\n",
        "\n",
        "for epoch in range(n_epochs):\n",
        "\n",
        "    # ---------- Training ----------\n",
        "    # Make sure the model is in train mode before training.\n",
        "    vit_model.train()\n",
        "\n",
        "    # These are used to record information in training.\n",
        "    train_loss = []\n",
        "    train_accs = []\n",
        "\n",
        "    # Iterate the training set by batches.\n",
        "    for batch in tqdm(train_loader):\n",
        "        # Gradients stored in the parameters in the previous step should be cleared out first.\n",
        "        vit_optimizer.zero_grad()\n",
        "\n",
        "        # A batch consists of image data and corresponding labels.\n",
        "        imgs, labels = batch\n",
        "        imgs = imgs.to(device)\n",
        "        labels = labels.to(device)\n",
        "\n",
        "        # Forward the data. (Make sure data and model are on the same device.)\n",
        "        logits = vit_model(imgs)\n",
        "\n",
        "        # Calculate the cross-entropy loss.\n",
        "        # We don't need to apply softmax before computing cross-entropy as it is done automatically.\n",
        "        loss = criterion(logits, labels)\n",
        "\n",
        "        # Compute the gradients for parameters.\n",
        "        loss.backward()\n",
        "\n",
        "        # Update the parameters with computed gradients.\n",
        "        vit_optimizer.step()\n",
        "\n",
        "        # Compute the accuracy for the current batch.\n",
        "        acc = (logits.argmax(dim=-1) == labels).float().mean()\n",
        "\n",
        "        # Record the loss and accuracy.\n",
        "        train_loss.append(loss.item())\n",
        "        train_accs.append(acc.item())\n",
        "\n",
        "    # The average loss and accuracy of the training set are the averages of the recorded values.\n",
        "    train_loss = sum(train_loss) / len(train_loss)\n",
        "    train_acc = sum(train_accs) / len(train_accs)\n",
        "    train_loss_epochs.append(train_loss)\n",
        "    train_acc_epochs.append(train_acc)\n",
        "\n",
        "    # ---------- Validation ----------\n",
        "    # Make sure the model is in eval mode so that some modules like dropout are disabled and work normally.\n",
        "    vit_model.eval()\n",
        "\n",
        "    # These are used to record information in validation.\n",
        "    valid_loss = []\n",
        "    valid_accs = []\n",
        "\n",
        "    # Iterate the validation set by batches.\n",
        "    for batch in tqdm(valid_loader):\n",
        "        # A batch consists of image data and corresponding labels.\n",
        "        imgs, labels = batch\n",
        "        imgs = imgs.to(device)\n",
        "        labels = labels.to(device)\n",
        "\n",
        "        # We don't need gradient in validation.\n",
        "        # Using torch.no_grad() accelerates the forward process.\n",
        "        with torch.no_grad():\n",
        "            logits = vit_model(imgs)\n",
        "\n",
        "        # We can still compute the loss (but not the gradient).\n",
        "        loss = criterion(logits, labels)\n",
        "\n",
        "        # Compute the accuracy for the current batch.\n",
        "        acc = (logits.argmax(dim=-1) == labels).float().mean()\n",
        "\n",
        "        # Record the loss and accuracy.\n",
        "        valid_loss.append(loss.item())\n",
        "        valid_accs.append(acc.item())\n",
        "\n",
        "    # The average loss and accuracy for the entire validation set are the averages of the recorded values.\n",
        "    valid_loss = sum(valid_loss) / len(valid_loss)\n",
        "    valid_acc = sum(valid_accs) / len(valid_accs)\n",
        "    valid_loss_epochs.append(valid_loss)\n",
        "    valid_acc_epochs.append(valid_acc)\n",
        "\n",
        "    # Save the best model\n",
        "    if valid_acc > best_valid_acc:\n",
        "        best_valid_acc = valid_acc\n",
        "        torch.save(vit_model.state_dict(), 'best_model_vit.pth')\n",
        "        early_stopping_counter = 0  # Reset the counter when there's improvement\n",
        "    else:\n",
        "        # No improvement in validation accuracy\n",
        "        early_stopping_counter += 1\n",
        "\n",
        "    if early_stopping_counter >= patience:\n",
        "        print(f\"Early stopping after {epoch + 1} epochs with no improvement.\")\n",
        "        break\n",
        "\n",
        "    # Print the information.\n",
        "    print(f\"[Epoch: {epoch + 1:03d}/{n_epochs:03d}] Train: loss={train_loss:.5f}, acc={train_acc:.5f} | Valid: loss={valid_loss:.5f}, acc={valid_acc:.5f}\")"
      ]
    },
    {
      "cell_type": "code",
      "execution_count": null,
      "metadata": {
        "id": "lkyAv-imyktA"
      },
      "outputs": [],
      "source": [
        "# Plotting the loss curves\n",
        "plt.figure()\n",
        "plt.plot(train_loss_epochs, label='Train Loss')\n",
        "plt.plot(valid_loss_epochs, label='Validation Loss')\n",
        "plt.xlabel('Epochs')\n",
        "plt.ylabel('Loss')\n",
        "plt.title('Train and Validation Loss')\n",
        "plt.legend()\n",
        "plt.show()\n",
        "\n",
        "# Plotting the accuracy curves\n",
        "plt.figure()\n",
        "plt.plot(train_acc_epochs, label='Train Accuracy')\n",
        "plt.plot(valid_acc_epochs, label='Validation Accuracy')\n",
        "plt.xlabel('Epochs')\n",
        "plt.ylabel('Accuracy')\n",
        "plt.title('Train and Validation Accuracy')\n",
        "plt.legend()\n",
        "plt.show()"
      ]
    },
    {
      "cell_type": "code",
      "execution_count": null,
      "metadata": {
        "id": "JbNVs7qfykvp"
      },
      "outputs": [],
      "source": [
        "# load best model weights\n",
        "\n",
        "vit_model.load_state_dict(torch.load('best_model.pth'))\n",
        "\n",
        "# Make sure the model is in eval mode.\n",
        "# Some modules like Dropout or BatchNorm affect if the model is in training mode.\n",
        "vit_model.eval()\n",
        "\n",
        "test_accs = []\n",
        "\n",
        "# Iterate the testing set by batches.\n",
        "for batch in tqdm(test_loader):\n",
        "    # A batch consists of image data and corresponding labels.\n",
        "    imgs, labels = batch\n",
        "    imgs = imgs.to(device)\n",
        "    labels = labels.to(device)\n",
        "\n",
        "    # We don't need gradient in test\n",
        "    # Using torch.no_grad() accelerates the forward process.\n",
        "    with torch.no_grad():\n",
        "        vit_logits = vit_model(imgs)\n",
        "\n",
        "        # Compute the loss\n",
        "        loss = criterion(vit_logits, labels)\n",
        "\n",
        "        # Compute the accuracy for current batch.\n",
        "        acc = (vit_logits.argmax(dim=-1) == labels)).float().mean()\n",
        "\n",
        "    # Record accuracy.\n",
        "    test_accs.append(acc)\n",
        "\n",
        "# The average accuracy for entire test set is the average of the recorded values.\n",
        "test_acc = sum(test_accs) / len(test_accs)\n",
        "print(f'Test accuracy {test_acc}')"
      ]
    },
    {
      "cell_type": "code",
      "source": [
        "#need to define resnext optimizer"
      ],
      "metadata": {
        "id": "MumhpGrVymBK"
      },
      "execution_count": null,
      "outputs": []
    },
    {
      "cell_type": "code",
      "source": [
        "#resnextaoptimizer"
      ],
      "metadata": {
        "id": "JCasKgjiymDt"
      },
      "execution_count": null,
      "outputs": []
    },
    {
      "cell_type": "code",
      "execution_count": null,
      "metadata": {
        "id": "PeKE_NVNnbDJ"
      },
      "outputs": [],
      "source": [
        "resnext_model.to(device)  # Move the model to the specified device\n",
        "# The number of training epochs.\n",
        "n_epochs = 30\n",
        "\n",
        "# These are used to record information\n",
        "best_valid_acc = 0\n",
        "train_loss_epochs = []\n",
        "train_acc_epochs = []\n",
        "valid_loss_epochs = []\n",
        "valid_acc_epochs = []\n",
        "\n",
        "for epoch in range(n_epochs):\n",
        "    resnext_model.train()\n",
        "    train_loss = []\n",
        "    train_accs = []\n",
        "    for batch in tqdm(train_loader):\n",
        "        resnextaoptimizer.zero_grad()\n",
        "        imgs, labels = batch\n",
        "        imgs = imgs.to(device)\n",
        "        labels = labels.to(device)\n",
        "        logits = resnext_model(imgs)\n",
        "        loss = criterion(logits, labels)\n",
        "        loss.backward()\n",
        "        resnextaoptimizer.step()\n",
        "        acc = (logits.argmax(dim=-1) == labels).float().mean()\n",
        "        train_loss.append(loss.item())\n",
        "        train_accs.append(acc.item())\n",
        "    train_loss = sum(train_loss) / len(train_loss)\n",
        "    train_acc = sum(train_accs) / len(train_accs)\n",
        "\n",
        "    # Validation loop\n",
        "    resnext_model.eval()\n",
        "    valid_loss = []\n",
        "    valid_accs = []\n",
        "    for batch in tqdm(valid_loader):\n",
        "        imgs, labels = batch\n",
        "        imgs = imgs.to(device)\n",
        "        labels = labels.to(device)\n",
        "        with torch.no_grad():\n",
        "            logits = resnext_model(imgs)\n",
        "        loss = criterion(logits, labels)\n",
        "        acc = (logits.argmax(dim=-1) == labels).float().mean()\n",
        "        valid_loss.append(loss.item())\n",
        "        valid_accs.append(acc.item())\n",
        "    valid_loss = sum(valid_loss) / len(valid_loss)\n",
        "    valid_acc = sum(valid_accs) / len(valid_accs)\n",
        "\n",
        "    # Save the best model\n",
        "    if valid_acc > best_valid_acc:\n",
        "        best_valid_acc = valid_acc\n",
        "        torch.save(resnext_model.state_dict(), 'best_model_resnext.pth')\n",
        "\n",
        "    # Print training information\n",
        "    print(f\"[Epoch: {epoch + 1}/{n_epochs}] Train: loss={train_loss:.5f}, acc={train_acc:.5f} | Valid: loss={valid_loss:.5f}, acc={valid_acc:.5f}\""
      ]
    },
    {
      "cell_type": "code",
      "execution_count": null,
      "metadata": {
        "id": "e2WSjg8GymrY"
      },
      "outputs": [],
      "source": [
        "# Plotting the loss curves\n",
        "plt.figure()\n",
        "plt.plot(train_loss_epochs, label='Train Loss')\n",
        "plt.plot(valid_loss_epochs, label='Validation Loss')\n",
        "plt.xlabel('Epochs')\n",
        "plt.ylabel('Loss')\n",
        "plt.title('Train and Validation Loss')\n",
        "plt.legend()\n",
        "plt.show()\n",
        "\n",
        "# Plotting the accuracy curves\n",
        "plt.figure()\n",
        "plt.plot(train_acc_epochs, label='Train Accuracy')\n",
        "plt.plot(valid_acc_epochs, label='Validation Accuracy')\n",
        "plt.xlabel('Epochs')\n",
        "plt.ylabel('Accuracy')\n",
        "plt.title('Train and Validation Accuracy')\n",
        "plt.legend()\n",
        "plt.show()"
      ]
    },
    {
      "cell_type": "code",
      "source": [
        "# load best model weights\n",
        "\n",
        "resnext_model.load_state_dict(torch.load('best_model.pth'))\n",
        "\n",
        "# Make sure the model is in eval mode.\n",
        "# Some modules like Dropout or BatchNorm affect if the model is in training mode.\n",
        "resnext_model.eval()\n",
        "\n",
        "test_accs = []\n",
        "\n",
        "# Iterate the testing set by batches.\n",
        "for batch in tqdm(test_loader):\n",
        "    # A batch consists of image data and corresponding labels.\n",
        "    imgs, labels = batch\n",
        "    imgs = imgs.to(device)\n",
        "    labels = labels.to(device)\n",
        "\n",
        "    # We don't need gradient in test\n",
        "    # Using torch.no_grad() accelerates the forward process.\n",
        "    with torch.no_grad():\n",
        "        logits = resnext_model(imgs)\n",
        "\n",
        "        # Compute the loss\n",
        "        loss = criterion(logits, labels)\n",
        "\n",
        "        # Compute the accuracy for current batch.\n",
        "        acc = (logits.argmax(dim=-1) == labels).float().mean()\n",
        "\n",
        "    # Record accuracy.\n",
        "    test_accs.append(acc)\n",
        "\n",
        "# The average accuracy for entire test set is the average of the recorded values.\n",
        "test_acc = sum(test_accs) / len(test_accs)\n",
        "print(f'Test accuracy {test_acc}')"
      ],
      "metadata": {
        "id": "ZGzV8Q2WvNpU"
      },
      "execution_count": null,
      "outputs": []
    },
    {
      "cell_type": "code",
      "source": [
        "densenetaoptimizer"
      ],
      "metadata": {
        "id": "Y5BAaHX90XOE"
      },
      "execution_count": null,
      "outputs": []
    },
    {
      "cell_type": "code",
      "execution_count": null,
      "metadata": {
        "id": "61MLaIurAlsQ"
      },
      "outputs": [],
      "source": [
        "# Move the DenseNet model to the specified device\n",
        "densenet_model.to(device)\n",
        "\n",
        "# The number of training epochs\n",
        "n_epochs = 30\n",
        "\n",
        "# These are used to record information\n",
        "best_valid_acc = 0\n",
        "train_loss_epochs = []\n",
        "train_acc_epochs = []\n",
        "valid_loss_epochs = []\n",
        "valid_acc_epochs = []\n",
        "\n",
        "for epoch in range(n_epochs):\n",
        "    densenet_model.train()\n",
        "    train_loss = []\n",
        "    train_accs = []\n",
        "\n",
        "    # Training loop\n",
        "    for batch in tqdm(train_loader):\n",
        "        densenetaoptimizer.zero_grad()\n",
        "        imgs, labels = batch\n",
        "        imgs = imgs.to(device)\n",
        "        labels = labels.to(device)\n",
        "        logits = densenet_model(imgs)\n",
        "        loss = criterion(logits, labels)\n",
        "        loss.backward()\n",
        "        densenetaoptimizer.step()\n",
        "        acc = (logits.argmax(dim=-1) == labels).float().mean()\n",
        "        train_loss.append(loss.item())\n",
        "        train_accs.append(acc.item())\n",
        "\n",
        "    # Compute average training loss and accuracy\n",
        "    train_loss = sum(train_loss) / len(train_loss)\n",
        "    train_acc = sum(train_accs) / len(train_accs)\n",
        "\n",
        "    # Validation loop\n",
        "    densenet_model.eval()\n",
        "    valid_loss = []\n",
        "    valid_accs = []\n",
        "    for batch in tqdm(valid_loader):\n",
        "        imgs, labels = batch\n",
        "        imgs = imgs.to(device)\n",
        "        labels = labels.to(device)\n",
        "        with torch.no_grad():\n",
        "            logits = densenet_model(imgs)\n",
        "        loss = criterion(logits, labels)\n",
        "        acc = (logits.argmax(dim=-1) == labels).float().mean()\n",
        "        valid_loss.append(loss.item())\n",
        "        valid_accs.append(acc.item())\n",
        "\n",
        "    # Compute average validation loss and accuracy\n",
        "    valid_loss = sum(valid_loss) / len(valid_loss)\n",
        "    valid_acc = sum(valid_accs) / len(valid_accs)\n",
        "\n",
        "    # Save the best model\n",
        "    if valid_acc > best_valid_acc:\n",
        "        best_valid_acc = valid_acc\n",
        "        torch.save(densenet_model.state_dict(), 'best_model_densenet.pth')\n",
        "\n",
        "    # Print training information\n",
        "    print(f\"[Epoch: {epoch + 1}/{n_epochs}] Train: loss={train_loss:.5f}, acc={train_acc:.5f} | Valid: loss={valid_loss:.5f}, acc={valid_acc:.5f}\")"
      ]
    },
    {
      "cell_type": "code",
      "source": [
        "# Plotting the loss curves\n",
        "plt.figure()\n",
        "plt.plot(train_loss_epochs, label='Train Loss')\n",
        "plt.plot(valid_loss_epochs, label='Validation Loss')\n",
        "plt.xlabel('Epochs')\n",
        "plt.ylabel('Loss')\n",
        "plt.title('Train and Validation Loss')\n",
        "plt.legend()\n",
        "plt.show()\n",
        "\n",
        "# Plotting the accuracy curves\n",
        "plt.figure()\n",
        "plt.plot(train_acc_epochs, label='Train Accuracy')\n",
        "plt.plot(valid_acc_epochs, label='Validation Accuracy')\n",
        "plt.xlabel('Epochs')\n",
        "plt.ylabel('Accuracy')\n",
        "plt.title('Train and Validation Accuracy')\n",
        "plt.legend()\n",
        "plt.show()"
      ],
      "metadata": {
        "id": "vhhzaKsg0nL6"
      },
      "execution_count": null,
      "outputs": []
    },
    {
      "cell_type": "code",
      "source": [
        "# load best model weights\n",
        "\n",
        "densenet_model.load_state_dict(torch.load('best_model.pth'))\n",
        "\n",
        "# Make sure the model is in eval mode.\n",
        "# Some modules like Dropout or BatchNorm affect if the model is in training mode.\n",
        "densenet_model.eval()\n",
        "\n",
        "test_accs = []\n",
        "\n",
        "# Iterate the testing set by batches.\n",
        "for batch in tqdm(test_loader):\n",
        "    # A batch consists of image data and corresponding labels.\n",
        "    imgs, labels = batch\n",
        "    imgs = imgs.to(device)\n",
        "    labels = labels.to(device)\n",
        "\n",
        "    # We don't need gradient in test\n",
        "    # Using torch.no_grad() accelerates the forward process.\n",
        "    with torch.no_grad():\n",
        "        logits = densenet_model(imgs)\n",
        "\n",
        "        # Compute the loss\n",
        "        loss = criterion(logits, labels)\n",
        "\n",
        "        # Compute the accuracy for current batch.\n",
        "        acc = (logits.argmax(dim=-1) == labels).float().mean()\n",
        "\n",
        "    # Record accuracy.\n",
        "    test_accs.append(acc)\n",
        "\n",
        "# The average accuracy for entire test set is the average of the recorded values.\n",
        "test_acc = sum(test_accs) / len(test_accs)\n",
        "print(f'Test accuracy {test_acc}')"
      ],
      "metadata": {
        "id": "JAYX0jqD0nOn"
      },
      "execution_count": null,
      "outputs": []
    },
    {
      "cell_type": "code",
      "source": [],
      "metadata": {
        "id": "ZRQV7LXu0nRE"
      },
      "execution_count": null,
      "outputs": []
    },
    {
      "cell_type": "code",
      "source": [],
      "metadata": {
        "id": "jVbDYocs0nTx"
      },
      "execution_count": null,
      "outputs": []
    },
    {
      "cell_type": "code",
      "source": [],
      "metadata": {
        "id": "XYXytLhH0nWX"
      },
      "execution_count": null,
      "outputs": []
    },
    {
      "cell_type": "code",
      "execution_count": null,
      "metadata": {
        "id": "PiwCvV0eAluu"
      },
      "outputs": [],
      "source": [
        "hrnet_model.to(device)  # Move the model to the specified device\n",
        "\n",
        "# The number of training epochs.\n",
        "n_epochs = 30\n",
        "\n",
        "# These are used to record information\n",
        "best_valid_acc = 0\n",
        "train_loss_epochs = []\n",
        "train_acc_epochs = []\n",
        "valid_loss_epochs = []\n",
        "valid_acc_epochs = []\n",
        "\n",
        "for epoch in range(n_epochs):\n",
        "\n",
        "    # ---------- Training ----------\n",
        "    # Make sure the model is in train mode before training.\n",
        "    hrnet_model.train()\n",
        "\n",
        "    # These are used to record information in training.\n",
        "    train_loss = []\n",
        "    train_accs = []\n",
        "\n",
        "    # Iterate the training set by batches.\n",
        "    for batch in tqdm(train_loader):\n",
        "        # Gradients stored in the parameters in the previous step should be cleared out first.\n",
        "        hrnet_optimizer.zero_grad()\n",
        "\n",
        "        # A batch consists of image data and corresponding labels.\n",
        "        imgs, labels = batch\n",
        "        imgs = imgs.to(device)\n",
        "        labels = labels.to(device)\n",
        "\n",
        "        # Forward the data. (Make sure data and model are on the same device.)\n",
        "        logits = hrnet_model(imgs)\n",
        "\n",
        "        # Calculate the cross-entropy loss.\n",
        "        # We don't need to apply softmax before computing cross-entropy as it is done automatically.\n",
        "        loss = criterion(logits, labels)\n",
        "\n",
        "        # Compute the gradients for parameters.\n",
        "        loss.backward()\n",
        "\n",
        "        # Update the parameters with computed gradients.\n",
        "        hrnet_optimizer.step()\n",
        "\n",
        "        # Compute the accuracy for the current batch.\n",
        "        acc = (logits.argmax(dim=-1) == labels).float().mean()\n",
        "\n",
        "        # Record the loss and accuracy.\n",
        "        train_loss.append(loss.item())\n",
        "        train_accs.append(acc.item())\n",
        "\n",
        "    # The average loss and accuracy of the training set are the averages of the recorded values.\n",
        "    train_loss = sum(train_loss) / len(train_loss)\n",
        "    train_acc = sum(train_accs) / len(train_accs)\n",
        "    train_loss_epochs.append(train_loss)\n",
        "    train_acc_epochs.append(train_acc)\n",
        "\n",
        "    # ---------- Validation ----------\n",
        "    # Make sure the model is in eval mode so that some modules like dropout are disabled and work normally.\n",
        "    hrnet_model.eval()\n",
        "\n",
        "    # These are used to record information in validation.\n",
        "    valid_loss = []\n",
        "    valid_accs = []\n",
        "\n",
        "    # Iterate the validation set by batches.\n",
        "    for batch in tqdm(valid_loader):\n",
        "        # A batch consists of image data and corresponding labels.\n",
        "        imgs, labels = batch\n",
        "        imgs = imgs.to(device)\n",
        "        labels = labels.to(device)\n",
        "\n",
        "        # We don't need gradient in validation.\n",
        "        # Using torch.no_grad() accelerates the forward process.\n",
        "        with torch.no_grad():\n",
        "            logits = hrnet_model(imgs)\n",
        "\n",
        "        # We can still compute the loss (but not the gradient).\n",
        "        loss = criterion(logits, labels)\n",
        "\n",
        "        # Compute the accuracy for the current batch.\n",
        "        acc = (logits.argmax(dim=-1) == labels).float().mean()\n",
        "\n",
        "        # Record the loss and accuracy.\n",
        "        valid_loss.append(loss.item())\n",
        "        valid_accs.append(acc.item())\n",
        "\n",
        "    # The average loss and accuracy for the entire validation set are the averages of the recorded values.\n",
        "    valid_loss = sum(valid_loss) / len(valid_loss)\n",
        "    valid_acc = sum(valid_accs) / len(valid_accs)\n",
        "    valid_loss_epochs.append(valid_loss)\n",
        "    valid_acc_epochs.append(valid_acc)\n",
        "\n",
        "    # Save the best model\n",
        "    if valid_acc > best_valid_acc:\n",
        "        best_valid_acc = valid_acc\n",
        "        torch.save(hrnet_model.state_dict(), 'best_model_hrnet.pth')\n",
        "\n",
        "    # Print the information.\n",
        "    print(f\"[Epoch: {epoch + 1:03d}/{n_epochs:03d}] Train: loss={train_loss:.5f}, acc={train_acc:.5f} | Valid: loss={valid_loss:.5f}, acc={valid_acc:.5f}\")"
      ]
    },
    {
      "cell_type": "code",
      "execution_count": null,
      "metadata": {
        "id": "x00dV7I4lusI"
      },
      "outputs": [],
      "source": [
        "# Plotting the loss curves\n",
        "plt.figure()\n",
        "plt.plot(train_loss_epochs, label='Train Loss')\n",
        "plt.plot(valid_loss_epochs, label='Validation Loss')\n",
        "plt.xlabel('Epochs')\n",
        "plt.ylabel('Loss')\n",
        "plt.title('Train and Validation Loss')\n",
        "plt.legend()\n",
        "plt.show()\n",
        "\n",
        "# Plotting the accuracy curves\n",
        "plt.figure()\n",
        "plt.plot(train_acc_epochs, label='Train Accuracy')\n",
        "plt.plot(valid_acc_epochs, label='Validation Accuracy')\n",
        "plt.xlabel('Epochs')\n",
        "plt.ylabel('Accuracy')\n",
        "plt.title('Train and Validation Accuracy')\n",
        "plt.legend()\n",
        "plt.show()"
      ]
    },
    {
      "cell_type": "code",
      "execution_count": null,
      "metadata": {
        "id": "domxkto1Alxv"
      },
      "outputs": [],
      "source": [
        "# load best model weights\n",
        "\n",
        "hrnet_model.load_state_dict(torch.load('best_model.pth'))\n",
        "\n",
        "# Make sure the model is in eval mode.\n",
        "# Some modules like Dropout or BatchNorm affect if the model is in training mode.\n",
        "hrnet_model.eval()\n",
        "\n",
        "test_accs = []\n",
        "\n",
        "# Iterate the testing set by batches.\n",
        "for batch in tqdm(test_loader):\n",
        "    # A batch consists of image data and corresponding labels.\n",
        "    imgs, labels = batch\n",
        "    imgs = imgs.to(device)\n",
        "    labels = labels.to(device)\n",
        "\n",
        "    # We don't need gradient in test\n",
        "    # Using torch.no_grad() accelerates the forward process.\n",
        "    with torch.no_grad():\n",
        "        logits = hrnet_model(imgs)\n",
        "\n",
        "        # Compute the loss\n",
        "        loss = criterion(logits, labels)\n",
        "\n",
        "        # Compute the accuracy for current batch.\n",
        "        acc = (logits.argmax(dim=-1) == labels).float().mean()\n",
        "\n",
        "    # Record accuracy.\n",
        "    test_accs.append(acc)\n",
        "\n",
        "# The average accuracy for entire test set is the average of the recorded values.\n",
        "test_acc = sum(test_accs) / len(test_accs)\n",
        "print(f'Test accuracy {test_acc}')"
      ]
    },
    {
      "cell_type": "code",
      "execution_count": null,
      "metadata": {
        "id": "kSj90ds_fPSN"
      },
      "outputs": [],
      "source": [
        "\n"
      ]
    }
  ],
  "metadata": {
    "accelerator": "GPU",
    "colab": {
      "gpuType": "T4",
      "machine_shape": "hm",
      "provenance": []
    },
    "kernelspec": {
      "display_name": "Python 3",
      "name": "python3"
    },
    "language_info": {
      "name": "python"
    },
    "widgets": {
      "application/vnd.jupyter.widget-state+json": {
        "7d11bc3368704e3db473ab6e458fd069": {
          "model_module": "@jupyter-widgets/controls",
          "model_name": "HBoxModel",
          "model_module_version": "1.5.0",
          "state": {
            "_dom_classes": [],
            "_model_module": "@jupyter-widgets/controls",
            "_model_module_version": "1.5.0",
            "_model_name": "HBoxModel",
            "_view_count": null,
            "_view_module": "@jupyter-widgets/controls",
            "_view_module_version": "1.5.0",
            "_view_name": "HBoxView",
            "box_style": "",
            "children": [
              "IPY_MODEL_40afe08a04764ceea3135c7721b85fd1",
              "IPY_MODEL_3b7ef1f2b3884c56a77c33f2952cb4cf",
              "IPY_MODEL_0ad0ce56982c42d6af16c96bf16e8dbc"
            ],
            "layout": "IPY_MODEL_466894fc52984beeaf1ed643cba502ab"
          }
        },
        "40afe08a04764ceea3135c7721b85fd1": {
          "model_module": "@jupyter-widgets/controls",
          "model_name": "HTMLModel",
          "model_module_version": "1.5.0",
          "state": {
            "_dom_classes": [],
            "_model_module": "@jupyter-widgets/controls",
            "_model_module_version": "1.5.0",
            "_model_name": "HTMLModel",
            "_view_count": null,
            "_view_module": "@jupyter-widgets/controls",
            "_view_module_version": "1.5.0",
            "_view_name": "HTMLView",
            "description": "",
            "description_tooltip": null,
            "layout": "IPY_MODEL_9893245f5f874a2b92b9d0b01757f32a",
            "placeholder": "​",
            "style": "IPY_MODEL_b9e115a1c0e841ec9fc0e0e33d576bc9",
            "value": "model.safetensors: 100%"
          }
        },
        "3b7ef1f2b3884c56a77c33f2952cb4cf": {
          "model_module": "@jupyter-widgets/controls",
          "model_name": "FloatProgressModel",
          "model_module_version": "1.5.0",
          "state": {
            "_dom_classes": [],
            "_model_module": "@jupyter-widgets/controls",
            "_model_module_version": "1.5.0",
            "_model_name": "FloatProgressModel",
            "_view_count": null,
            "_view_module": "@jupyter-widgets/controls",
            "_view_module_version": "1.5.0",
            "_view_name": "ProgressView",
            "bar_style": "success",
            "description": "",
            "description_tooltip": null,
            "layout": "IPY_MODEL_dacba70556fa4816843525885d76c2ba",
            "max": 346284714,
            "min": 0,
            "orientation": "horizontal",
            "style": "IPY_MODEL_7ebb0b6214e540a9af10b0759e90c9a1",
            "value": 346284714
          }
        },
        "0ad0ce56982c42d6af16c96bf16e8dbc": {
          "model_module": "@jupyter-widgets/controls",
          "model_name": "HTMLModel",
          "model_module_version": "1.5.0",
          "state": {
            "_dom_classes": [],
            "_model_module": "@jupyter-widgets/controls",
            "_model_module_version": "1.5.0",
            "_model_name": "HTMLModel",
            "_view_count": null,
            "_view_module": "@jupyter-widgets/controls",
            "_view_module_version": "1.5.0",
            "_view_name": "HTMLView",
            "description": "",
            "description_tooltip": null,
            "layout": "IPY_MODEL_726cdb9ec6d4425f95a136100b0e02ac",
            "placeholder": "​",
            "style": "IPY_MODEL_1b2a8ba1a745491492b4dcd84a35195e",
            "value": " 346M/346M [00:02&lt;00:00, 150MB/s]"
          }
        },
        "466894fc52984beeaf1ed643cba502ab": {
          "model_module": "@jupyter-widgets/base",
          "model_name": "LayoutModel",
          "model_module_version": "1.2.0",
          "state": {
            "_model_module": "@jupyter-widgets/base",
            "_model_module_version": "1.2.0",
            "_model_name": "LayoutModel",
            "_view_count": null,
            "_view_module": "@jupyter-widgets/base",
            "_view_module_version": "1.2.0",
            "_view_name": "LayoutView",
            "align_content": null,
            "align_items": null,
            "align_self": null,
            "border": null,
            "bottom": null,
            "display": null,
            "flex": null,
            "flex_flow": null,
            "grid_area": null,
            "grid_auto_columns": null,
            "grid_auto_flow": null,
            "grid_auto_rows": null,
            "grid_column": null,
            "grid_gap": null,
            "grid_row": null,
            "grid_template_areas": null,
            "grid_template_columns": null,
            "grid_template_rows": null,
            "height": null,
            "justify_content": null,
            "justify_items": null,
            "left": null,
            "margin": null,
            "max_height": null,
            "max_width": null,
            "min_height": null,
            "min_width": null,
            "object_fit": null,
            "object_position": null,
            "order": null,
            "overflow": null,
            "overflow_x": null,
            "overflow_y": null,
            "padding": null,
            "right": null,
            "top": null,
            "visibility": null,
            "width": null
          }
        },
        "9893245f5f874a2b92b9d0b01757f32a": {
          "model_module": "@jupyter-widgets/base",
          "model_name": "LayoutModel",
          "model_module_version": "1.2.0",
          "state": {
            "_model_module": "@jupyter-widgets/base",
            "_model_module_version": "1.2.0",
            "_model_name": "LayoutModel",
            "_view_count": null,
            "_view_module": "@jupyter-widgets/base",
            "_view_module_version": "1.2.0",
            "_view_name": "LayoutView",
            "align_content": null,
            "align_items": null,
            "align_self": null,
            "border": null,
            "bottom": null,
            "display": null,
            "flex": null,
            "flex_flow": null,
            "grid_area": null,
            "grid_auto_columns": null,
            "grid_auto_flow": null,
            "grid_auto_rows": null,
            "grid_column": null,
            "grid_gap": null,
            "grid_row": null,
            "grid_template_areas": null,
            "grid_template_columns": null,
            "grid_template_rows": null,
            "height": null,
            "justify_content": null,
            "justify_items": null,
            "left": null,
            "margin": null,
            "max_height": null,
            "max_width": null,
            "min_height": null,
            "min_width": null,
            "object_fit": null,
            "object_position": null,
            "order": null,
            "overflow": null,
            "overflow_x": null,
            "overflow_y": null,
            "padding": null,
            "right": null,
            "top": null,
            "visibility": null,
            "width": null
          }
        },
        "b9e115a1c0e841ec9fc0e0e33d576bc9": {
          "model_module": "@jupyter-widgets/controls",
          "model_name": "DescriptionStyleModel",
          "model_module_version": "1.5.0",
          "state": {
            "_model_module": "@jupyter-widgets/controls",
            "_model_module_version": "1.5.0",
            "_model_name": "DescriptionStyleModel",
            "_view_count": null,
            "_view_module": "@jupyter-widgets/base",
            "_view_module_version": "1.2.0",
            "_view_name": "StyleView",
            "description_width": ""
          }
        },
        "dacba70556fa4816843525885d76c2ba": {
          "model_module": "@jupyter-widgets/base",
          "model_name": "LayoutModel",
          "model_module_version": "1.2.0",
          "state": {
            "_model_module": "@jupyter-widgets/base",
            "_model_module_version": "1.2.0",
            "_model_name": "LayoutModel",
            "_view_count": null,
            "_view_module": "@jupyter-widgets/base",
            "_view_module_version": "1.2.0",
            "_view_name": "LayoutView",
            "align_content": null,
            "align_items": null,
            "align_self": null,
            "border": null,
            "bottom": null,
            "display": null,
            "flex": null,
            "flex_flow": null,
            "grid_area": null,
            "grid_auto_columns": null,
            "grid_auto_flow": null,
            "grid_auto_rows": null,
            "grid_column": null,
            "grid_gap": null,
            "grid_row": null,
            "grid_template_areas": null,
            "grid_template_columns": null,
            "grid_template_rows": null,
            "height": null,
            "justify_content": null,
            "justify_items": null,
            "left": null,
            "margin": null,
            "max_height": null,
            "max_width": null,
            "min_height": null,
            "min_width": null,
            "object_fit": null,
            "object_position": null,
            "order": null,
            "overflow": null,
            "overflow_x": null,
            "overflow_y": null,
            "padding": null,
            "right": null,
            "top": null,
            "visibility": null,
            "width": null
          }
        },
        "7ebb0b6214e540a9af10b0759e90c9a1": {
          "model_module": "@jupyter-widgets/controls",
          "model_name": "ProgressStyleModel",
          "model_module_version": "1.5.0",
          "state": {
            "_model_module": "@jupyter-widgets/controls",
            "_model_module_version": "1.5.0",
            "_model_name": "ProgressStyleModel",
            "_view_count": null,
            "_view_module": "@jupyter-widgets/base",
            "_view_module_version": "1.2.0",
            "_view_name": "StyleView",
            "bar_color": null,
            "description_width": ""
          }
        },
        "726cdb9ec6d4425f95a136100b0e02ac": {
          "model_module": "@jupyter-widgets/base",
          "model_name": "LayoutModel",
          "model_module_version": "1.2.0",
          "state": {
            "_model_module": "@jupyter-widgets/base",
            "_model_module_version": "1.2.0",
            "_model_name": "LayoutModel",
            "_view_count": null,
            "_view_module": "@jupyter-widgets/base",
            "_view_module_version": "1.2.0",
            "_view_name": "LayoutView",
            "align_content": null,
            "align_items": null,
            "align_self": null,
            "border": null,
            "bottom": null,
            "display": null,
            "flex": null,
            "flex_flow": null,
            "grid_area": null,
            "grid_auto_columns": null,
            "grid_auto_flow": null,
            "grid_auto_rows": null,
            "grid_column": null,
            "grid_gap": null,
            "grid_row": null,
            "grid_template_areas": null,
            "grid_template_columns": null,
            "grid_template_rows": null,
            "height": null,
            "justify_content": null,
            "justify_items": null,
            "left": null,
            "margin": null,
            "max_height": null,
            "max_width": null,
            "min_height": null,
            "min_width": null,
            "object_fit": null,
            "object_position": null,
            "order": null,
            "overflow": null,
            "overflow_x": null,
            "overflow_y": null,
            "padding": null,
            "right": null,
            "top": null,
            "visibility": null,
            "width": null
          }
        },
        "1b2a8ba1a745491492b4dcd84a35195e": {
          "model_module": "@jupyter-widgets/controls",
          "model_name": "DescriptionStyleModel",
          "model_module_version": "1.5.0",
          "state": {
            "_model_module": "@jupyter-widgets/controls",
            "_model_module_version": "1.5.0",
            "_model_name": "DescriptionStyleModel",
            "_view_count": null,
            "_view_module": "@jupyter-widgets/base",
            "_view_module_version": "1.2.0",
            "_view_name": "StyleView",
            "description_width": ""
          }
        },
        "e9dac9f0d1064838b020b2632750222e": {
          "model_module": "@jupyter-widgets/controls",
          "model_name": "HBoxModel",
          "model_module_version": "1.5.0",
          "state": {
            "_dom_classes": [],
            "_model_module": "@jupyter-widgets/controls",
            "_model_module_version": "1.5.0",
            "_model_name": "HBoxModel",
            "_view_count": null,
            "_view_module": "@jupyter-widgets/controls",
            "_view_module_version": "1.5.0",
            "_view_name": "HBoxView",
            "box_style": "",
            "children": [
              "IPY_MODEL_fd8129b635694a4a834fdb90824765e8",
              "IPY_MODEL_6e5af3e047e14b049e858999b3b831fd",
              "IPY_MODEL_24184c335a4c4e9baea5bf350183ea8a"
            ],
            "layout": "IPY_MODEL_b8ffab524e9f40ce97383ce27ac47adb"
          }
        },
        "fd8129b635694a4a834fdb90824765e8": {
          "model_module": "@jupyter-widgets/controls",
          "model_name": "HTMLModel",
          "model_module_version": "1.5.0",
          "state": {
            "_dom_classes": [],
            "_model_module": "@jupyter-widgets/controls",
            "_model_module_version": "1.5.0",
            "_model_name": "HTMLModel",
            "_view_count": null,
            "_view_module": "@jupyter-widgets/controls",
            "_view_module_version": "1.5.0",
            "_view_name": "HTMLView",
            "description": "",
            "description_tooltip": null,
            "layout": "IPY_MODEL_f74e10076d9f4a32812d84c752a17cd3",
            "placeholder": "​",
            "style": "IPY_MODEL_77aaab099380466691899d931e976513",
            "value": "model.safetensors: 100%"
          }
        },
        "6e5af3e047e14b049e858999b3b831fd": {
          "model_module": "@jupyter-widgets/controls",
          "model_name": "FloatProgressModel",
          "model_module_version": "1.5.0",
          "state": {
            "_dom_classes": [],
            "_model_module": "@jupyter-widgets/controls",
            "_model_module_version": "1.5.0",
            "_model_name": "FloatProgressModel",
            "_view_count": null,
            "_view_module": "@jupyter-widgets/controls",
            "_view_module_version": "1.5.0",
            "_view_name": "ProgressView",
            "bar_style": "success",
            "description": "",
            "description_tooltip": null,
            "layout": "IPY_MODEL_49fc20548fe44940a01f3766a8c67bf9",
            "max": 88216496,
            "min": 0,
            "orientation": "horizontal",
            "style": "IPY_MODEL_75c2f485246d48bc84aa40adb6f7135b",
            "value": 88216496
          }
        },
        "24184c335a4c4e9baea5bf350183ea8a": {
          "model_module": "@jupyter-widgets/controls",
          "model_name": "HTMLModel",
          "model_module_version": "1.5.0",
          "state": {
            "_dom_classes": [],
            "_model_module": "@jupyter-widgets/controls",
            "_model_module_version": "1.5.0",
            "_model_name": "HTMLModel",
            "_view_count": null,
            "_view_module": "@jupyter-widgets/controls",
            "_view_module_version": "1.5.0",
            "_view_name": "HTMLView",
            "description": "",
            "description_tooltip": null,
            "layout": "IPY_MODEL_816d047ffade43e5a068a40465f2b92f",
            "placeholder": "​",
            "style": "IPY_MODEL_8cfad82b65d94d83a03786e8e3e23911",
            "value": " 88.2M/88.2M [00:00&lt;00:00, 116MB/s]"
          }
        },
        "b8ffab524e9f40ce97383ce27ac47adb": {
          "model_module": "@jupyter-widgets/base",
          "model_name": "LayoutModel",
          "model_module_version": "1.2.0",
          "state": {
            "_model_module": "@jupyter-widgets/base",
            "_model_module_version": "1.2.0",
            "_model_name": "LayoutModel",
            "_view_count": null,
            "_view_module": "@jupyter-widgets/base",
            "_view_module_version": "1.2.0",
            "_view_name": "LayoutView",
            "align_content": null,
            "align_items": null,
            "align_self": null,
            "border": null,
            "bottom": null,
            "display": null,
            "flex": null,
            "flex_flow": null,
            "grid_area": null,
            "grid_auto_columns": null,
            "grid_auto_flow": null,
            "grid_auto_rows": null,
            "grid_column": null,
            "grid_gap": null,
            "grid_row": null,
            "grid_template_areas": null,
            "grid_template_columns": null,
            "grid_template_rows": null,
            "height": null,
            "justify_content": null,
            "justify_items": null,
            "left": null,
            "margin": null,
            "max_height": null,
            "max_width": null,
            "min_height": null,
            "min_width": null,
            "object_fit": null,
            "object_position": null,
            "order": null,
            "overflow": null,
            "overflow_x": null,
            "overflow_y": null,
            "padding": null,
            "right": null,
            "top": null,
            "visibility": null,
            "width": null
          }
        },
        "f74e10076d9f4a32812d84c752a17cd3": {
          "model_module": "@jupyter-widgets/base",
          "model_name": "LayoutModel",
          "model_module_version": "1.2.0",
          "state": {
            "_model_module": "@jupyter-widgets/base",
            "_model_module_version": "1.2.0",
            "_model_name": "LayoutModel",
            "_view_count": null,
            "_view_module": "@jupyter-widgets/base",
            "_view_module_version": "1.2.0",
            "_view_name": "LayoutView",
            "align_content": null,
            "align_items": null,
            "align_self": null,
            "border": null,
            "bottom": null,
            "display": null,
            "flex": null,
            "flex_flow": null,
            "grid_area": null,
            "grid_auto_columns": null,
            "grid_auto_flow": null,
            "grid_auto_rows": null,
            "grid_column": null,
            "grid_gap": null,
            "grid_row": null,
            "grid_template_areas": null,
            "grid_template_columns": null,
            "grid_template_rows": null,
            "height": null,
            "justify_content": null,
            "justify_items": null,
            "left": null,
            "margin": null,
            "max_height": null,
            "max_width": null,
            "min_height": null,
            "min_width": null,
            "object_fit": null,
            "object_position": null,
            "order": null,
            "overflow": null,
            "overflow_x": null,
            "overflow_y": null,
            "padding": null,
            "right": null,
            "top": null,
            "visibility": null,
            "width": null
          }
        },
        "77aaab099380466691899d931e976513": {
          "model_module": "@jupyter-widgets/controls",
          "model_name": "DescriptionStyleModel",
          "model_module_version": "1.5.0",
          "state": {
            "_model_module": "@jupyter-widgets/controls",
            "_model_module_version": "1.5.0",
            "_model_name": "DescriptionStyleModel",
            "_view_count": null,
            "_view_module": "@jupyter-widgets/base",
            "_view_module_version": "1.2.0",
            "_view_name": "StyleView",
            "description_width": ""
          }
        },
        "49fc20548fe44940a01f3766a8c67bf9": {
          "model_module": "@jupyter-widgets/base",
          "model_name": "LayoutModel",
          "model_module_version": "1.2.0",
          "state": {
            "_model_module": "@jupyter-widgets/base",
            "_model_module_version": "1.2.0",
            "_model_name": "LayoutModel",
            "_view_count": null,
            "_view_module": "@jupyter-widgets/base",
            "_view_module_version": "1.2.0",
            "_view_name": "LayoutView",
            "align_content": null,
            "align_items": null,
            "align_self": null,
            "border": null,
            "bottom": null,
            "display": null,
            "flex": null,
            "flex_flow": null,
            "grid_area": null,
            "grid_auto_columns": null,
            "grid_auto_flow": null,
            "grid_auto_rows": null,
            "grid_column": null,
            "grid_gap": null,
            "grid_row": null,
            "grid_template_areas": null,
            "grid_template_columns": null,
            "grid_template_rows": null,
            "height": null,
            "justify_content": null,
            "justify_items": null,
            "left": null,
            "margin": null,
            "max_height": null,
            "max_width": null,
            "min_height": null,
            "min_width": null,
            "object_fit": null,
            "object_position": null,
            "order": null,
            "overflow": null,
            "overflow_x": null,
            "overflow_y": null,
            "padding": null,
            "right": null,
            "top": null,
            "visibility": null,
            "width": null
          }
        },
        "75c2f485246d48bc84aa40adb6f7135b": {
          "model_module": "@jupyter-widgets/controls",
          "model_name": "ProgressStyleModel",
          "model_module_version": "1.5.0",
          "state": {
            "_model_module": "@jupyter-widgets/controls",
            "_model_module_version": "1.5.0",
            "_model_name": "ProgressStyleModel",
            "_view_count": null,
            "_view_module": "@jupyter-widgets/base",
            "_view_module_version": "1.2.0",
            "_view_name": "StyleView",
            "bar_color": null,
            "description_width": ""
          }
        },
        "816d047ffade43e5a068a40465f2b92f": {
          "model_module": "@jupyter-widgets/base",
          "model_name": "LayoutModel",
          "model_module_version": "1.2.0",
          "state": {
            "_model_module": "@jupyter-widgets/base",
            "_model_module_version": "1.2.0",
            "_model_name": "LayoutModel",
            "_view_count": null,
            "_view_module": "@jupyter-widgets/base",
            "_view_module_version": "1.2.0",
            "_view_name": "LayoutView",
            "align_content": null,
            "align_items": null,
            "align_self": null,
            "border": null,
            "bottom": null,
            "display": null,
            "flex": null,
            "flex_flow": null,
            "grid_area": null,
            "grid_auto_columns": null,
            "grid_auto_flow": null,
            "grid_auto_rows": null,
            "grid_column": null,
            "grid_gap": null,
            "grid_row": null,
            "grid_template_areas": null,
            "grid_template_columns": null,
            "grid_template_rows": null,
            "height": null,
            "justify_content": null,
            "justify_items": null,
            "left": null,
            "margin": null,
            "max_height": null,
            "max_width": null,
            "min_height": null,
            "min_width": null,
            "object_fit": null,
            "object_position": null,
            "order": null,
            "overflow": null,
            "overflow_x": null,
            "overflow_y": null,
            "padding": null,
            "right": null,
            "top": null,
            "visibility": null,
            "width": null
          }
        },
        "8cfad82b65d94d83a03786e8e3e23911": {
          "model_module": "@jupyter-widgets/controls",
          "model_name": "DescriptionStyleModel",
          "model_module_version": "1.5.0",
          "state": {
            "_model_module": "@jupyter-widgets/controls",
            "_model_module_version": "1.5.0",
            "_model_name": "DescriptionStyleModel",
            "_view_count": null,
            "_view_module": "@jupyter-widgets/base",
            "_view_module_version": "1.2.0",
            "_view_name": "StyleView",
            "description_width": ""
          }
        },
        "22fbfae495bd4eb886307b5bde7bd4dd": {
          "model_module": "@jupyter-widgets/controls",
          "model_name": "HBoxModel",
          "model_module_version": "1.5.0",
          "state": {
            "_dom_classes": [],
            "_model_module": "@jupyter-widgets/controls",
            "_model_module_version": "1.5.0",
            "_model_name": "HBoxModel",
            "_view_count": null,
            "_view_module": "@jupyter-widgets/controls",
            "_view_module_version": "1.5.0",
            "_view_name": "HBoxView",
            "box_style": "",
            "children": [
              "IPY_MODEL_216dfe5816be48a493fc22853f8029c0",
              "IPY_MODEL_b0d0a952b08c4b64823e4bc94045432e",
              "IPY_MODEL_c28a5224b1fc4e1f9d08cd7b7c4952a6"
            ],
            "layout": "IPY_MODEL_efd35f9dd9124978816506813eed0618"
          }
        },
        "216dfe5816be48a493fc22853f8029c0": {
          "model_module": "@jupyter-widgets/controls",
          "model_name": "HTMLModel",
          "model_module_version": "1.5.0",
          "state": {
            "_dom_classes": [],
            "_model_module": "@jupyter-widgets/controls",
            "_model_module_version": "1.5.0",
            "_model_name": "HTMLModel",
            "_view_count": null,
            "_view_module": "@jupyter-widgets/controls",
            "_view_module_version": "1.5.0",
            "_view_name": "HTMLView",
            "description": "",
            "description_tooltip": null,
            "layout": "IPY_MODEL_4620b2b64aaf4b45ba47dc139e58fa80",
            "placeholder": "​",
            "style": "IPY_MODEL_58117815ab7944b3967b71f9d868444e",
            "value": "model.safetensors: 100%"
          }
        },
        "b0d0a952b08c4b64823e4bc94045432e": {
          "model_module": "@jupyter-widgets/controls",
          "model_name": "FloatProgressModel",
          "model_module_version": "1.5.0",
          "state": {
            "_dom_classes": [],
            "_model_module": "@jupyter-widgets/controls",
            "_model_module_version": "1.5.0",
            "_model_name": "FloatProgressModel",
            "_view_count": null,
            "_view_module": "@jupyter-widgets/controls",
            "_view_module_version": "1.5.0",
            "_view_name": "ProgressView",
            "bar_style": "success",
            "description": "",
            "description_tooltip": null,
            "layout": "IPY_MODEL_e9c1f117ddd5465c809071031b4850e0",
            "max": 22883348,
            "min": 0,
            "orientation": "horizontal",
            "style": "IPY_MODEL_a2e98d391d2641d585e1142ceafafcf2",
            "value": 22883348
          }
        },
        "c28a5224b1fc4e1f9d08cd7b7c4952a6": {
          "model_module": "@jupyter-widgets/controls",
          "model_name": "HTMLModel",
          "model_module_version": "1.5.0",
          "state": {
            "_dom_classes": [],
            "_model_module": "@jupyter-widgets/controls",
            "_model_module_version": "1.5.0",
            "_model_name": "HTMLModel",
            "_view_count": null,
            "_view_module": "@jupyter-widgets/controls",
            "_view_module_version": "1.5.0",
            "_view_name": "HTMLView",
            "description": "",
            "description_tooltip": null,
            "layout": "IPY_MODEL_309cb125c54d40209789d02ed5941f6d",
            "placeholder": "​",
            "style": "IPY_MODEL_e04f93d4d5d6492382ef8810275760c2",
            "value": " 22.9M/22.9M [00:00&lt;00:00, 85.6MB/s]"
          }
        },
        "efd35f9dd9124978816506813eed0618": {
          "model_module": "@jupyter-widgets/base",
          "model_name": "LayoutModel",
          "model_module_version": "1.2.0",
          "state": {
            "_model_module": "@jupyter-widgets/base",
            "_model_module_version": "1.2.0",
            "_model_name": "LayoutModel",
            "_view_count": null,
            "_view_module": "@jupyter-widgets/base",
            "_view_module_version": "1.2.0",
            "_view_name": "LayoutView",
            "align_content": null,
            "align_items": null,
            "align_self": null,
            "border": null,
            "bottom": null,
            "display": null,
            "flex": null,
            "flex_flow": null,
            "grid_area": null,
            "grid_auto_columns": null,
            "grid_auto_flow": null,
            "grid_auto_rows": null,
            "grid_column": null,
            "grid_gap": null,
            "grid_row": null,
            "grid_template_areas": null,
            "grid_template_columns": null,
            "grid_template_rows": null,
            "height": null,
            "justify_content": null,
            "justify_items": null,
            "left": null,
            "margin": null,
            "max_height": null,
            "max_width": null,
            "min_height": null,
            "min_width": null,
            "object_fit": null,
            "object_position": null,
            "order": null,
            "overflow": null,
            "overflow_x": null,
            "overflow_y": null,
            "padding": null,
            "right": null,
            "top": null,
            "visibility": null,
            "width": null
          }
        },
        "4620b2b64aaf4b45ba47dc139e58fa80": {
          "model_module": "@jupyter-widgets/base",
          "model_name": "LayoutModel",
          "model_module_version": "1.2.0",
          "state": {
            "_model_module": "@jupyter-widgets/base",
            "_model_module_version": "1.2.0",
            "_model_name": "LayoutModel",
            "_view_count": null,
            "_view_module": "@jupyter-widgets/base",
            "_view_module_version": "1.2.0",
            "_view_name": "LayoutView",
            "align_content": null,
            "align_items": null,
            "align_self": null,
            "border": null,
            "bottom": null,
            "display": null,
            "flex": null,
            "flex_flow": null,
            "grid_area": null,
            "grid_auto_columns": null,
            "grid_auto_flow": null,
            "grid_auto_rows": null,
            "grid_column": null,
            "grid_gap": null,
            "grid_row": null,
            "grid_template_areas": null,
            "grid_template_columns": null,
            "grid_template_rows": null,
            "height": null,
            "justify_content": null,
            "justify_items": null,
            "left": null,
            "margin": null,
            "max_height": null,
            "max_width": null,
            "min_height": null,
            "min_width": null,
            "object_fit": null,
            "object_position": null,
            "order": null,
            "overflow": null,
            "overflow_x": null,
            "overflow_y": null,
            "padding": null,
            "right": null,
            "top": null,
            "visibility": null,
            "width": null
          }
        },
        "58117815ab7944b3967b71f9d868444e": {
          "model_module": "@jupyter-widgets/controls",
          "model_name": "DescriptionStyleModel",
          "model_module_version": "1.5.0",
          "state": {
            "_model_module": "@jupyter-widgets/controls",
            "_model_module_version": "1.5.0",
            "_model_name": "DescriptionStyleModel",
            "_view_count": null,
            "_view_module": "@jupyter-widgets/base",
            "_view_module_version": "1.2.0",
            "_view_name": "StyleView",
            "description_width": ""
          }
        },
        "e9c1f117ddd5465c809071031b4850e0": {
          "model_module": "@jupyter-widgets/base",
          "model_name": "LayoutModel",
          "model_module_version": "1.2.0",
          "state": {
            "_model_module": "@jupyter-widgets/base",
            "_model_module_version": "1.2.0",
            "_model_name": "LayoutModel",
            "_view_count": null,
            "_view_module": "@jupyter-widgets/base",
            "_view_module_version": "1.2.0",
            "_view_name": "LayoutView",
            "align_content": null,
            "align_items": null,
            "align_self": null,
            "border": null,
            "bottom": null,
            "display": null,
            "flex": null,
            "flex_flow": null,
            "grid_area": null,
            "grid_auto_columns": null,
            "grid_auto_flow": null,
            "grid_auto_rows": null,
            "grid_column": null,
            "grid_gap": null,
            "grid_row": null,
            "grid_template_areas": null,
            "grid_template_columns": null,
            "grid_template_rows": null,
            "height": null,
            "justify_content": null,
            "justify_items": null,
            "left": null,
            "margin": null,
            "max_height": null,
            "max_width": null,
            "min_height": null,
            "min_width": null,
            "object_fit": null,
            "object_position": null,
            "order": null,
            "overflow": null,
            "overflow_x": null,
            "overflow_y": null,
            "padding": null,
            "right": null,
            "top": null,
            "visibility": null,
            "width": null
          }
        },
        "a2e98d391d2641d585e1142ceafafcf2": {
          "model_module": "@jupyter-widgets/controls",
          "model_name": "ProgressStyleModel",
          "model_module_version": "1.5.0",
          "state": {
            "_model_module": "@jupyter-widgets/controls",
            "_model_module_version": "1.5.0",
            "_model_name": "ProgressStyleModel",
            "_view_count": null,
            "_view_module": "@jupyter-widgets/base",
            "_view_module_version": "1.2.0",
            "_view_name": "StyleView",
            "bar_color": null,
            "description_width": ""
          }
        },
        "309cb125c54d40209789d02ed5941f6d": {
          "model_module": "@jupyter-widgets/base",
          "model_name": "LayoutModel",
          "model_module_version": "1.2.0",
          "state": {
            "_model_module": "@jupyter-widgets/base",
            "_model_module_version": "1.2.0",
            "_model_name": "LayoutModel",
            "_view_count": null,
            "_view_module": "@jupyter-widgets/base",
            "_view_module_version": "1.2.0",
            "_view_name": "LayoutView",
            "align_content": null,
            "align_items": null,
            "align_self": null,
            "border": null,
            "bottom": null,
            "display": null,
            "flex": null,
            "flex_flow": null,
            "grid_area": null,
            "grid_auto_columns": null,
            "grid_auto_flow": null,
            "grid_auto_rows": null,
            "grid_column": null,
            "grid_gap": null,
            "grid_row": null,
            "grid_template_areas": null,
            "grid_template_columns": null,
            "grid_template_rows": null,
            "height": null,
            "justify_content": null,
            "justify_items": null,
            "left": null,
            "margin": null,
            "max_height": null,
            "max_width": null,
            "min_height": null,
            "min_width": null,
            "object_fit": null,
            "object_position": null,
            "order": null,
            "overflow": null,
            "overflow_x": null,
            "overflow_y": null,
            "padding": null,
            "right": null,
            "top": null,
            "visibility": null,
            "width": null
          }
        },
        "e04f93d4d5d6492382ef8810275760c2": {
          "model_module": "@jupyter-widgets/controls",
          "model_name": "DescriptionStyleModel",
          "model_module_version": "1.5.0",
          "state": {
            "_model_module": "@jupyter-widgets/controls",
            "_model_module_version": "1.5.0",
            "_model_name": "DescriptionStyleModel",
            "_view_count": null,
            "_view_module": "@jupyter-widgets/base",
            "_view_module_version": "1.2.0",
            "_view_name": "StyleView",
            "description_width": ""
          }
        }
      }
    }
  },
  "nbformat": 4,
  "nbformat_minor": 0
}